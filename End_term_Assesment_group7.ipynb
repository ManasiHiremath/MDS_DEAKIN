{
  "cells": [
    {
      "cell_type": "markdown",
      "metadata": {
        "id": "4oKf_fuZ3GW0"
      },
      "source": [
        "---\n",
        "- Course Name : SIT742- Modern Data Science\n",
        "- Assignment Name : End term Assignment\n",
        "- Student ID : s224923422\n",
        "- Developers name : Group7\n",
        "- Date : 15-September-2024\n",
        "---"
      ]
    },
    {
      "cell_type": "code",
      "execution_count": 1,
      "metadata": {
        "colab": {
          "base_uri": "https://localhost:8080/"
        },
        "id": "rz187bR43ASV",
        "outputId": "fcbd6a93-fe30-43c9-b709-7f6d055fbbbf"
      },
      "outputs": [
        {
          "name": "stdout",
          "output_type": "stream",
          "text": [
            "\r0% [Working]\r            \rHit:1 http://archive.ubuntu.com/ubuntu jammy InRelease\n",
            "\r0% [Waiting for headers] [Connecting to security.ubuntu.com (91.189.91.82)] [Connected to cloud.r-pr\r                                                                                                    \rGet:2 http://archive.ubuntu.com/ubuntu jammy-updates InRelease [128 kB]\n",
            "\r                                                                                                    \rGet:3 https://cloud.r-project.org/bin/linux/ubuntu jammy-cran40/ InRelease [3,626 B]\n",
            "\r                                                                                                    \rHit:4 https://developer.download.nvidia.com/compute/cuda/repos/ubuntu2204/x86_64  InRelease\n",
            "\r0% [2 InRelease 85.1 kB/128 kB 66%] [Connecting to security.ubuntu.com (91.189.91.82)] [Waiting for \r0% [Connecting to security.ubuntu.com (91.189.91.82)] [Waiting for headers] [Connected to ppa.launch\r                                                                                                    \rGet:5 http://archive.ubuntu.com/ubuntu jammy-backports InRelease [127 kB]\n",
            "\r0% [5 InRelease 5,484 B/127 kB 4%] [Connecting to security.ubuntu.com (91.189.91.82)] [Waiting for h\r                                                                                                    \rIgn:6 https://r2u.stat.illinois.edu/ubuntu jammy InRelease\n",
            "Get:7 https://r2u.stat.illinois.edu/ubuntu jammy Release [5,713 B]\n",
            "Get:8 https://r2u.stat.illinois.edu/ubuntu jammy Release.gpg [793 B]\n",
            "Get:9 http://security.ubuntu.com/ubuntu jammy-security InRelease [129 kB]\n",
            "Hit:10 https://ppa.launchpadcontent.net/deadsnakes/ppa/ubuntu jammy InRelease\n",
            "Hit:11 https://ppa.launchpadcontent.net/graphics-drivers/ppa/ubuntu jammy InRelease\n",
            "Get:12 https://cloud.r-project.org/bin/linux/ubuntu jammy-cran40/ Packages [57.5 kB]\n",
            "Hit:13 https://ppa.launchpadcontent.net/ubuntugis/ppa/ubuntu jammy InRelease\n",
            "Get:14 http://archive.ubuntu.com/ubuntu jammy-updates/universe amd64 Packages [1,439 kB]\n",
            "Get:15 http://archive.ubuntu.com/ubuntu jammy-updates/main amd64 Packages [2,541 kB]\n",
            "Get:16 http://archive.ubuntu.com/ubuntu jammy-updates/restricted amd64 Packages [3,108 kB]\n",
            "Get:17 http://archive.ubuntu.com/ubuntu jammy-backports/universe amd64 Packages [33.7 kB]\n",
            "Get:18 https://r2u.stat.illinois.edu/ubuntu jammy/main amd64 Packages [2,575 kB]\n",
            "Get:19 https://r2u.stat.illinois.edu/ubuntu jammy/main all Packages [8,310 kB]\n",
            "Get:20 http://security.ubuntu.com/ubuntu jammy-security/main amd64 Packages [2,267 kB]\n",
            "Get:21 http://security.ubuntu.com/ubuntu jammy-security/restricted amd64 Packages [3,030 kB]\n",
            "Get:22 http://security.ubuntu.com/ubuntu jammy-security/universe amd64 Packages [1,150 kB]\n",
            "Fetched 24.9 MB in 8s (3,163 kB/s)\n",
            "Reading package lists... Done\n",
            "W: Skipping acquire of configured file 'main/source/Sources' as repository 'https://r2u.stat.illinois.edu/ubuntu jammy InRelease' does not seem to provide it (sources.list entry misspelt?)\n"
          ]
        }
      ],
      "source": [
        "#update local version of the package catalog\n",
        "!apt-get update\n",
        "# install Java8\n",
        "!apt-get install openjdk-8-jdk-headless -qq > /dev/null\n",
        "# download spark 3.3.3\n",
        "!wget -q https://archive.apache.org/dist/spark/spark-3.3.3/spark-3.3.3-bin-hadoop3.tgz\n",
        "# unzip it\n",
        "!tar xf spark-3.3.3-bin-hadoop3.tgz\n",
        "# install findspark\n",
        "!pip install -q findspark\n",
        "\n",
        "import os\n",
        "os.environ[\"JAVA_HOME\"] = \"/usr/lib/jvm/java-8-openjdk-amd64\"\n",
        "os.environ[\"SPARK_HOME\"] = \"/content/spark-3.3.3-bin-hadoop3\"\n",
        "\n",
        "import findspark\n",
        "findspark.init()"
      ]
    },
    {
      "cell_type": "code",
      "execution_count": 2,
      "metadata": {
        "id": "I1baCFUA3NlB"
      },
      "outputs": [],
      "source": [
        "# from pyspark import SparkContext\n",
        "# from pyspark.sql import SQLContext\n",
        "# from pyspark.sql import Row\n",
        "from pyspark.sql import SparkSession\n",
        "from pyspark.sql.functions import col,isnan, when, count,regexp_replace\n",
        "from pyspark.sql.types import FloatType\n",
        "import requests\n",
        "import gzip\n",
        "import pandas as pd\n",
        "import os\n",
        "import matplotlib.pyplot as plt\n",
        "import seaborn as sns"
      ]
    },
    {
      "cell_type": "code",
      "execution_count": 3,
      "metadata": {
        "id": "7F5knEUd9ZEi"
      },
      "outputs": [],
      "source": [
        "# create a spark session\n",
        "spark = SparkSession.builder.getOrCreate()"
      ]
    },
    {
      "cell_type": "code",
      "execution_count": 7,
      "metadata": {
        "colab": {
          "base_uri": "https://localhost:8080/"
        },
        "id": "RSE2qkglE8-I",
        "outputId": "d099cd1c-53f9-4e51-d739-85e962f30d71"
      },
      "outputs": [
        {
          "name": "stdout",
          "output_type": "stream",
          "text": [
            "File already exist at transactionrecord.gz. Skipping download\n"
          ]
        }
      ],
      "source": [
        "# download file if it does not exist.\n",
        "\n",
        "def download_file_if_not_exists(url, save_path):\n",
        "  \"\"\" Download a file from URL if it doesnot exist at a given path\n",
        "  Input:\n",
        "  url: URL path of the file\n",
        "  save_path: path to save the file\n",
        "  output: if download if it does not exist else message\n",
        "  \"\"\"\n",
        "  # This condition download files from URL if its does not exist at a local path\n",
        "  if not os.path.exists(save_path):\n",
        "    print(f\"Downloading file from {url} to {save_path}\")\n",
        "    !wget {save_path} {url}\n",
        "  else:\n",
        "     # This condition skips download if file exists\n",
        "    print(f\"File already exist at {save_path}. Skipping download\")\n",
        "\n",
        "# Run above function to retrive transactionrecord file\n",
        "file_url = 'https://raw.githubusercontent.com/tulip-lab/sit742/develop/Assessment/2024/data/transactionrecord.gz'\n",
        "local_file_path = 'transactionrecord.gz'\n",
        "\n",
        "download_file_if_not_exists(file_url, local_file_path)"
      ]
    },
    {
      "cell_type": "code",
      "execution_count": 8,
      "metadata": {
        "colab": {
          "base_uri": "https://localhost:8080/"
        },
        "id": "XNoqYX5r76oC",
        "outputId": "b4afcef9-811e-40be-a1c7-9175c15028ab"
      },
      "outputs": [
        {
          "name": "stdout",
          "output_type": "stream",
          "text": [
            "df_spark is deleted\n",
            "Creating dataframe from input file-transactionrecord.gz\n",
            "schema of dataframe\n",
            "root\n",
            " |-- TransactionNo: string (nullable = true)\n",
            " |-- Date: string (nullable = true)\n",
            " |-- ProductNo: string (nullable = true)\n",
            " |-- ProductName: string (nullable = true)\n",
            " |-- Product_category: string (nullable = true)\n",
            " |-- Price: double (nullable = true)\n",
            " |-- Quantity: integer (nullable = true)\n",
            " |-- CustomerNo: integer (nullable = true)\n",
            " |-- Country: string (nullable = true)\n",
            "\n",
            "Check Sample observation\n",
            "+-------------+---------+---------+--------------------+----------------+-----+--------+----------+--------------+\n",
            "|TransactionNo|     Date|ProductNo|         ProductName|Product_category|Price|Quantity|CustomerNo|       Country|\n",
            "+-------------+---------+---------+--------------------+----------------+-----+--------+----------+--------------+\n",
            "|       581482|12/9/2019|    22485|Set Of 2 Wooden M...|             0ca|21.47|      12|     17490|United Kingdom|\n",
            "|       581475|12/9/2019|    22596|Christmas Star Wi...|             0ca|10.65|      36|     13069|United Kingdom|\n",
            "+-------------+---------+---------+--------------------+----------------+-----+--------+----------+--------------+\n",
            "only showing top 2 rows\n",
            "\n"
          ]
        }
      ],
      "source": [
        "# read input file using spark\n",
        "# delete if df_spark lready exist and create new dataframe with transaction record\n",
        "try:\n",
        "  del df_spark\n",
        "  print(\"df_spark is deleted\")\n",
        "except:\n",
        "  pass\n",
        "print(f\"Creating dataframe from input file-{save_path}\")\n",
        "df_spark = spark.read.csv(\"transactionrecord.gz\", header=True, inferSchema=True)\n",
        "# df_spark=spark.read.csv(\"transactionrecord.gz\", header=True, inferSchema=True)\n",
        "# check input dataframe schema\n",
        "print(\"schema of dataframe\")\n",
        "df_spark.printSchema()\n",
        "#check sample observations\n",
        "print(\"Check Sample observation\")\n",
        "df_spark.show(2)"
      ]
    },
    {
      "cell_type": "markdown",
      "metadata": {
        "id": "ATOhDj3KJFPs"
      },
      "source": [
        "**Question 1.1**"
      ]
    },
    {
      "cell_type": "markdown",
      "metadata": {
        "id": "WFSc9N0ZJJYb"
      },
      "source": [
        "**Answer 1.1.1**"
      ]
    },
    {
      "cell_type": "code",
      "execution_count": 9,
      "metadata": {
        "colab": {
          "base_uri": "https://localhost:8080/"
        },
        "id": "5tA5fOOHXQEN",
        "outputId": "9f2bad46-eba8-45df-adab-a1fc36123b66"
      },
      "outputs": [
        {
          "name": "stdout",
          "output_type": "stream",
          "text": [
            "+-------------+---------+---------+--------------------+----------------+-----+--------+----------+--------------+\n",
            "|TransactionNo|     Date|ProductNo|         ProductName|Product_category|Price|Quantity|CustomerNo|       Country|\n",
            "+-------------+---------+---------+--------------------+----------------+-----+--------+----------+--------------+\n",
            "|      C581406|12/8/2019|   46000M|Polyester Filler ...|             0ca| 6.19|    -240|        -1|United Kingdom|\n",
            "|      C581406|12/8/2019|   46000S|Polyester Filler ...|             0ca| 6.19|    -300|        -1|United Kingdom|\n",
            "+-------------+---------+---------+--------------------+----------------+-----+--------+----------+--------------+\n",
            "only showing top 2 rows\n",
            "\n"
          ]
        }
      ],
      "source": [
        "# replace \"NA\" values in CustomerNo with -1\n",
        "# check the columns with values \"NA\"\n",
        "df_spark = df_spark.withColumn(\"CustomerNo\", when(col(\"CustomerNO\")=='NA',-1).otherwise(col(\"CustomerNo\")))\n",
        "# checking dataframe after transformation\n",
        "df_spark.filter(df_spark.CustomerNo== -1).show(2)"
      ]
    },
    {
      "cell_type": "markdown",
      "metadata": {
        "id": "Yxcg2OI7ocOR"
      },
      "source": [
        "**Answer 1.1.2**"
      ]
    },
    {
      "cell_type": "code",
      "execution_count": 10,
      "metadata": {
        "colab": {
          "base_uri": "https://localhost:8080/"
        },
        "id": "yQprxwyFbfT0",
        "outputId": "d64c3e93-db8b-4bb0-b422-d195119a388f"
      },
      "outputs": [
        {
          "name": "stdout",
          "output_type": "stream",
          "text": [
            "Check product name column before creating columns\n",
            "+---------------------------------+\n",
            "|ProductName                      |\n",
            "+---------------------------------+\n",
            "|Parisienne Sewing Box            |\n",
            "|Pack Of 12 50'S Christmas Tissues|\n",
            "+---------------------------------+\n",
            "only showing top 2 rows\n",
            "\n",
            "+-----------------------------------+-----------------------------------+\n",
            "|ProductName                        |productName_process                |\n",
            "+-----------------------------------+-----------------------------------+\n",
            "|Set Of 2 Wooden Market Crates      |Set Of  Wooden Market Crates       |\n",
            "|Christmas Star Wish List Chalkboard|Christmas Star Wish List Chalkboard|\n",
            "|Storage Tin Vintage Leaf           |Storage Tin Vintage Leaf           |\n",
            "|Tree T-Light Holder Willie Winkie  |Tree T-Light Holder Willie Winkie  |\n",
            "|Set Of 4 Knick Knack Tins Poppies  |Set Of  Knick Knack Tins Poppies   |\n",
            "+-----------------------------------+-----------------------------------+\n",
            "only showing top 5 rows\n",
            "\n"
          ]
        }
      ],
      "source": [
        "# check productName values\n",
        "print(\"Check product name column before creating columns\")\n",
        "df_spark.select(\"ProductName\").distinct().show(2,truncate=False)\n",
        "# create productName_process by using only alphabates\n",
        "df_spark = df_spark.withColumn(\"productName_process\", regexp_replace(col(\"ProductName\"), r'(\\d+)', \"\"))\n",
        "df_spark.select(\"ProductName\",\"productName_process\").show(5,truncate=False)"
      ]
    },
    {
      "cell_type": "markdown",
      "metadata": {
        "id": "NJQNjCaMoeqQ"
      },
      "source": [
        "**Question 1.2**"
      ]
    },
    {
      "cell_type": "markdown",
      "metadata": {
        "id": "HIOkoOU4or6g"
      },
      "source": [
        "**Answer 1.2.1**"
      ]
    },
    {
      "cell_type": "code",
      "execution_count": 11,
      "metadata": {
        "colab": {
          "base_uri": "https://localhost:8080/"
        },
        "id": "SDcOw-K7pRNY",
        "outputId": "c063386f-1445-4c20-81e0-d17f905b5460"
      },
      "outputs": [
        {
          "name": "stdout",
          "output_type": "stream",
          "text": [
            "+-------------+---------+---------+--------------------+----------------+-----+--------+----------+--------------+--------------------+-------+\n",
            "|TransactionNo|     Date|ProductNo|         ProductName|Product_category|Price|Quantity|CustomerNo|       Country| productName_process|Revenue|\n",
            "+-------------+---------+---------+--------------------+----------------+-----+--------+----------+--------------+--------------------+-------+\n",
            "|       581482|12/9/2019|    22485|Set Of 2 Wooden M...|             0ca|21.47|      12|     17490|United Kingdom|Set Of  Wooden Ma...| 257.64|\n",
            "|       581475|12/9/2019|    22596|Christmas Star Wi...|             0ca|10.65|      36|     13069|United Kingdom|Christmas Star Wi...|  383.4|\n",
            "|       581475|12/9/2019|    23235|Storage Tin Vinta...|             0ca|11.53|      12|     13069|United Kingdom|Storage Tin Vinta...| 138.36|\n",
            "|       581475|12/9/2019|    23272|Tree T-Light Hold...|             0ca|10.65|      12|     13069|United Kingdom|Tree T-Light Hold...|  127.8|\n",
            "|       581475|12/9/2019|    23239|Set Of 4 Knick Kn...|             0ca|11.94|       6|     13069|United Kingdom|Set Of  Knick Kna...|  71.64|\n",
            "+-------------+---------+---------+--------------------+----------------+-----+--------+----------+--------------+--------------------+-------+\n",
            "only showing top 5 rows\n",
            "\n"
          ]
        }
      ],
      "source": [
        "# create new column Revenue using price and quantity\n",
        "df_spark= df_spark.withColumn(\"Revenue\", (col(\"Price\")* col(\"Quantity\")).cast(FloatType()))\n",
        "df_spark.show(5)"
      ]
    },
    {
      "cell_type": "markdown",
      "metadata": {
        "id": "EnJyxoXkqcvq"
      },
      "source": [
        "**Answer 1.2.2**"
      ]
    },
    {
      "cell_type": "code",
      "execution_count": 12,
      "metadata": {
        "colab": {
          "base_uri": "https://localhost:8080/",
          "height": 417
        },
        "id": "MzPVmmknU5ND",
        "outputId": "14933351-1f5d-4b13-fefb-8ef18145eefc"
      },
      "outputs": [
        {
          "data": {
            "application/vnd.google.colaboratory.intrinsic+json": {
              "type": "dataframe",
              "variable_name": "df"
            },
            "text/html": [
              "\n",
              "  <div id=\"df-a3246699-6968-4b24-8efa-f8e73ade555d\" class=\"colab-df-container\">\n",
              "    <div>\n",
              "<style scoped>\n",
              "    .dataframe tbody tr th:only-of-type {\n",
              "        vertical-align: middle;\n",
              "    }\n",
              "\n",
              "    .dataframe tbody tr th {\n",
              "        vertical-align: top;\n",
              "    }\n",
              "\n",
              "    .dataframe thead th {\n",
              "        text-align: right;\n",
              "    }\n",
              "</style>\n",
              "<table border=\"1\" class=\"dataframe\">\n",
              "  <thead>\n",
              "    <tr style=\"text-align: right;\">\n",
              "      <th></th>\n",
              "      <th>TransactionNo</th>\n",
              "      <th>Date</th>\n",
              "      <th>ProductNo</th>\n",
              "      <th>ProductName</th>\n",
              "      <th>Product_category</th>\n",
              "      <th>Price</th>\n",
              "      <th>Quantity</th>\n",
              "      <th>CustomerNo</th>\n",
              "      <th>Country</th>\n",
              "      <th>productName_process</th>\n",
              "      <th>Revenue</th>\n",
              "      <th>transaction_date</th>\n",
              "    </tr>\n",
              "  </thead>\n",
              "  <tbody>\n",
              "    <tr>\n",
              "      <th>0</th>\n",
              "      <td>581482</td>\n",
              "      <td>12/9/2019</td>\n",
              "      <td>22485</td>\n",
              "      <td>Set Of 2 Wooden Market Crates</td>\n",
              "      <td>0ca</td>\n",
              "      <td>21.47</td>\n",
              "      <td>12</td>\n",
              "      <td>17490</td>\n",
              "      <td>United Kingdom</td>\n",
              "      <td>Set Of  Wooden Market Crates</td>\n",
              "      <td>257.640015</td>\n",
              "      <td>2019-12-09</td>\n",
              "    </tr>\n",
              "    <tr>\n",
              "      <th>1</th>\n",
              "      <td>581475</td>\n",
              "      <td>12/9/2019</td>\n",
              "      <td>22596</td>\n",
              "      <td>Christmas Star Wish List Chalkboard</td>\n",
              "      <td>0ca</td>\n",
              "      <td>10.65</td>\n",
              "      <td>36</td>\n",
              "      <td>13069</td>\n",
              "      <td>United Kingdom</td>\n",
              "      <td>Christmas Star Wish List Chalkboard</td>\n",
              "      <td>383.399994</td>\n",
              "      <td>2019-12-09</td>\n",
              "    </tr>\n",
              "    <tr>\n",
              "      <th>2</th>\n",
              "      <td>581475</td>\n",
              "      <td>12/9/2019</td>\n",
              "      <td>23235</td>\n",
              "      <td>Storage Tin Vintage Leaf</td>\n",
              "      <td>0ca</td>\n",
              "      <td>11.53</td>\n",
              "      <td>12</td>\n",
              "      <td>13069</td>\n",
              "      <td>United Kingdom</td>\n",
              "      <td>Storage Tin Vintage Leaf</td>\n",
              "      <td>138.360001</td>\n",
              "      <td>2019-12-09</td>\n",
              "    </tr>\n",
              "    <tr>\n",
              "      <th>3</th>\n",
              "      <td>581475</td>\n",
              "      <td>12/9/2019</td>\n",
              "      <td>23272</td>\n",
              "      <td>Tree T-Light Holder Willie Winkie</td>\n",
              "      <td>0ca</td>\n",
              "      <td>10.65</td>\n",
              "      <td>12</td>\n",
              "      <td>13069</td>\n",
              "      <td>United Kingdom</td>\n",
              "      <td>Tree T-Light Holder Willie Winkie</td>\n",
              "      <td>127.800003</td>\n",
              "      <td>2019-12-09</td>\n",
              "    </tr>\n",
              "    <tr>\n",
              "      <th>4</th>\n",
              "      <td>581475</td>\n",
              "      <td>12/9/2019</td>\n",
              "      <td>23239</td>\n",
              "      <td>Set Of 4 Knick Knack Tins Poppies</td>\n",
              "      <td>0ca</td>\n",
              "      <td>11.94</td>\n",
              "      <td>6</td>\n",
              "      <td>13069</td>\n",
              "      <td>United Kingdom</td>\n",
              "      <td>Set Of  Knick Knack Tins Poppies</td>\n",
              "      <td>71.639999</td>\n",
              "      <td>2019-12-09</td>\n",
              "    </tr>\n",
              "  </tbody>\n",
              "</table>\n",
              "</div>\n",
              "    <div class=\"colab-df-buttons\">\n",
              "\n",
              "  <div class=\"colab-df-container\">\n",
              "    <button class=\"colab-df-convert\" onclick=\"convertToInteractive('df-a3246699-6968-4b24-8efa-f8e73ade555d')\"\n",
              "            title=\"Convert this dataframe to an interactive table.\"\n",
              "            style=\"display:none;\">\n",
              "\n",
              "  <svg xmlns=\"http://www.w3.org/2000/svg\" height=\"24px\" viewBox=\"0 -960 960 960\">\n",
              "    <path d=\"M120-120v-720h720v720H120Zm60-500h600v-160H180v160Zm220 220h160v-160H400v160Zm0 220h160v-160H400v160ZM180-400h160v-160H180v160Zm440 0h160v-160H620v160ZM180-180h160v-160H180v160Zm440 0h160v-160H620v160Z\"/>\n",
              "  </svg>\n",
              "    </button>\n",
              "\n",
              "  <style>\n",
              "    .colab-df-container {\n",
              "      display:flex;\n",
              "      gap: 12px;\n",
              "    }\n",
              "\n",
              "    .colab-df-convert {\n",
              "      background-color: #E8F0FE;\n",
              "      border: none;\n",
              "      border-radius: 50%;\n",
              "      cursor: pointer;\n",
              "      display: none;\n",
              "      fill: #1967D2;\n",
              "      height: 32px;\n",
              "      padding: 0 0 0 0;\n",
              "      width: 32px;\n",
              "    }\n",
              "\n",
              "    .colab-df-convert:hover {\n",
              "      background-color: #E2EBFA;\n",
              "      box-shadow: 0px 1px 2px rgba(60, 64, 67, 0.3), 0px 1px 3px 1px rgba(60, 64, 67, 0.15);\n",
              "      fill: #174EA6;\n",
              "    }\n",
              "\n",
              "    .colab-df-buttons div {\n",
              "      margin-bottom: 4px;\n",
              "    }\n",
              "\n",
              "    [theme=dark] .colab-df-convert {\n",
              "      background-color: #3B4455;\n",
              "      fill: #D2E3FC;\n",
              "    }\n",
              "\n",
              "    [theme=dark] .colab-df-convert:hover {\n",
              "      background-color: #434B5C;\n",
              "      box-shadow: 0px 1px 3px 1px rgba(0, 0, 0, 0.15);\n",
              "      filter: drop-shadow(0px 1px 2px rgba(0, 0, 0, 0.3));\n",
              "      fill: #FFFFFF;\n",
              "    }\n",
              "  </style>\n",
              "\n",
              "    <script>\n",
              "      const buttonEl =\n",
              "        document.querySelector('#df-a3246699-6968-4b24-8efa-f8e73ade555d button.colab-df-convert');\n",
              "      buttonEl.style.display =\n",
              "        google.colab.kernel.accessAllowed ? 'block' : 'none';\n",
              "\n",
              "      async function convertToInteractive(key) {\n",
              "        const element = document.querySelector('#df-a3246699-6968-4b24-8efa-f8e73ade555d');\n",
              "        const dataTable =\n",
              "          await google.colab.kernel.invokeFunction('convertToInteractive',\n",
              "                                                    [key], {});\n",
              "        if (!dataTable) return;\n",
              "\n",
              "        const docLinkHtml = 'Like what you see? Visit the ' +\n",
              "          '<a target=\"_blank\" href=https://colab.research.google.com/notebooks/data_table.ipynb>data table notebook</a>'\n",
              "          + ' to learn more about interactive tables.';\n",
              "        element.innerHTML = '';\n",
              "        dataTable['output_type'] = 'display_data';\n",
              "        await google.colab.output.renderOutput(dataTable, element);\n",
              "        const docLink = document.createElement('div');\n",
              "        docLink.innerHTML = docLinkHtml;\n",
              "        element.appendChild(docLink);\n",
              "      }\n",
              "    </script>\n",
              "  </div>\n",
              "\n",
              "\n",
              "<div id=\"df-85cd830d-d464-40d5-b1c6-84a0dafaf316\">\n",
              "  <button class=\"colab-df-quickchart\" onclick=\"quickchart('df-85cd830d-d464-40d5-b1c6-84a0dafaf316')\"\n",
              "            title=\"Suggest charts\"\n",
              "            style=\"display:none;\">\n",
              "\n",
              "<svg xmlns=\"http://www.w3.org/2000/svg\" height=\"24px\"viewBox=\"0 0 24 24\"\n",
              "     width=\"24px\">\n",
              "    <g>\n",
              "        <path d=\"M19 3H5c-1.1 0-2 .9-2 2v14c0 1.1.9 2 2 2h14c1.1 0 2-.9 2-2V5c0-1.1-.9-2-2-2zM9 17H7v-7h2v7zm4 0h-2V7h2v10zm4 0h-2v-4h2v4z\"/>\n",
              "    </g>\n",
              "</svg>\n",
              "  </button>\n",
              "\n",
              "<style>\n",
              "  .colab-df-quickchart {\n",
              "      --bg-color: #E8F0FE;\n",
              "      --fill-color: #1967D2;\n",
              "      --hover-bg-color: #E2EBFA;\n",
              "      --hover-fill-color: #174EA6;\n",
              "      --disabled-fill-color: #AAA;\n",
              "      --disabled-bg-color: #DDD;\n",
              "  }\n",
              "\n",
              "  [theme=dark] .colab-df-quickchart {\n",
              "      --bg-color: #3B4455;\n",
              "      --fill-color: #D2E3FC;\n",
              "      --hover-bg-color: #434B5C;\n",
              "      --hover-fill-color: #FFFFFF;\n",
              "      --disabled-bg-color: #3B4455;\n",
              "      --disabled-fill-color: #666;\n",
              "  }\n",
              "\n",
              "  .colab-df-quickchart {\n",
              "    background-color: var(--bg-color);\n",
              "    border: none;\n",
              "    border-radius: 50%;\n",
              "    cursor: pointer;\n",
              "    display: none;\n",
              "    fill: var(--fill-color);\n",
              "    height: 32px;\n",
              "    padding: 0;\n",
              "    width: 32px;\n",
              "  }\n",
              "\n",
              "  .colab-df-quickchart:hover {\n",
              "    background-color: var(--hover-bg-color);\n",
              "    box-shadow: 0 1px 2px rgba(60, 64, 67, 0.3), 0 1px 3px 1px rgba(60, 64, 67, 0.15);\n",
              "    fill: var(--button-hover-fill-color);\n",
              "  }\n",
              "\n",
              "  .colab-df-quickchart-complete:disabled,\n",
              "  .colab-df-quickchart-complete:disabled:hover {\n",
              "    background-color: var(--disabled-bg-color);\n",
              "    fill: var(--disabled-fill-color);\n",
              "    box-shadow: none;\n",
              "  }\n",
              "\n",
              "  .colab-df-spinner {\n",
              "    border: 2px solid var(--fill-color);\n",
              "    border-color: transparent;\n",
              "    border-bottom-color: var(--fill-color);\n",
              "    animation:\n",
              "      spin 1s steps(1) infinite;\n",
              "  }\n",
              "\n",
              "  @keyframes spin {\n",
              "    0% {\n",
              "      border-color: transparent;\n",
              "      border-bottom-color: var(--fill-color);\n",
              "      border-left-color: var(--fill-color);\n",
              "    }\n",
              "    20% {\n",
              "      border-color: transparent;\n",
              "      border-left-color: var(--fill-color);\n",
              "      border-top-color: var(--fill-color);\n",
              "    }\n",
              "    30% {\n",
              "      border-color: transparent;\n",
              "      border-left-color: var(--fill-color);\n",
              "      border-top-color: var(--fill-color);\n",
              "      border-right-color: var(--fill-color);\n",
              "    }\n",
              "    40% {\n",
              "      border-color: transparent;\n",
              "      border-right-color: var(--fill-color);\n",
              "      border-top-color: var(--fill-color);\n",
              "    }\n",
              "    60% {\n",
              "      border-color: transparent;\n",
              "      border-right-color: var(--fill-color);\n",
              "    }\n",
              "    80% {\n",
              "      border-color: transparent;\n",
              "      border-right-color: var(--fill-color);\n",
              "      border-bottom-color: var(--fill-color);\n",
              "    }\n",
              "    90% {\n",
              "      border-color: transparent;\n",
              "      border-bottom-color: var(--fill-color);\n",
              "    }\n",
              "  }\n",
              "</style>\n",
              "\n",
              "  <script>\n",
              "    async function quickchart(key) {\n",
              "      const quickchartButtonEl =\n",
              "        document.querySelector('#' + key + ' button');\n",
              "      quickchartButtonEl.disabled = true;  // To prevent multiple clicks.\n",
              "      quickchartButtonEl.classList.add('colab-df-spinner');\n",
              "      try {\n",
              "        const charts = await google.colab.kernel.invokeFunction(\n",
              "            'suggestCharts', [key], {});\n",
              "      } catch (error) {\n",
              "        console.error('Error during call to suggestCharts:', error);\n",
              "      }\n",
              "      quickchartButtonEl.classList.remove('colab-df-spinner');\n",
              "      quickchartButtonEl.classList.add('colab-df-quickchart-complete');\n",
              "    }\n",
              "    (() => {\n",
              "      let quickchartButtonEl =\n",
              "        document.querySelector('#df-85cd830d-d464-40d5-b1c6-84a0dafaf316 button');\n",
              "      quickchartButtonEl.style.display =\n",
              "        google.colab.kernel.accessAllowed ? 'block' : 'none';\n",
              "    })();\n",
              "  </script>\n",
              "</div>\n",
              "\n",
              "    </div>\n",
              "  </div>\n"
            ],
            "text/plain": [
              "  TransactionNo       Date ProductNo                          ProductName  \\\n",
              "0        581482  12/9/2019     22485        Set Of 2 Wooden Market Crates   \n",
              "1        581475  12/9/2019     22596  Christmas Star Wish List Chalkboard   \n",
              "2        581475  12/9/2019     23235             Storage Tin Vintage Leaf   \n",
              "3        581475  12/9/2019     23272    Tree T-Light Holder Willie Winkie   \n",
              "4        581475  12/9/2019     23239    Set Of 4 Knick Knack Tins Poppies   \n",
              "\n",
              "  Product_category  Price  Quantity  CustomerNo         Country  \\\n",
              "0              0ca  21.47        12       17490  United Kingdom   \n",
              "1              0ca  10.65        36       13069  United Kingdom   \n",
              "2              0ca  11.53        12       13069  United Kingdom   \n",
              "3              0ca  10.65        12       13069  United Kingdom   \n",
              "4              0ca  11.94         6       13069  United Kingdom   \n",
              "\n",
              "                   productName_process     Revenue transaction_date  \n",
              "0         Set Of  Wooden Market Crates  257.640015       2019-12-09  \n",
              "1  Christmas Star Wish List Chalkboard  383.399994       2019-12-09  \n",
              "2             Storage Tin Vintage Leaf  138.360001       2019-12-09  \n",
              "3    Tree T-Light Holder Willie Winkie  127.800003       2019-12-09  \n",
              "4     Set Of  Knick Knack Tins Poppies   71.639999       2019-12-09  "
            ]
          },
          "execution_count": 12,
          "metadata": {},
          "output_type": "execute_result"
        }
      ],
      "source": [
        "#convert spark dataframe to pandas dataframe\n",
        "df=df_spark.toPandas()\n",
        "#create transaction_date date variable with date format\n",
        "df['transaction_date'] = pd.to_datetime(df['Date'])\n",
        "# check first 5 observations\n",
        "df.head()"
      ]
    },
    {
      "cell_type": "markdown",
      "metadata": {
        "id": "lGRUp5VOrNkS"
      },
      "source": [
        "**Answer 1.2.3**"
      ]
    },
    {
      "cell_type": "code",
      "execution_count": 13,
      "metadata": {
        "colab": {
          "base_uri": "https://localhost:8080/",
          "height": 487
        },
        "id": "aAYjRuowq0qo",
        "outputId": "7ef6860b-3688-4359-e6d7-cf57250b76c2"
      },
      "outputs": [
        {
          "data": {
            "image/png": "[encoded data removed]",
            "text/plain": [
              "<Figure size 1200x500 with 1 Axes>"
            ]
          },
          "metadata": {},
          "output_type": "display_data"
        }
      ],
      "source": [
        "#Plot the sum of revenue on transaction_date in a line plot\n",
        "df_group=df.groupby(['transaction_date'],as_index=False)['Revenue'].sum()\n",
        "# plot the line plot\n",
        "fig,ax=plt.subplots(figsize=(12,5))\n",
        "ax=sns.lineplot(data=df_group, x='transaction_date',y='Revenue')\n",
        "ax.set_title(\"Total Revenue by Transaction Date\")\n",
        "ax.set_ylabel(\"Revenue (Millions)\")  # Set y-axis label\n",
        "ax.yaxis.set_major_formatter(lambda x, pos: f'{x / 1000000:.1f}M')\n",
        "plt.show()"
      ]
    },
    {
      "cell_type": "markdown",
      "metadata": {
        "id": "RjOnDl5CtTqx"
      },
      "source": [
        "**Summary**\n",
        "- Data shows increasing trend\n",
        "- Daily shows high variations, needs more investigation to check if this variation is due to weekends, holidays etc\n",
        "\n"
      ]
    },
    {
      "cell_type": "markdown",
      "metadata": {
        "id": "LTAtcNPzt_Lc"
      },
      "source": [
        "**Question 1.3**"
      ]
    },
    {
      "cell_type": "markdown",
      "metadata": {
        "id": "x_mruIR_vinO"
      },
      "source": [
        "**Answer 1.3.1**"
      ]
    },
    {
      "cell_type": "code",
      "execution_count": 33,
      "metadata": {
        "colab": {
          "base_uri": "https://localhost:8080/",
          "height": 487
        },
        "id": "pWdR-DSENpU2",
        "outputId": "bd90729d-6543-478b-c0bd-e0baada7b37a"
      },
      "outputs": [
        {
          "data": {
            "image/png": "[encoded data removed]",
            "text/plain": [
              "<Figure size 1200x500 with 1 Axes>"
            ]
          },
          "metadata": {},
          "output_type": "display_data"
        }
      ],
      "source": [
        "#create variable day of week\n",
        "df['day_of_week']=df['transaction_date'].dt.dayofweek\n",
        "#average revenue by day of week\n",
        "df_avg_revenue=df.groupby(['day_of_week'],as_index=False)['Revenue'].mean()\n",
        "#naming day of week 0-Monday to 6- Sunday\n",
        "day_names = [\n",
        "    \"Monday\",\n",
        "    \"Tuesday\",\n",
        "    \"Wednesday\",\n",
        "    \"Thursday\",\n",
        "    \"Friday\",\n",
        "    \"Saturday\",\n",
        "    \"Sunday\",\n",
        "]\n",
        "# mapping weekday name\n",
        "df_avg_revenue[\"day_of_week_name\"] = df_avg_revenue['day_of_week'].map(lambda x: day_names[x])\n",
        "\n",
        "# #Plot the sum of revenue on transaction_date in a line plot\n",
        "# plot the line plot\n",
        "fig,ax=plt.subplots(figsize=(12,5))\n",
        "ax=sns.lineplot(data=df_avg_revenue, x='day_of_week_name',y='Revenue',sort=True)\n",
        "ax.set_title(\"Average Revenue by day of week\")\n",
        "ax.set_ylabel(\"Average Revenue\")  # Set y-axis label\n",
        "ax.set_xlabel(\"Day of Week\")\n",
        "plt.show()"
      ]
    },
    {
      "cell_type": "markdown",
      "metadata": {
        "id": "kP8XuBW7wC22"
      },
      "source": [
        "**Answer 1.3.2**"
      ]
    },
    {
      "cell_type": "code",
      "execution_count": 34,
      "metadata": {
        "colab": {
          "base_uri": "https://localhost:8080/"
        },
        "id": "ZjIyS4EKx3iN",
        "outputId": "0f5ac40b-b3a7-41af-a13a-2711deede498"
      },
      "outputs": [
        {
          "data": {
            "text/plain": [
              "Index(['TransactionNo', 'Date', 'ProductNo', 'ProductName', 'Product_category',\n",
              "       'Price', 'Quantity', 'CustomerNo', 'Country', 'productName_process',\n",
              "       'Revenue', 'transaction_date', 'day_of_week', 'day_name'],\n",
              "      dtype='object')"
            ]
          },
          "execution_count": 34,
          "metadata": {},
          "output_type": "execute_result"
        }
      ],
      "source": [
        "df.columns"
      ]
    },
    {
      "cell_type": "code",
      "execution_count": 40,
      "metadata": {
        "colab": {
          "base_uri": "https://localhost:8080/",
          "height": 423
        },
        "id": "Eejb3e30uz_X",
        "outputId": "dff5aa9b-21c5-4ee6-eb29-3811c66d8b66"
      },
      "outputs": [
        {
          "data": {
            "application/vnd.google.colaboratory.intrinsic+json": {
              "summary": "{\n  \"name\": \"df_prod_rev\",\n  \"rows\": 19975,\n  \"fields\": [\n    {\n      \"column\": \"day_of_week\",\n      \"properties\": {\n        \"dtype\": \"int32\",\n        \"num_unique_values\": 6,\n        \"samples\": [\n          6,\n          5,\n          0\n        ],\n        \"semantic_type\": \"\",\n        \"description\": \"\"\n      }\n    },\n    {\n      \"column\": \"productName_process\",\n      \"properties\": {\n        \"dtype\": \"category\",\n        \"num_unique_values\": 3719,\n        \"samples\": [\n          \"Set  Paper Vintage Chick Paper Egg\",\n          \"Pink Crystal+Glass Bracelet\",\n          \"Retrospot Lamp\"\n        ],\n        \"semantic_type\": \"\",\n        \"description\": \"\"\n      }\n    },\n    {\n      \"column\": \"Revenue\",\n      \"properties\": {\n        \"dtype\": \"float32\",\n        \"num_unique_values\": 17157,\n        \"samples\": [\n          71025.1015625,\n          928.5599975585938,\n          209.0900115966797\n        ],\n        \"semantic_type\": \"\",\n        \"description\": \"\"\n      }\n    }\n  ]\n}",
              "type": "dataframe"
            },
            "text/html": [
              "\n",
              "  <div id=\"df-0709e0aa-240e-4bf1-8528-d8494736b571\" class=\"colab-df-container\">\n",
              "    <div>\n",
              "<style scoped>\n",
              "    .dataframe tbody tr th:only-of-type {\n",
              "        vertical-align: middle;\n",
              "    }\n",
              "\n",
              "    .dataframe tbody tr th {\n",
              "        vertical-align: top;\n",
              "    }\n",
              "\n",
              "    .dataframe thead th {\n",
              "        text-align: right;\n",
              "    }\n",
              "</style>\n",
              "<table border=\"1\" class=\"dataframe\">\n",
              "  <thead>\n",
              "    <tr style=\"text-align: right;\">\n",
              "      <th></th>\n",
              "      <th>day_of_week</th>\n",
              "      <th>productName_process</th>\n",
              "      <th>Revenue</th>\n",
              "    </tr>\n",
              "  </thead>\n",
              "  <tbody>\n",
              "    <tr>\n",
              "      <th>19888</th>\n",
              "      <td>6</td>\n",
              "      <td>World War  Gliders Asstd Designs</td>\n",
              "      <td>187081.343750</td>\n",
              "    </tr>\n",
              "    <tr>\n",
              "      <th>16804</th>\n",
              "      <td>6</td>\n",
              "      <td>Assorted Colour Bird Ornament</td>\n",
              "      <td>132705.609375</td>\n",
              "    </tr>\n",
              "    <tr>\n",
              "      <th>18805</th>\n",
              "      <td>6</td>\n",
              "      <td>Popcorn Holder</td>\n",
              "      <td>117119.632812</td>\n",
              "    </tr>\n",
              "    <tr>\n",
              "      <th>17361</th>\n",
              "      <td>6</td>\n",
              "      <td>Cream Hanging Heart T-Light Holder</td>\n",
              "      <td>108240.867188</td>\n",
              "    </tr>\n",
              "    <tr>\n",
              "      <th>18348</th>\n",
              "      <td>6</td>\n",
              "      <td>Mini Paint Set Vintage</td>\n",
              "      <td>100676.757812</td>\n",
              "    </tr>\n",
              "    <tr>\n",
              "      <th>...</th>\n",
              "      <td>...</td>\n",
              "      <td>...</td>\n",
              "      <td>...</td>\n",
              "    </tr>\n",
              "    <tr>\n",
              "      <th>2757</th>\n",
              "      <td>0</td>\n",
              "      <td>Small Glass Sundae Dish Clear</td>\n",
              "      <td>-84.480011</td>\n",
              "    </tr>\n",
              "    <tr>\n",
              "      <th>1934</th>\n",
              "      <td>0</td>\n",
              "      <td>Paper Lantern  Point Star Moon</td>\n",
              "      <td>-87.000000</td>\n",
              "    </tr>\n",
              "    <tr>\n",
              "      <th>2077</th>\n",
              "      <td>0</td>\n",
              "      <td>Pink Metal Chicken Heart</td>\n",
              "      <td>-257.779999</td>\n",
              "    </tr>\n",
              "    <tr>\n",
              "      <th>1296</th>\n",
              "      <td>0</td>\n",
              "      <td>Hanging Bauble T-Light Holder Small</td>\n",
              "      <td>-315.219971</td>\n",
              "    </tr>\n",
              "    <tr>\n",
              "      <th>2378</th>\n",
              "      <td>0</td>\n",
              "      <td>Rose  Wick Morris Boxed Candle</td>\n",
              "      <td>-1376.760010</td>\n",
              "    </tr>\n",
              "  </tbody>\n",
              "</table>\n",
              "<p>19975 rows × 3 columns</p>\n",
              "</div>\n",
              "    <div class=\"colab-df-buttons\">\n",
              "\n",
              "  <div class=\"colab-df-container\">\n",
              "    <button class=\"colab-df-convert\" onclick=\"convertToInteractive('df-0709e0aa-240e-4bf1-8528-d8494736b571')\"\n",
              "            title=\"Convert this dataframe to an interactive table.\"\n",
              "            style=\"display:none;\">\n",
              "\n",
              "  <svg xmlns=\"http://www.w3.org/2000/svg\" height=\"24px\" viewBox=\"0 -960 960 960\">\n",
              "    <path d=\"M120-120v-720h720v720H120Zm60-500h600v-160H180v160Zm220 220h160v-160H400v160Zm0 220h160v-160H400v160ZM180-400h160v-160H180v160Zm440 0h160v-160H620v160ZM180-180h160v-160H180v160Zm440 0h160v-160H620v160Z\"/>\n",
              "  </svg>\n",
              "    </button>\n",
              "\n",
              "  <style>\n",
              "    .colab-df-container {\n",
              "      display:flex;\n",
              "      gap: 12px;\n",
              "    }\n",
              "\n",
              "    .colab-df-convert {\n",
              "      background-color: #E8F0FE;\n",
              "      border: none;\n",
              "      border-radius: 50%;\n",
              "      cursor: pointer;\n",
              "      display: none;\n",
              "      fill: #1967D2;\n",
              "      height: 32px;\n",
              "      padding: 0 0 0 0;\n",
              "      width: 32px;\n",
              "    }\n",
              "\n",
              "    .colab-df-convert:hover {\n",
              "      background-color: #E2EBFA;\n",
              "      box-shadow: 0px 1px 2px rgba(60, 64, 67, 0.3), 0px 1px 3px 1px rgba(60, 64, 67, 0.15);\n",
              "      fill: #174EA6;\n",
              "    }\n",
              "\n",
              "    .colab-df-buttons div {\n",
              "      margin-bottom: 4px;\n",
              "    }\n",
              "\n",
              "    [theme=dark] .colab-df-convert {\n",
              "      background-color: #3B4455;\n",
              "      fill: #D2E3FC;\n",
              "    }\n",
              "\n",
              "    [theme=dark] .colab-df-convert:hover {\n",
              "      background-color: #434B5C;\n",
              "      box-shadow: 0px 1px 3px 1px rgba(0, 0, 0, 0.15);\n",
              "      filter: drop-shadow(0px 1px 2px rgba(0, 0, 0, 0.3));\n",
              "      fill: #FFFFFF;\n",
              "    }\n",
              "  </style>\n",
              "\n",
              "    <script>\n",
              "      const buttonEl =\n",
              "        document.querySelector('#df-0709e0aa-240e-4bf1-8528-d8494736b571 button.colab-df-convert');\n",
              "      buttonEl.style.display =\n",
              "        google.colab.kernel.accessAllowed ? 'block' : 'none';\n",
              "\n",
              "      async function convertToInteractive(key) {\n",
              "        const element = document.querySelector('#df-0709e0aa-240e-4bf1-8528-d8494736b571');\n",
              "        const dataTable =\n",
              "          await google.colab.kernel.invokeFunction('convertToInteractive',\n",
              "                                                    [key], {});\n",
              "        if (!dataTable) return;\n",
              "\n",
              "        const docLinkHtml = 'Like what you see? Visit the ' +\n",
              "          '<a target=\"_blank\" href=https://colab.research.google.com/notebooks/data_table.ipynb>data table notebook</a>'\n",
              "          + ' to learn more about interactive tables.';\n",
              "        element.innerHTML = '';\n",
              "        dataTable['output_type'] = 'display_data';\n",
              "        await google.colab.output.renderOutput(dataTable, element);\n",
              "        const docLink = document.createElement('div');\n",
              "        docLink.innerHTML = docLinkHtml;\n",
              "        element.appendChild(docLink);\n",
              "      }\n",
              "    </script>\n",
              "  </div>\n",
              "\n",
              "\n",
              "<div id=\"df-9e869c90-4f6d-4445-9d65-7aceb185fb94\">\n",
              "  <button class=\"colab-df-quickchart\" onclick=\"quickchart('df-9e869c90-4f6d-4445-9d65-7aceb185fb94')\"\n",
              "            title=\"Suggest charts\"\n",
              "            style=\"display:none;\">\n",
              "\n",
              "<svg xmlns=\"http://www.w3.org/2000/svg\" height=\"24px\"viewBox=\"0 0 24 24\"\n",
              "     width=\"24px\">\n",
              "    <g>\n",
              "        <path d=\"M19 3H5c-1.1 0-2 .9-2 2v14c0 1.1.9 2 2 2h14c1.1 0 2-.9 2-2V5c0-1.1-.9-2-2-2zM9 17H7v-7h2v7zm4 0h-2V7h2v10zm4 0h-2v-4h2v4z\"/>\n",
              "    </g>\n",
              "</svg>\n",
              "  </button>\n",
              "\n",
              "<style>\n",
              "  .colab-df-quickchart {\n",
              "      --bg-color: #E8F0FE;\n",
              "      --fill-color: #1967D2;\n",
              "      --hover-bg-color: #E2EBFA;\n",
              "      --hover-fill-color: #174EA6;\n",
              "      --disabled-fill-color: #AAA;\n",
              "      --disabled-bg-color: #DDD;\n",
              "  }\n",
              "\n",
              "  [theme=dark] .colab-df-quickchart {\n",
              "      --bg-color: #3B4455;\n",
              "      --fill-color: #D2E3FC;\n",
              "      --hover-bg-color: #434B5C;\n",
              "      --hover-fill-color: #FFFFFF;\n",
              "      --disabled-bg-color: #3B4455;\n",
              "      --disabled-fill-color: #666;\n",
              "  }\n",
              "\n",
              "  .colab-df-quickchart {\n",
              "    background-color: var(--bg-color);\n",
              "    border: none;\n",
              "    border-radius: 50%;\n",
              "    cursor: pointer;\n",
              "    display: none;\n",
              "    fill: var(--fill-color);\n",
              "    height: 32px;\n",
              "    padding: 0;\n",
              "    width: 32px;\n",
              "  }\n",
              "\n",
              "  .colab-df-quickchart:hover {\n",
              "    background-color: var(--hover-bg-color);\n",
              "    box-shadow: 0 1px 2px rgba(60, 64, 67, 0.3), 0 1px 3px 1px rgba(60, 64, 67, 0.15);\n",
              "    fill: var(--button-hover-fill-color);\n",
              "  }\n",
              "\n",
              "  .colab-df-quickchart-complete:disabled,\n",
              "  .colab-df-quickchart-complete:disabled:hover {\n",
              "    background-color: var(--disabled-bg-color);\n",
              "    fill: var(--disabled-fill-color);\n",
              "    box-shadow: none;\n",
              "  }\n",
              "\n",
              "  .colab-df-spinner {\n",
              "    border: 2px solid var(--fill-color);\n",
              "    border-color: transparent;\n",
              "    border-bottom-color: var(--fill-color);\n",
              "    animation:\n",
              "      spin 1s steps(1) infinite;\n",
              "  }\n",
              "\n",
              "  @keyframes spin {\n",
              "    0% {\n",
              "      border-color: transparent;\n",
              "      border-bottom-color: var(--fill-color);\n",
              "      border-left-color: var(--fill-color);\n",
              "    }\n",
              "    20% {\n",
              "      border-color: transparent;\n",
              "      border-left-color: var(--fill-color);\n",
              "      border-top-color: var(--fill-color);\n",
              "    }\n",
              "    30% {\n",
              "      border-color: transparent;\n",
              "      border-left-color: var(--fill-color);\n",
              "      border-top-color: var(--fill-color);\n",
              "      border-right-color: var(--fill-color);\n",
              "    }\n",
              "    40% {\n",
              "      border-color: transparent;\n",
              "      border-right-color: var(--fill-color);\n",
              "      border-top-color: var(--fill-color);\n",
              "    }\n",
              "    60% {\n",
              "      border-color: transparent;\n",
              "      border-right-color: var(--fill-color);\n",
              "    }\n",
              "    80% {\n",
              "      border-color: transparent;\n",
              "      border-right-color: var(--fill-color);\n",
              "      border-bottom-color: var(--fill-color);\n",
              "    }\n",
              "    90% {\n",
              "      border-color: transparent;\n",
              "      border-bottom-color: var(--fill-color);\n",
              "    }\n",
              "  }\n",
              "</style>\n",
              "\n",
              "  <script>\n",
              "    async function quickchart(key) {\n",
              "      const quickchartButtonEl =\n",
              "        document.querySelector('#' + key + ' button');\n",
              "      quickchartButtonEl.disabled = true;  // To prevent multiple clicks.\n",
              "      quickchartButtonEl.classList.add('colab-df-spinner');\n",
              "      try {\n",
              "        const charts = await google.colab.kernel.invokeFunction(\n",
              "            'suggestCharts', [key], {});\n",
              "      } catch (error) {\n",
              "        console.error('Error during call to suggestCharts:', error);\n",
              "      }\n",
              "      quickchartButtonEl.classList.remove('colab-df-spinner');\n",
              "      quickchartButtonEl.classList.add('colab-df-quickchart-complete');\n",
              "    }\n",
              "    (() => {\n",
              "      let quickchartButtonEl =\n",
              "        document.querySelector('#df-9e869c90-4f6d-4445-9d65-7aceb185fb94 button');\n",
              "      quickchartButtonEl.style.display =\n",
              "        google.colab.kernel.accessAllowed ? 'block' : 'none';\n",
              "    })();\n",
              "  </script>\n",
              "</div>\n",
              "\n",
              "    </div>\n",
              "  </div>\n"
            ],
            "text/plain": [
              "       day_of_week                  productName_process        Revenue\n",
              "19888            6     World War  Gliders Asstd Designs  187081.343750\n",
              "16804            6        Assorted Colour Bird Ornament  132705.609375\n",
              "18805            6                       Popcorn Holder  117119.632812\n",
              "17361            6   Cream Hanging Heart T-Light Holder  108240.867188\n",
              "18348            6               Mini Paint Set Vintage  100676.757812\n",
              "...            ...                                  ...            ...\n",
              "2757             0        Small Glass Sundae Dish Clear     -84.480011\n",
              "1934             0       Paper Lantern  Point Star Moon     -87.000000\n",
              "2077             0             Pink Metal Chicken Heart    -257.779999\n",
              "1296             0  Hanging Bauble T-Light Holder Small    -315.219971\n",
              "2378             0       Rose  Wick Morris Boxed Candle   -1376.760010\n",
              "\n",
              "[19975 rows x 3 columns]"
            ]
          },
          "execution_count": 40,
          "metadata": {},
          "output_type": "execute_result"
        }
      ],
      "source": [
        "df_prod_rev=df.groupby(['day_of_week','productName_process'],as_index=False)['Revenue'].sum()\n",
        "df_prod_rev.sort_values(['day_of_week','Revenue'], ascending=False)"
      ]
    },
    {
      "cell_type": "code",
      "execution_count": 41,
      "metadata": {
        "colab": {
          "base_uri": "https://localhost:8080/"
        },
        "id": "KVhjeBIKx-_k",
        "outputId": "12d73c6f-be5a-4b49-8186-d2569b2981a1"
      },
      "outputs": [
        {
          "name": "stdout",
          "output_type": "stream",
          "text": [
            "The product with the highest revenue on the workday with the highest average revenue (6) is: World War  Gliders Asstd Designs\n",
            "The product with the highest sales volume on the workday with the highest average revenue (6) is: World War  Gliders Asstd Designs\n"
          ]
        }
      ],
      "source": [
        "# prompt:  Identify the name of product (column productName_process) that contributes the highest revenue\n",
        "# on ‘that workday’ (you need to find out from 1.3.1) and the name of product (column\n",
        "# productName_process) that has the highest sales volume (sum of the Quantity), no need to remove\n",
        "# negative quantity transactions.) on ‘that workday’ (you need to find out from 1.3.1).\n",
        "\n",
        "# Find the workday with the highest average revenue from df_avg_revenue\n",
        "highest_revenue_day = df_avg_revenue.loc[df_avg_revenue['Revenue'].idxmax()]['day_of_week']\n",
        "\n",
        "# Filter the original DataFrame (df) for the workday with the highest average revenue\n",
        "df_highest_revenue_day = df[df['day_of_week'] == highest_revenue_day]\n",
        "\n",
        "# Group by product name and sum revenue to find the product with the highest revenue on that day\n",
        "highest_revenue_product = df_highest_revenue_day.groupby('productName_process')['Revenue'].sum().idxmax()\n",
        "\n",
        "# Group by product name and sum quantity to find the product with the highest sales volume on that day\n",
        "highest_sales_volume_product = df_highest_revenue_day.groupby('productName_process')['Quantity'].sum().idxmax()\n",
        "\n",
        "print(f\"The product with the highest revenue on the workday with the highest average revenue ({highest_revenue_day}) is: {highest_revenue_product}\")\n",
        "print(f\"The product with the highest sales volume on the workday with the highest average revenue ({highest_revenue_day}) is: {highest_sales_volume_product}\")\n"
      ]
    },
    {
      "cell_type": "code",
      "execution_count": null,
      "metadata": {
        "id": "a-naucmszHG7"
      },
      "outputs": [],
      "source": []
    }
  ],
  "metadata": {
    "colab": {
      "provenance": []
    },
    "kernelspec": {
      "display_name": "Python 3",
      "name": "python3"
    },
    "language_info": {
      "name": "python"
    }
  },
  "nbformat": 4,
  "nbformat_minor": 0
}
