{
  "nbformat": 4,
  "nbformat_minor": 0,
  "metadata": {
    "colab": {
      "provenance": []
    },
    "kernelspec": {
      "name": "python3",
      "display_name": "Python 3"
    },
    "language_info": {
      "name": "python"
    }
  },
  "cells": [
    {
      "cell_type": "markdown",
      "source": [
        "---\n",
        "- Course Name : SIT742- Modern Data Science\n",
        "- Assignment Name : End term Assignment\n",
        "- Student ID : s224923422\n",
        "- Developers name : Group7\n",
        "- Date : 15-September-2024\n",
        "---"
      ],
      "metadata": {
        "id": "nrWqvTmcF7ia"
      }
    },
    {
      "cell_type": "code",
      "execution_count": 202,
      "metadata": {
        "id": "tQPwfQ3BBH1b"
      },
      "outputs": [],
      "source": [
        "# !sudo apt update\n",
        "# !apt-get install openjdk-8-jdk-headless -qq > /dev/null\n",
        "# #Check this site for the latest download link https://www.apache.org/dyn/closer.lua/spark/spark-3.2.1/spark-3.2.1-bin-hadoop3.2.tgz\n",
        "# !wget -q https://dlcdn.apache.org/spark/spark-3.2.1/spark-3.2.1-bin-hadoop3.2.tgz\n",
        "# !tar xf spark-3.2.1-bin-hadoop3.2.tgz\n",
        "# !pip install -q findspark\n",
        "# !pip install pyspark\n",
        "# !pip install py4j\n",
        "\n",
        "# import os\n",
        "# import sys\n",
        "# # os.environ[\"JAVA_HOME\"] = \"/usr/lib/jvm/java-8-openjdk-amd64\"\n",
        "# # os.environ[\"SPARK_HOME\"] = \"/content/spark-3.2.1-bin-hadoop3.2\"\n",
        "\n",
        "\n",
        "# import findspark\n",
        "# findspark.init()\n",
        "# findspark.find()\n",
        "\n",
        "# import pyspark\n",
        "\n",
        "# from pyspark.sql import DataFrame, SparkSession\n",
        "# from typing import List\n",
        "# import pyspark.sql.types as T\n",
        "# import pyspark.sql.functions as F\n",
        "\n",
        "# spark= SparkSession \\\n",
        "#        .builder \\\n",
        "#        .appName(\"Our First Spark Example\") \\\n",
        "#        .getOrCreate()\n",
        "\n",
        "# spark"
      ]
    },
    {
      "cell_type": "code",
      "source": [
        "!pip install -q findspark\n",
        "!pip install pyspark\n",
        "!pip install py4j\n",
        "\n",
        "import os\n",
        "import sys\n",
        "# os.environ[\"JAVA_HOME\"] = \"/usr/lib/jvm/java-8-openjdk-amd64\"\n",
        "# os.environ[\"SPARK_HOME\"] = \"/content/spark-3.2.1-bin-hadoop3.2\"\n",
        "import findspark\n",
        "findspark.init()\n",
        "findspark.find()\n",
        "import pyspark\n",
        "\n",
        "from pyspark.sql import DataFrame, SparkSession\n",
        "from typing import List\n",
        "import pyspark.sql.types as T\n",
        "import pyspark.sql.functions as F\n",
        "\n",
        "spark= SparkSession \\\n",
        "        .builder \\\n",
        "       .appName(\"Our First Spark Example\") \\\n",
        "       .getOrCreate()\n",
        "\n",
        "spark"
      ],
      "metadata": {
        "colab": {
          "base_uri": "https://localhost:8080/",
          "height": 276
        },
        "id": "fmHM5dWaP9qa",
        "outputId": "82098b91-2a7d-4b04-a60c-082717becc59"
      },
      "execution_count": 203,
      "outputs": [
        {
          "output_type": "stream",
          "name": "stdout",
          "text": [
            "Requirement already satisfied: pyspark in /usr/local/lib/python3.10/dist-packages (3.5.3)\n",
            "Requirement already satisfied: py4j==0.10.9.7 in /usr/local/lib/python3.10/dist-packages (from pyspark) (0.10.9.7)\n",
            "Requirement already satisfied: py4j in /usr/local/lib/python3.10/dist-packages (0.10.9.7)\n"
          ]
        },
        {
          "output_type": "execute_result",
          "data": {
            "text/plain": [
              "<pyspark.sql.session.SparkSession at 0x7d300ec721d0>"
            ],
            "text/html": [
              "\n",
              "            <div>\n",
              "                <p><b>SparkSession - in-memory</b></p>\n",
              "                \n",
              "        <div>\n",
              "            <p><b>SparkContext</b></p>\n",
              "\n",
              "            <p><a href=\"http://a16927347486:4040\">Spark UI</a></p>\n",
              "\n",
              "            <dl>\n",
              "              <dt>Version</dt>\n",
              "                <dd><code>v3.5.3</code></dd>\n",
              "              <dt>Master</dt>\n",
              "                <dd><code>local[*]</code></dd>\n",
              "              <dt>AppName</dt>\n",
              "                <dd><code>Our First Spark Example</code></dd>\n",
              "            </dl>\n",
              "        </div>\n",
              "        \n",
              "            </div>\n",
              "        "
            ]
          },
          "metadata": {},
          "execution_count": 203
        }
      ]
    },
    {
      "cell_type": "code",
      "source": [
        "# !pip install \"statsmodels==0.11.1\""
      ],
      "metadata": {
        "id": "8xfZsqbCbTS_"
      },
      "execution_count": 204,
      "outputs": []
    },
    {
      "cell_type": "code",
      "source": [
        "from pyspark import SparkContext\n",
        "from pyspark.sql import SQLContext\n",
        "from pyspark.sql import Row\n",
        "from pyspark.sql import SparkSession\n",
        "from pyspark.sql.functions import col,isnan, when, count,regexp_replace\n",
        "from pyspark.sql.types import FloatType\n",
        "import requests\n",
        "import gzip\n",
        "import pandas as pd\n",
        "import os\n",
        "import matplotlib.pyplot as plt\n",
        "import seaborn as sns\n",
        "import textwrap\n",
        "from sklearn.metrics.pairwise import euclidean_distances\n",
        "from statsmodels.tsa.seasonal import seasonal_decompose\n",
        "from statsmodels.tsa.stattools import adfuller\n",
        "from statsmodels.tsa.arima.model import ARIMA\n",
        "from sklearn.metrics import mean_absolute_error\n",
        "import warnings\n",
        "warnings.filterwarnings(\"ignore\")\n",
        "\n",
        "\n",
        "# Set the display option to suppress scientific notation\n",
        "pd.set_option('display.float_format', '{:.2f}'.format)\n"
      ],
      "metadata": {
        "id": "Efl6d0QCBJQe"
      },
      "execution_count": 205,
      "outputs": []
    },
    {
      "cell_type": "code",
      "source": [
        "# download file if it does not exist.\n",
        "\n",
        "def download_file_if_not_exists(url, save_path):\n",
        "  \"\"\" Download a file from URL if it doesnot exist at a given path\n",
        "  Input:\n",
        "  url: URL path of the file\n",
        "  save_path: path to save the file\n",
        "  output: if download if it does not exist else message\n",
        "  \"\"\"\n",
        "  # This condition download files from URL if its does not exist at a local path\n",
        "  if not os.path.exists(save_path):\n",
        "    print(f\"Downloading file from {url} to {save_path}\")\n",
        "    !wget {save_path} {url}\n",
        "  else:\n",
        "     # This condition skips download if file exists\n",
        "    print(f\"File already exist at {save_path}. Skipping download\")\n",
        "\n",
        "# Run above function to retrive transactionrecord file\n",
        "file_url = 'https://raw.githubusercontent.com/tulip-lab/sit742/develop/Assessment/2024/data/transactionrecord.gz'\n",
        "local_file_path = 'transactionrecord.gz'\n",
        "# download required file\n",
        "download_file_if_not_exists(file_url, local_file_path)"
      ],
      "metadata": {
        "colab": {
          "base_uri": "https://localhost:8080/"
        },
        "id": "JZ7-Q9KlGB4R",
        "outputId": "5930d8a3-ef87-48f2-e8c1-5b6c5d063b28"
      },
      "execution_count": 206,
      "outputs": [
        {
          "output_type": "stream",
          "name": "stdout",
          "text": [
            "File already exist at transactionrecord.gz. Skipping download\n"
          ]
        }
      ]
    },
    {
      "cell_type": "code",
      "source": [
        "# read input file using spark\n",
        "# delete if df_spark lready exist and create new dataframe with transaction record\n",
        "try:\n",
        "  del df_spark\n",
        "  print(\"df_spark is deleted\")\n",
        "except:\n",
        "  pass\n",
        "print(f\"Creating dataframe from input file-{local_file_path}\")\n",
        "df_spark = spark.read.csv(\"transactionrecord.gz\", header=True, inferSchema=True)\n",
        "# df_spark=spark.read.csv(\"transactionrecord.gz\", header=True, inferSchema=True)\n",
        "# check input dataframe schema\n",
        "print(\"schema of dataframe\")\n",
        "df_spark.printSchema()\n",
        "#check sample observations\n",
        "print(\"Check Sample observation\")\n",
        "df_spark.show(2)"
      ],
      "metadata": {
        "colab": {
          "base_uri": "https://localhost:8080/"
        },
        "id": "B_0hWxOfGH9e",
        "outputId": "f97db78b-fc51-47eb-a227-6ee8dc4d8a68"
      },
      "execution_count": 207,
      "outputs": [
        {
          "output_type": "stream",
          "name": "stdout",
          "text": [
            "df_spark is deleted\n",
            "Creating dataframe from input file-transactionrecord.gz\n",
            "schema of dataframe\n",
            "root\n",
            " |-- TransactionNo: string (nullable = true)\n",
            " |-- Date: string (nullable = true)\n",
            " |-- ProductNo: string (nullable = true)\n",
            " |-- ProductName: string (nullable = true)\n",
            " |-- Product_category: string (nullable = true)\n",
            " |-- Price: double (nullable = true)\n",
            " |-- Quantity: integer (nullable = true)\n",
            " |-- CustomerNo: integer (nullable = true)\n",
            " |-- Country: string (nullable = true)\n",
            "\n",
            "Check Sample observation\n",
            "+-------------+---------+---------+--------------------+----------------+-----+--------+----------+--------------+\n",
            "|TransactionNo|     Date|ProductNo|         ProductName|Product_category|Price|Quantity|CustomerNo|       Country|\n",
            "+-------------+---------+---------+--------------------+----------------+-----+--------+----------+--------------+\n",
            "|       581482|12/9/2019|    22485|Set Of 2 Wooden M...|             0ca|21.47|      12|     17490|United Kingdom|\n",
            "|       581475|12/9/2019|    22596|Christmas Star Wi...|             0ca|10.65|      36|     13069|United Kingdom|\n",
            "+-------------+---------+---------+--------------------+----------------+-----+--------+----------+--------------+\n",
            "only showing top 2 rows\n",
            "\n"
          ]
        }
      ]
    },
    {
      "cell_type": "markdown",
      "source": [
        "**Question 1.1**"
      ],
      "metadata": {
        "id": "-YVtnGK3GbYz"
      }
    },
    {
      "cell_type": "markdown",
      "source": [
        "**Answer 1.1.1**"
      ],
      "metadata": {
        "id": "TY044QB6GeKq"
      }
    },
    {
      "cell_type": "code",
      "source": [
        "# replace \"NA\" values in CustomerNo with -1\n",
        "# check the columns with values \"NA\"\n",
        "df_spark = df_spark.withColumn(\"CustomerNo\", when(col(\"CustomerNO\")=='NA',-1).otherwise(col(\"CustomerNo\")))\n",
        "# checking dataframe after transformation\n",
        "df_spark.filter(df_spark.CustomerNo== -1).show(2)"
      ],
      "metadata": {
        "colab": {
          "base_uri": "https://localhost:8080/"
        },
        "id": "cZcfsxxTGSbL",
        "outputId": "0a11e1fb-fbea-4a3c-e6ee-870162765bc3"
      },
      "execution_count": 208,
      "outputs": [
        {
          "output_type": "stream",
          "name": "stdout",
          "text": [
            "+-------------+---------+---------+--------------------+----------------+-----+--------+----------+--------------+\n",
            "|TransactionNo|     Date|ProductNo|         ProductName|Product_category|Price|Quantity|CustomerNo|       Country|\n",
            "+-------------+---------+---------+--------------------+----------------+-----+--------+----------+--------------+\n",
            "|      C581406|12/8/2019|   46000M|Polyester Filler ...|             0ca| 6.19|    -240|        -1|United Kingdom|\n",
            "|      C581406|12/8/2019|   46000S|Polyester Filler ...|             0ca| 6.19|    -300|        -1|United Kingdom|\n",
            "+-------------+---------+---------+--------------------+----------------+-----+--------+----------+--------------+\n",
            "only showing top 2 rows\n",
            "\n"
          ]
        }
      ]
    },
    {
      "cell_type": "markdown",
      "source": [
        "**Answer 1.1.2**"
      ],
      "metadata": {
        "id": "VXPdpmayGi-h"
      }
    },
    {
      "cell_type": "code",
      "source": [
        "# check productName values\n",
        "print(\"Check product name column before creating columns\")\n",
        "df_spark.select(\"ProductName\").distinct().show(2,truncate=False)\n",
        "# create productName_process by using only alphabates\n",
        "df_spark = df_spark.withColumn(\"productName_process\", regexp_replace(col(\"ProductName\"), r'(\\d+)', \"\"))\n",
        "df_spark.select(\"ProductName\",\"productName_process\").show(5,truncate=False)"
      ],
      "metadata": {
        "colab": {
          "base_uri": "https://localhost:8080/"
        },
        "id": "rp3A8XO5GgaG",
        "outputId": "a8ba09a1-c2c8-431e-baa8-c87fbb3761b9"
      },
      "execution_count": 209,
      "outputs": [
        {
          "output_type": "stream",
          "name": "stdout",
          "text": [
            "Check product name column before creating columns\n",
            "+---------------------------------+\n",
            "|ProductName                      |\n",
            "+---------------------------------+\n",
            "|Parisienne Sewing Box            |\n",
            "|Pack Of 12 50'S Christmas Tissues|\n",
            "+---------------------------------+\n",
            "only showing top 2 rows\n",
            "\n",
            "+-----------------------------------+-----------------------------------+\n",
            "|ProductName                        |productName_process                |\n",
            "+-----------------------------------+-----------------------------------+\n",
            "|Set Of 2 Wooden Market Crates      |Set Of  Wooden Market Crates       |\n",
            "|Christmas Star Wish List Chalkboard|Christmas Star Wish List Chalkboard|\n",
            "|Storage Tin Vintage Leaf           |Storage Tin Vintage Leaf           |\n",
            "|Tree T-Light Holder Willie Winkie  |Tree T-Light Holder Willie Winkie  |\n",
            "|Set Of 4 Knick Knack Tins Poppies  |Set Of  Knick Knack Tins Poppies   |\n",
            "+-----------------------------------+-----------------------------------+\n",
            "only showing top 5 rows\n",
            "\n"
          ]
        }
      ]
    },
    {
      "cell_type": "markdown",
      "source": [
        "**Question 1.2**"
      ],
      "metadata": {
        "id": "9waLNhm9GpIL"
      }
    },
    {
      "cell_type": "markdown",
      "source": [
        "**Answer 1.2.1**"
      ],
      "metadata": {
        "id": "mJbDjRYtGt-x"
      }
    },
    {
      "cell_type": "code",
      "source": [
        "# create new column Revenue using price and quantity\n",
        "df_spark= df_spark.withColumn(\"Revenue\", (col(\"Price\")* col(\"Quantity\")).cast(FloatType()))\n",
        "df_spark.show(5)"
      ],
      "metadata": {
        "colab": {
          "base_uri": "https://localhost:8080/"
        },
        "id": "CxMtEJlsGmAX",
        "outputId": "556772c6-92a5-482e-f0e0-acd8d699050f"
      },
      "execution_count": 210,
      "outputs": [
        {
          "output_type": "stream",
          "name": "stdout",
          "text": [
            "+-------------+---------+---------+--------------------+----------------+-----+--------+----------+--------------+--------------------+-------+\n",
            "|TransactionNo|     Date|ProductNo|         ProductName|Product_category|Price|Quantity|CustomerNo|       Country| productName_process|Revenue|\n",
            "+-------------+---------+---------+--------------------+----------------+-----+--------+----------+--------------+--------------------+-------+\n",
            "|       581482|12/9/2019|    22485|Set Of 2 Wooden M...|             0ca|21.47|      12|     17490|United Kingdom|Set Of  Wooden Ma...| 257.64|\n",
            "|       581475|12/9/2019|    22596|Christmas Star Wi...|             0ca|10.65|      36|     13069|United Kingdom|Christmas Star Wi...|  383.4|\n",
            "|       581475|12/9/2019|    23235|Storage Tin Vinta...|             0ca|11.53|      12|     13069|United Kingdom|Storage Tin Vinta...| 138.36|\n",
            "|       581475|12/9/2019|    23272|Tree T-Light Hold...|             0ca|10.65|      12|     13069|United Kingdom|Tree T-Light Hold...|  127.8|\n",
            "|       581475|12/9/2019|    23239|Set Of 4 Knick Kn...|             0ca|11.94|       6|     13069|United Kingdom|Set Of  Knick Kna...|  71.64|\n",
            "+-------------+---------+---------+--------------------+----------------+-----+--------+----------+--------------+--------------------+-------+\n",
            "only showing top 5 rows\n",
            "\n"
          ]
        }
      ]
    },
    {
      "cell_type": "markdown",
      "source": [
        "**Answer 1.2.2**"
      ],
      "metadata": {
        "id": "S339hi5lGyyv"
      }
    },
    {
      "cell_type": "code",
      "source": [
        "#convert spark dataframe to pandas dataframe\n",
        "df=df_spark.toPandas()\n",
        "#create transaction_date date variable with date format\n",
        "df['transaction_date'] = pd.to_datetime(df['Date'])\n",
        "df.drop(columns=['Date'])\n",
        "# check first 5 observations\n",
        "df.head()"
      ],
      "metadata": {
        "colab": {
          "base_uri": "https://localhost:8080/",
          "height": 327
        },
        "id": "NVfbpQ0iGoOt",
        "outputId": "afea51be-a897-4b4e-c13b-f76eb012b414"
      },
      "execution_count": 211,
      "outputs": [
        {
          "output_type": "execute_result",
          "data": {
            "text/plain": [
              "  TransactionNo       Date ProductNo                          ProductName  \\\n",
              "0        581482  12/9/2019     22485        Set Of 2 Wooden Market Crates   \n",
              "1        581475  12/9/2019     22596  Christmas Star Wish List Chalkboard   \n",
              "2        581475  12/9/2019     23235             Storage Tin Vintage Leaf   \n",
              "3        581475  12/9/2019     23272    Tree T-Light Holder Willie Winkie   \n",
              "4        581475  12/9/2019     23239    Set Of 4 Knick Knack Tins Poppies   \n",
              "\n",
              "  Product_category  Price  Quantity  CustomerNo         Country  \\\n",
              "0              0ca  21.47        12       17490  United Kingdom   \n",
              "1              0ca  10.65        36       13069  United Kingdom   \n",
              "2              0ca  11.53        12       13069  United Kingdom   \n",
              "3              0ca  10.65        12       13069  United Kingdom   \n",
              "4              0ca  11.94         6       13069  United Kingdom   \n",
              "\n",
              "                   productName_process  Revenue transaction_date  \n",
              "0         Set Of  Wooden Market Crates   257.64       2019-12-09  \n",
              "1  Christmas Star Wish List Chalkboard   383.40       2019-12-09  \n",
              "2             Storage Tin Vintage Leaf   138.36       2019-12-09  \n",
              "3    Tree T-Light Holder Willie Winkie   127.80       2019-12-09  \n",
              "4     Set Of  Knick Knack Tins Poppies    71.64       2019-12-09  "
            ],
            "text/html": [
              "\n",
              "  <div id=\"df-051e9d9e-e2b8-4d83-9366-e034e7741457\" class=\"colab-df-container\">\n",
              "    <div>\n",
              "<style scoped>\n",
              "    .dataframe tbody tr th:only-of-type {\n",
              "        vertical-align: middle;\n",
              "    }\n",
              "\n",
              "    .dataframe tbody tr th {\n",
              "        vertical-align: top;\n",
              "    }\n",
              "\n",
              "    .dataframe thead th {\n",
              "        text-align: right;\n",
              "    }\n",
              "</style>\n",
              "<table border=\"1\" class=\"dataframe\">\n",
              "  <thead>\n",
              "    <tr style=\"text-align: right;\">\n",
              "      <th></th>\n",
              "      <th>TransactionNo</th>\n",
              "      <th>Date</th>\n",
              "      <th>ProductNo</th>\n",
              "      <th>ProductName</th>\n",
              "      <th>Product_category</th>\n",
              "      <th>Price</th>\n",
              "      <th>Quantity</th>\n",
              "      <th>CustomerNo</th>\n",
              "      <th>Country</th>\n",
              "      <th>productName_process</th>\n",
              "      <th>Revenue</th>\n",
              "      <th>transaction_date</th>\n",
              "    </tr>\n",
              "  </thead>\n",
              "  <tbody>\n",
              "    <tr>\n",
              "      <th>0</th>\n",
              "      <td>581482</td>\n",
              "      <td>12/9/2019</td>\n",
              "      <td>22485</td>\n",
              "      <td>Set Of 2 Wooden Market Crates</td>\n",
              "      <td>0ca</td>\n",
              "      <td>21.47</td>\n",
              "      <td>12</td>\n",
              "      <td>17490</td>\n",
              "      <td>United Kingdom</td>\n",
              "      <td>Set Of  Wooden Market Crates</td>\n",
              "      <td>257.64</td>\n",
              "      <td>2019-12-09</td>\n",
              "    </tr>\n",
              "    <tr>\n",
              "      <th>1</th>\n",
              "      <td>581475</td>\n",
              "      <td>12/9/2019</td>\n",
              "      <td>22596</td>\n",
              "      <td>Christmas Star Wish List Chalkboard</td>\n",
              "      <td>0ca</td>\n",
              "      <td>10.65</td>\n",
              "      <td>36</td>\n",
              "      <td>13069</td>\n",
              "      <td>United Kingdom</td>\n",
              "      <td>Christmas Star Wish List Chalkboard</td>\n",
              "      <td>383.40</td>\n",
              "      <td>2019-12-09</td>\n",
              "    </tr>\n",
              "    <tr>\n",
              "      <th>2</th>\n",
              "      <td>581475</td>\n",
              "      <td>12/9/2019</td>\n",
              "      <td>23235</td>\n",
              "      <td>Storage Tin Vintage Leaf</td>\n",
              "      <td>0ca</td>\n",
              "      <td>11.53</td>\n",
              "      <td>12</td>\n",
              "      <td>13069</td>\n",
              "      <td>United Kingdom</td>\n",
              "      <td>Storage Tin Vintage Leaf</td>\n",
              "      <td>138.36</td>\n",
              "      <td>2019-12-09</td>\n",
              "    </tr>\n",
              "    <tr>\n",
              "      <th>3</th>\n",
              "      <td>581475</td>\n",
              "      <td>12/9/2019</td>\n",
              "      <td>23272</td>\n",
              "      <td>Tree T-Light Holder Willie Winkie</td>\n",
              "      <td>0ca</td>\n",
              "      <td>10.65</td>\n",
              "      <td>12</td>\n",
              "      <td>13069</td>\n",
              "      <td>United Kingdom</td>\n",
              "      <td>Tree T-Light Holder Willie Winkie</td>\n",
              "      <td>127.80</td>\n",
              "      <td>2019-12-09</td>\n",
              "    </tr>\n",
              "    <tr>\n",
              "      <th>4</th>\n",
              "      <td>581475</td>\n",
              "      <td>12/9/2019</td>\n",
              "      <td>23239</td>\n",
              "      <td>Set Of 4 Knick Knack Tins Poppies</td>\n",
              "      <td>0ca</td>\n",
              "      <td>11.94</td>\n",
              "      <td>6</td>\n",
              "      <td>13069</td>\n",
              "      <td>United Kingdom</td>\n",
              "      <td>Set Of  Knick Knack Tins Poppies</td>\n",
              "      <td>71.64</td>\n",
              "      <td>2019-12-09</td>\n",
              "    </tr>\n",
              "  </tbody>\n",
              "</table>\n",
              "</div>\n",
              "    <div class=\"colab-df-buttons\">\n",
              "\n",
              "  <div class=\"colab-df-container\">\n",
              "    <button class=\"colab-df-convert\" onclick=\"convertToInteractive('df-051e9d9e-e2b8-4d83-9366-e034e7741457')\"\n",
              "            title=\"Convert this dataframe to an interactive table.\"\n",
              "            style=\"display:none;\">\n",
              "\n",
              "  <svg xmlns=\"http://www.w3.org/2000/svg\" height=\"24px\" viewBox=\"0 -960 960 960\">\n",
              "    <path d=\"M120-120v-720h720v720H120Zm60-500h600v-160H180v160Zm220 220h160v-160H400v160Zm0 220h160v-160H400v160ZM180-400h160v-160H180v160Zm440 0h160v-160H620v160ZM180-180h160v-160H180v160Zm440 0h160v-160H620v160Z\"/>\n",
              "  </svg>\n",
              "    </button>\n",
              "\n",
              "  <style>\n",
              "    .colab-df-container {\n",
              "      display:flex;\n",
              "      gap: 12px;\n",
              "    }\n",
              "\n",
              "    .colab-df-convert {\n",
              "      background-color: #E8F0FE;\n",
              "      border: none;\n",
              "      border-radius: 50%;\n",
              "      cursor: pointer;\n",
              "      display: none;\n",
              "      fill: #1967D2;\n",
              "      height: 32px;\n",
              "      padding: 0 0 0 0;\n",
              "      width: 32px;\n",
              "    }\n",
              "\n",
              "    .colab-df-convert:hover {\n",
              "      background-color: #E2EBFA;\n",
              "      box-shadow: 0px 1px 2px rgba(60, 64, 67, 0.3), 0px 1px 3px 1px rgba(60, 64, 67, 0.15);\n",
              "      fill: #174EA6;\n",
              "    }\n",
              "\n",
              "    .colab-df-buttons div {\n",
              "      margin-bottom: 4px;\n",
              "    }\n",
              "\n",
              "    [theme=dark] .colab-df-convert {\n",
              "      background-color: #3B4455;\n",
              "      fill: #D2E3FC;\n",
              "    }\n",
              "\n",
              "    [theme=dark] .colab-df-convert:hover {\n",
              "      background-color: #434B5C;\n",
              "      box-shadow: 0px 1px 3px 1px rgba(0, 0, 0, 0.15);\n",
              "      filter: drop-shadow(0px 1px 2px rgba(0, 0, 0, 0.3));\n",
              "      fill: #FFFFFF;\n",
              "    }\n",
              "  </style>\n",
              "\n",
              "    <script>\n",
              "      const buttonEl =\n",
              "        document.querySelector('#df-051e9d9e-e2b8-4d83-9366-e034e7741457 button.colab-df-convert');\n",
              "      buttonEl.style.display =\n",
              "        google.colab.kernel.accessAllowed ? 'block' : 'none';\n",
              "\n",
              "      async function convertToInteractive(key) {\n",
              "        const element = document.querySelector('#df-051e9d9e-e2b8-4d83-9366-e034e7741457');\n",
              "        const dataTable =\n",
              "          await google.colab.kernel.invokeFunction('convertToInteractive',\n",
              "                                                    [key], {});\n",
              "        if (!dataTable) return;\n",
              "\n",
              "        const docLinkHtml = 'Like what you see? Visit the ' +\n",
              "          '<a target=\"_blank\" href=https://colab.research.google.com/notebooks/data_table.ipynb>data table notebook</a>'\n",
              "          + ' to learn more about interactive tables.';\n",
              "        element.innerHTML = '';\n",
              "        dataTable['output_type'] = 'display_data';\n",
              "        await google.colab.output.renderOutput(dataTable, element);\n",
              "        const docLink = document.createElement('div');\n",
              "        docLink.innerHTML = docLinkHtml;\n",
              "        element.appendChild(docLink);\n",
              "      }\n",
              "    </script>\n",
              "  </div>\n",
              "\n",
              "\n",
              "<div id=\"df-843291e4-46f2-47be-b067-95b97110f33e\">\n",
              "  <button class=\"colab-df-quickchart\" onclick=\"quickchart('df-843291e4-46f2-47be-b067-95b97110f33e')\"\n",
              "            title=\"Suggest charts\"\n",
              "            style=\"display:none;\">\n",
              "\n",
              "<svg xmlns=\"http://www.w3.org/2000/svg\" height=\"24px\"viewBox=\"0 0 24 24\"\n",
              "     width=\"24px\">\n",
              "    <g>\n",
              "        <path d=\"M19 3H5c-1.1 0-2 .9-2 2v14c0 1.1.9 2 2 2h14c1.1 0 2-.9 2-2V5c0-1.1-.9-2-2-2zM9 17H7v-7h2v7zm4 0h-2V7h2v10zm4 0h-2v-4h2v4z\"/>\n",
              "    </g>\n",
              "</svg>\n",
              "  </button>\n",
              "\n",
              "<style>\n",
              "  .colab-df-quickchart {\n",
              "      --bg-color: #E8F0FE;\n",
              "      --fill-color: #1967D2;\n",
              "      --hover-bg-color: #E2EBFA;\n",
              "      --hover-fill-color: #174EA6;\n",
              "      --disabled-fill-color: #AAA;\n",
              "      --disabled-bg-color: #DDD;\n",
              "  }\n",
              "\n",
              "  [theme=dark] .colab-df-quickchart {\n",
              "      --bg-color: #3B4455;\n",
              "      --fill-color: #D2E3FC;\n",
              "      --hover-bg-color: #434B5C;\n",
              "      --hover-fill-color: #FFFFFF;\n",
              "      --disabled-bg-color: #3B4455;\n",
              "      --disabled-fill-color: #666;\n",
              "  }\n",
              "\n",
              "  .colab-df-quickchart {\n",
              "    background-color: var(--bg-color);\n",
              "    border: none;\n",
              "    border-radius: 50%;\n",
              "    cursor: pointer;\n",
              "    display: none;\n",
              "    fill: var(--fill-color);\n",
              "    height: 32px;\n",
              "    padding: 0;\n",
              "    width: 32px;\n",
              "  }\n",
              "\n",
              "  .colab-df-quickchart:hover {\n",
              "    background-color: var(--hover-bg-color);\n",
              "    box-shadow: 0 1px 2px rgba(60, 64, 67, 0.3), 0 1px 3px 1px rgba(60, 64, 67, 0.15);\n",
              "    fill: var(--button-hover-fill-color);\n",
              "  }\n",
              "\n",
              "  .colab-df-quickchart-complete:disabled,\n",
              "  .colab-df-quickchart-complete:disabled:hover {\n",
              "    background-color: var(--disabled-bg-color);\n",
              "    fill: var(--disabled-fill-color);\n",
              "    box-shadow: none;\n",
              "  }\n",
              "\n",
              "  .colab-df-spinner {\n",
              "    border: 2px solid var(--fill-color);\n",
              "    border-color: transparent;\n",
              "    border-bottom-color: var(--fill-color);\n",
              "    animation:\n",
              "      spin 1s steps(1) infinite;\n",
              "  }\n",
              "\n",
              "  @keyframes spin {\n",
              "    0% {\n",
              "      border-color: transparent;\n",
              "      border-bottom-color: var(--fill-color);\n",
              "      border-left-color: var(--fill-color);\n",
              "    }\n",
              "    20% {\n",
              "      border-color: transparent;\n",
              "      border-left-color: var(--fill-color);\n",
              "      border-top-color: var(--fill-color);\n",
              "    }\n",
              "    30% {\n",
              "      border-color: transparent;\n",
              "      border-left-color: var(--fill-color);\n",
              "      border-top-color: var(--fill-color);\n",
              "      border-right-color: var(--fill-color);\n",
              "    }\n",
              "    40% {\n",
              "      border-color: transparent;\n",
              "      border-right-color: var(--fill-color);\n",
              "      border-top-color: var(--fill-color);\n",
              "    }\n",
              "    60% {\n",
              "      border-color: transparent;\n",
              "      border-right-color: var(--fill-color);\n",
              "    }\n",
              "    80% {\n",
              "      border-color: transparent;\n",
              "      border-right-color: var(--fill-color);\n",
              "      border-bottom-color: var(--fill-color);\n",
              "    }\n",
              "    90% {\n",
              "      border-color: transparent;\n",
              "      border-bottom-color: var(--fill-color);\n",
              "    }\n",
              "  }\n",
              "</style>\n",
              "\n",
              "  <script>\n",
              "    async function quickchart(key) {\n",
              "      const quickchartButtonEl =\n",
              "        document.querySelector('#' + key + ' button');\n",
              "      quickchartButtonEl.disabled = true;  // To prevent multiple clicks.\n",
              "      quickchartButtonEl.classList.add('colab-df-spinner');\n",
              "      try {\n",
              "        const charts = await google.colab.kernel.invokeFunction(\n",
              "            'suggestCharts', [key], {});\n",
              "      } catch (error) {\n",
              "        console.error('Error during call to suggestCharts:', error);\n",
              "      }\n",
              "      quickchartButtonEl.classList.remove('colab-df-spinner');\n",
              "      quickchartButtonEl.classList.add('colab-df-quickchart-complete');\n",
              "    }\n",
              "    (() => {\n",
              "      let quickchartButtonEl =\n",
              "        document.querySelector('#df-843291e4-46f2-47be-b067-95b97110f33e button');\n",
              "      quickchartButtonEl.style.display =\n",
              "        google.colab.kernel.accessAllowed ? 'block' : 'none';\n",
              "    })();\n",
              "  </script>\n",
              "</div>\n",
              "\n",
              "    </div>\n",
              "  </div>\n"
            ],
            "application/vnd.google.colaboratory.intrinsic+json": {
              "type": "dataframe",
              "variable_name": "df"
            }
          },
          "metadata": {},
          "execution_count": 211
        }
      ]
    },
    {
      "cell_type": "markdown",
      "source": [
        "**Answer 1.2.3**"
      ],
      "metadata": {
        "id": "C75tlp3lG3Ow"
      }
    },
    {
      "cell_type": "code",
      "source": [
        "#Plot the sum of revenue on transaction_date in a line plot\n",
        "df_group=df.groupby(['transaction_date'],as_index=False)['Revenue'].sum()\n",
        "# plot the line plot\n",
        "fig,ax=plt.subplots(figsize=(12,5))\n",
        "ax=sns.lineplot(data=df_group, x='transaction_date',y='Revenue')\n",
        "ax.set_title(\"Total Revenue by Transaction Date\")\n",
        "ax.set_ylabel(\"Revenue (Millions)\")  # Set y-axis label\n",
        "ax.yaxis.set_major_formatter(lambda x, pos: f'{x / 1000000:.1f}M')\n",
        "plt.show()"
      ],
      "metadata": {
        "colab": {
          "base_uri": "https://localhost:8080/",
          "height": 300
        },
        "id": "3Rub4K-XG0sH",
        "outputId": "5a652368-f3a9-4c11-a076-df961c672842"
      },
      "execution_count": 212,
      "outputs": [
        {
          "output_type": "display_data",
          "data": {
            "text/plain": [
              "<Figure size 720x300 with 1 Axes>"
            ],
            "image/png": "[encoded data removed]"
          },
          "metadata": {}
        }
      ]
    },
    {
      "cell_type": "markdown",
      "source": [
        "**Summary**\n",
        "- Data shows increasing trend\n",
        "- Daily shows high variations, needs more investigation to check if this variation is due to weekends, holidays etc\n"
      ],
      "metadata": {
        "id": "-SC0shePG8Ye"
      }
    },
    {
      "cell_type": "markdown",
      "source": [
        "**Question 1.3**"
      ],
      "metadata": {
        "id": "LAfyEWWjHAN7"
      }
    },
    {
      "cell_type": "markdown",
      "source": [
        "**Answer 1.3.1**"
      ],
      "metadata": {
        "id": "DQUiR5oFHCrE"
      }
    },
    {
      "cell_type": "code",
      "source": [
        "#create variable day of week\n",
        "df['day_of_week']=df['transaction_date'].dt.dayofweek\n",
        "#average revenue by day of week\n",
        "df_avg_revenue=df.groupby(['day_of_week'],as_index=False)['Revenue'].mean()\n",
        "#naming day of week 0-Monday to 6- Sunday\n",
        "day_names = [\n",
        "    \"Monday\",\n",
        "    \"Tuesday\",\n",
        "    \"Wednesday\",\n",
        "    \"Thursday\",\n",
        "    \"Friday\",\n",
        "    \"Saturday\",\n",
        "    \"Sunday\",\n",
        "]\n",
        "# mapping weekday name\n",
        "df_avg_revenue[\"day_of_week_name\"] = df_avg_revenue['day_of_week'].map(lambda x: day_names[x])\n",
        "\n",
        "# #Plot the sum of revenue on transaction_date in a line plot\n",
        "# plot the line plot\n",
        "fig,ax=plt.subplots(figsize=(12,5))\n",
        "ax=sns.lineplot(data=df_avg_revenue, x='day_of_week_name',y='Revenue',sort=True)\n",
        "ax.set_title(\"Average Revenue by day of week\")\n",
        "ax.set_ylabel(\"Average Revenue\")  # Set y-axis label\n",
        "ax.set_xlabel(\"Day of Week\")\n",
        "plt.show()\n"
      ],
      "metadata": {
        "colab": {
          "base_uri": "https://localhost:8080/",
          "height": 300
        },
        "id": "dv3ZRvKTG5YS",
        "outputId": "697873b4-23ac-48ac-aa98-66febe17f197"
      },
      "execution_count": 213,
      "outputs": [
        {
          "output_type": "display_data",
          "data": {
            "text/plain": [
              "<Figure size 720x300 with 1 Axes>"
            ],
            "image/png": "[encoded data removed]"
          },
          "metadata": {}
        }
      ]
    },
    {
      "cell_type": "markdown",
      "source": [
        "**Answer 1.3.2**"
      ],
      "metadata": {
        "id": "qly8WCEiSZT8"
      }
    },
    {
      "cell_type": "code",
      "source": [
        "df.info()"
      ],
      "metadata": {
        "colab": {
          "base_uri": "https://localhost:8080/"
        },
        "id": "IXQVnbguT0Wb",
        "outputId": "12d96fef-355f-4fca-d1b4-b355805b79ae"
      },
      "execution_count": 214,
      "outputs": [
        {
          "output_type": "stream",
          "name": "stdout",
          "text": [
            "<class 'pandas.core.frame.DataFrame'>\n",
            "RangeIndex: 536350 entries, 0 to 536349\n",
            "Data columns (total 13 columns):\n",
            " #   Column               Non-Null Count   Dtype         \n",
            "---  ------               --------------   -----         \n",
            " 0   TransactionNo        536350 non-null  object        \n",
            " 1   Date                 536350 non-null  object        \n",
            " 2   ProductNo            536350 non-null  object        \n",
            " 3   ProductName          536350 non-null  object        \n",
            " 4   Product_category     536350 non-null  object        \n",
            " 5   Price                536350 non-null  float64       \n",
            " 6   Quantity             536350 non-null  int32         \n",
            " 7   CustomerNo           536350 non-null  int32         \n",
            " 8   Country              536350 non-null  object        \n",
            " 9   productName_process  536350 non-null  object        \n",
            " 10  Revenue              536350 non-null  float32       \n",
            " 11  transaction_date     536350 non-null  datetime64[ns]\n",
            " 12  day_of_week          536350 non-null  int32         \n",
            "dtypes: datetime64[ns](1), float32(1), float64(1), int32(3), object(7)\n",
            "memory usage: 45.0+ MB\n"
          ]
        }
      ]
    },
    {
      "cell_type": "code",
      "source": [
        "#find the max revenue day of week\n",
        "max_rev_dayofweek=df_avg_revenue.loc[df_avg_revenue['Revenue'].idxmax()]['day_of_week']\n",
        "# Filter the original dataframe (df) for transactions on that workday\n",
        "df_max_rev_workday = df[df['day_of_week'] == max_rev_dayofweek]\n",
        "\n",
        "# Find the product with the highest revenue on that workday\n",
        "product_with_max_rev = df_max_rev_workday.groupby('productName_process')['Revenue'].sum().idxmax()\n",
        "\n",
        "# Find the product with the highest sales volume (sum of quantity) on that workday\n",
        "product_with_max_volume = df_max_rev_workday.groupby('productName_process')['Quantity'].sum().idxmax()\n",
        "print(\"**********Summary***********************\")\n",
        "print( f\"The day of week with highest average revenue is: {day_names[max_rev_dayofweek]}\")\n",
        "print( f\"Product with maximum revenue: {product_with_max_rev}\")\n",
        "print( f\"Product with maximum sales volume: {product_with_max_volume}\")"
      ],
      "metadata": {
        "colab": {
          "base_uri": "https://localhost:8080/"
        },
        "id": "lVYMP4uqSe4L",
        "outputId": "3af9e764-d829-43a5-d7ef-73620d5b1137"
      },
      "execution_count": 215,
      "outputs": [
        {
          "output_type": "stream",
          "name": "stdout",
          "text": [
            "**********Summary***********************\n",
            "The day of week with highest average revenue is: Sunday\n",
            "Product with maximum revenue: World War  Gliders Asstd Designs\n",
            "Product with maximum sales volume: World War  Gliders Asstd Designs\n"
          ]
        }
      ]
    },
    {
      "cell_type": "markdown",
      "source": [
        "**Answer 1.3.3**"
      ],
      "metadata": {
        "id": "LejvFnIMWCMH"
      }
    },
    {
      "cell_type": "code",
      "source": [
        "# Find top products with highest revenue\n",
        "top_5_max_rev_products=df.groupby(['productName_process'],as_index=False)['Revenue'].sum().sort_values(by='Revenue',ascending=False).head(5)\n",
        "# Find top products with highest volume\n",
        "top_5_max_volume_products=df.groupby(['productName_process'],as_index=False)['Quantity'].sum().sort_values(by='Quantity',ascending=False).head(5)\n"
      ],
      "metadata": {
        "id": "zF2w4y4pO1tZ"
      },
      "execution_count": 216,
      "outputs": []
    },
    {
      "cell_type": "code",
      "source": [
        "# dx.bar(data=top_5_max_rev_products, x='productName_process',y='Revenue',x_textwrap=10)"
      ],
      "metadata": {
        "id": "aS3xiXCjWQ1m"
      },
      "execution_count": 217,
      "outputs": []
    },
    {
      "cell_type": "code",
      "source": [
        "# creating test wrap function as labels are not dispalyed properly by default in bar plot\n",
        "def wrap_labels(ax, width, break_long_words=False):\n",
        "  labels = []\n",
        "  for label in ax.get_xticklabels():\n",
        "    text = label.get_text()\n",
        "    labels.append(textwrap.fill(text, width=width,\n",
        "                                break_long_words=break_long_words))\n",
        "  ax.set_xticklabels(labels, rotation=0, ha='right')\n",
        "\n",
        "\n",
        "# Example usage with your existing plot:\n",
        "fig, ax = plt.subplots(figsize=(10, 4))\n",
        "ax = sns.barplot(data=top_5_max_rev_products, x='productName_process',\n",
        "                 y='Revenue')\n",
        "wrap_labels(ax, width=10)\n",
        "ax.set_title(\"Top 5 Products with Highest Revenue\")\n",
        "ax.set_ylabel(\"Revenue\")\n",
        "plt.show()\n",
        "\n",
        "# Example usage with your existing plot:\n",
        "fig, ax = plt.subplots(figsize=(10, 4))\n",
        "ax = sns.barplot(data=top_5_max_volume_products, x='productName_process',\n",
        "                 y='Quantity')\n",
        "wrap_labels(ax, width=10)\n",
        "ax.set_title(\"Top 5 Products with Highest Volume\")\n",
        "ax.set_ylabel(\"Volume\")\n",
        "plt.show()\n"
      ],
      "metadata": {
        "colab": {
          "base_uri": "https://localhost:8080/",
          "height": 563
        },
        "id": "Q9wdbfPpW4Tj",
        "outputId": "15e6c021-d102-407a-facf-d2746430c74a"
      },
      "execution_count": 218,
      "outputs": [
        {
          "output_type": "display_data",
          "data": {
            "text/plain": [
              "<Figure size 600x240 with 1 Axes>"
            ],
            "image/png": "[encoded data removed]"
          },
          "metadata": {}
        },
        {
          "output_type": "display_data",
          "data": {
            "text/plain": [
              "<Figure size 600x240 with 1 Axes>"
            ],
            "image/png": "[encoded data removed]"
          },
          "metadata": {}
        }
      ]
    },
    {
      "cell_type": "markdown",
      "source": [
        "**Answer 1.4**"
      ],
      "metadata": {
        "id": "F9z0Yc7NIIPG"
      }
    },
    {
      "cell_type": "code",
      "source": [
        "country_wise_revenue=df.groupby(['Country'],as_index=False)['Revenue'].sum().sort_values(by='Revenue',ascending=False)\n",
        "max_country_val=country_wise_revenue.loc[country_wise_revenue['Revenue'].idxmax()]['Country']\n",
        "# Filter the original dataframe (df) for transactions for that country\n",
        "df_max_rev_workday = df[df['Country'] == max_country_val]\n",
        "df_max_rev_workday.loc[:, 'Month'] = df_max_rev_workday['transaction_date'].dt.month\n",
        "country_wise_revenue_mth=df_max_rev_workday.groupby(['Month'],as_index=False)['Revenue'].sum().sort_values(by='Revenue',ascending=False).head(1)\n",
        "max_country_mth_val=country_wise_revenue_mth.loc[country_wise_revenue_mth['Revenue'].idxmax()]['Month']\n",
        "print(f\"The country with the highest revenue is: {max_country_val}\")\n",
        "print(f\"The month with the highest revenue in that country is: {max_country_mth_val}\")"
      ],
      "metadata": {
        "colab": {
          "base_uri": "https://localhost:8080/"
        },
        "id": "B5ADLndRIPJ9",
        "outputId": "a56bc544-3c6c-4436-aace-798f67825261"
      },
      "execution_count": 219,
      "outputs": [
        {
          "output_type": "stream",
          "name": "stdout",
          "text": [
            "The country with the highest revenue is: United Kingdom\n",
            "The month with the highest revenue in that country is: 11.0\n"
          ]
        }
      ]
    },
    {
      "cell_type": "markdown",
      "source": [
        "**Answer 1.5**"
      ],
      "metadata": {
        "id": "zEGX-D_eNXQO"
      }
    },
    {
      "cell_type": "code",
      "source": [
        "# remove records with quantity > 0\n",
        "print(\"Shape of data before filter\",format(df.shape))\n",
        "df_pos_quantity= df[df['Quantity']>0]\n",
        "print(\"Number of records with negative quantity\",format(df.shape[0]-df_pos_quantity.shape[0]))\n",
        "\n",
        "\n",
        "# find cusomter with high distinct transactions\n",
        "transac_freq_cust=df_pos_quantity.groupby(['CustomerNo'],as_index=False)['TransactionNo'].nunique().sort_values(by='TransactionNo',ascending=False)\n",
        "# Customer with maximum transaction\n",
        "cust_with_high_trans=transac_freq_cust.loc[transac_freq_cust['TransactionNo'].idxmax()]['CustomerNo']\n",
        "print(f\"Customer with maximum transaction is:{cust_with_high_trans}\")\n",
        "\n",
        "\n",
        "# Filter the original dataframe (df) for transactions for this customer\n",
        "df_max_trans_cust = df_pos_quantity[df_pos_quantity['CustomerNo'] == cust_with_high_trans]\n",
        "prod_with_max_qunt=df_max_trans_cust.groupby(['productName_process'],as_index=False)['Quantity'].sum().sort_values(by='Quantity', ascending=False)\n",
        "prod_with_max_qunt_val=prod_with_max_qunt.loc[prod_with_max_qunt['Quantity'].idxmax()]['productName_process']\n",
        "print(f\"The most frequent product bought by customer {cust_with_high_trans} is {prod_with_max_qunt_val}\")"
      ],
      "metadata": {
        "colab": {
          "base_uri": "https://localhost:8080/"
        },
        "id": "tOKFLMpQDZoh",
        "outputId": "7ea51cbd-79de-4fc7-c25f-13f0ad936aea"
      },
      "execution_count": 220,
      "outputs": [
        {
          "output_type": "stream",
          "name": "stdout",
          "text": [
            "Shape of data before filter (536350, 13)\n",
            "Number of records with negative quantity 8585\n",
            "Customer with maximum transaction is:12748\n",
            "The most frequent product bought by customer 12748 is Victorian Metal Postcard Spring\n"
          ]
        }
      ]
    },
    {
      "cell_type": "code",
      "source": [
        "df_pos_quantity.head()"
      ],
      "metadata": {
        "colab": {
          "base_uri": "https://localhost:8080/",
          "height": 417
        },
        "id": "2fVRqU-6F1Js",
        "outputId": "a56536f8-44e4-4058-9bda-ffc3d20a8e3c"
      },
      "execution_count": 221,
      "outputs": [
        {
          "output_type": "execute_result",
          "data": {
            "text/plain": [
              "  TransactionNo       Date ProductNo                          ProductName  \\\n",
              "0        581482  12/9/2019     22485        Set Of 2 Wooden Market Crates   \n",
              "1        581475  12/9/2019     22596  Christmas Star Wish List Chalkboard   \n",
              "2        581475  12/9/2019     23235             Storage Tin Vintage Leaf   \n",
              "3        581475  12/9/2019     23272    Tree T-Light Holder Willie Winkie   \n",
              "4        581475  12/9/2019     23239    Set Of 4 Knick Knack Tins Poppies   \n",
              "\n",
              "  Product_category  Price  Quantity  CustomerNo         Country  \\\n",
              "0              0ca  21.47        12       17490  United Kingdom   \n",
              "1              0ca  10.65        36       13069  United Kingdom   \n",
              "2              0ca  11.53        12       13069  United Kingdom   \n",
              "3              0ca  10.65        12       13069  United Kingdom   \n",
              "4              0ca  11.94         6       13069  United Kingdom   \n",
              "\n",
              "                   productName_process  Revenue transaction_date  day_of_week  \n",
              "0         Set Of  Wooden Market Crates   257.64       2019-12-09            0  \n",
              "1  Christmas Star Wish List Chalkboard   383.40       2019-12-09            0  \n",
              "2             Storage Tin Vintage Leaf   138.36       2019-12-09            0  \n",
              "3    Tree T-Light Holder Willie Winkie   127.80       2019-12-09            0  \n",
              "4     Set Of  Knick Knack Tins Poppies    71.64       2019-12-09            0  "
            ],
            "text/html": [
              "\n",
              "  <div id=\"df-26f61b6c-c2a7-46d7-a01c-71a2efedda48\" class=\"colab-df-container\">\n",
              "    <div>\n",
              "<style scoped>\n",
              "    .dataframe tbody tr th:only-of-type {\n",
              "        vertical-align: middle;\n",
              "    }\n",
              "\n",
              "    .dataframe tbody tr th {\n",
              "        vertical-align: top;\n",
              "    }\n",
              "\n",
              "    .dataframe thead th {\n",
              "        text-align: right;\n",
              "    }\n",
              "</style>\n",
              "<table border=\"1\" class=\"dataframe\">\n",
              "  <thead>\n",
              "    <tr style=\"text-align: right;\">\n",
              "      <th></th>\n",
              "      <th>TransactionNo</th>\n",
              "      <th>Date</th>\n",
              "      <th>ProductNo</th>\n",
              "      <th>ProductName</th>\n",
              "      <th>Product_category</th>\n",
              "      <th>Price</th>\n",
              "      <th>Quantity</th>\n",
              "      <th>CustomerNo</th>\n",
              "      <th>Country</th>\n",
              "      <th>productName_process</th>\n",
              "      <th>Revenue</th>\n",
              "      <th>transaction_date</th>\n",
              "      <th>day_of_week</th>\n",
              "    </tr>\n",
              "  </thead>\n",
              "  <tbody>\n",
              "    <tr>\n",
              "      <th>0</th>\n",
              "      <td>581482</td>\n",
              "      <td>12/9/2019</td>\n",
              "      <td>22485</td>\n",
              "      <td>Set Of 2 Wooden Market Crates</td>\n",
              "      <td>0ca</td>\n",
              "      <td>21.47</td>\n",
              "      <td>12</td>\n",
              "      <td>17490</td>\n",
              "      <td>United Kingdom</td>\n",
              "      <td>Set Of  Wooden Market Crates</td>\n",
              "      <td>257.64</td>\n",
              "      <td>2019-12-09</td>\n",
              "      <td>0</td>\n",
              "    </tr>\n",
              "    <tr>\n",
              "      <th>1</th>\n",
              "      <td>581475</td>\n",
              "      <td>12/9/2019</td>\n",
              "      <td>22596</td>\n",
              "      <td>Christmas Star Wish List Chalkboard</td>\n",
              "      <td>0ca</td>\n",
              "      <td>10.65</td>\n",
              "      <td>36</td>\n",
              "      <td>13069</td>\n",
              "      <td>United Kingdom</td>\n",
              "      <td>Christmas Star Wish List Chalkboard</td>\n",
              "      <td>383.40</td>\n",
              "      <td>2019-12-09</td>\n",
              "      <td>0</td>\n",
              "    </tr>\n",
              "    <tr>\n",
              "      <th>2</th>\n",
              "      <td>581475</td>\n",
              "      <td>12/9/2019</td>\n",
              "      <td>23235</td>\n",
              "      <td>Storage Tin Vintage Leaf</td>\n",
              "      <td>0ca</td>\n",
              "      <td>11.53</td>\n",
              "      <td>12</td>\n",
              "      <td>13069</td>\n",
              "      <td>United Kingdom</td>\n",
              "      <td>Storage Tin Vintage Leaf</td>\n",
              "      <td>138.36</td>\n",
              "      <td>2019-12-09</td>\n",
              "      <td>0</td>\n",
              "    </tr>\n",
              "    <tr>\n",
              "      <th>3</th>\n",
              "      <td>581475</td>\n",
              "      <td>12/9/2019</td>\n",
              "      <td>23272</td>\n",
              "      <td>Tree T-Light Holder Willie Winkie</td>\n",
              "      <td>0ca</td>\n",
              "      <td>10.65</td>\n",
              "      <td>12</td>\n",
              "      <td>13069</td>\n",
              "      <td>United Kingdom</td>\n",
              "      <td>Tree T-Light Holder Willie Winkie</td>\n",
              "      <td>127.80</td>\n",
              "      <td>2019-12-09</td>\n",
              "      <td>0</td>\n",
              "    </tr>\n",
              "    <tr>\n",
              "      <th>4</th>\n",
              "      <td>581475</td>\n",
              "      <td>12/9/2019</td>\n",
              "      <td>23239</td>\n",
              "      <td>Set Of 4 Knick Knack Tins Poppies</td>\n",
              "      <td>0ca</td>\n",
              "      <td>11.94</td>\n",
              "      <td>6</td>\n",
              "      <td>13069</td>\n",
              "      <td>United Kingdom</td>\n",
              "      <td>Set Of  Knick Knack Tins Poppies</td>\n",
              "      <td>71.64</td>\n",
              "      <td>2019-12-09</td>\n",
              "      <td>0</td>\n",
              "    </tr>\n",
              "  </tbody>\n",
              "</table>\n",
              "</div>\n",
              "    <div class=\"colab-df-buttons\">\n",
              "\n",
              "  <div class=\"colab-df-container\">\n",
              "    <button class=\"colab-df-convert\" onclick=\"convertToInteractive('df-26f61b6c-c2a7-46d7-a01c-71a2efedda48')\"\n",
              "            title=\"Convert this dataframe to an interactive table.\"\n",
              "            style=\"display:none;\">\n",
              "\n",
              "  <svg xmlns=\"http://www.w3.org/2000/svg\" height=\"24px\" viewBox=\"0 -960 960 960\">\n",
              "    <path d=\"M120-120v-720h720v720H120Zm60-500h600v-160H180v160Zm220 220h160v-160H400v160Zm0 220h160v-160H400v160ZM180-400h160v-160H180v160Zm440 0h160v-160H620v160ZM180-180h160v-160H180v160Zm440 0h160v-160H620v160Z\"/>\n",
              "  </svg>\n",
              "    </button>\n",
              "\n",
              "  <style>\n",
              "    .colab-df-container {\n",
              "      display:flex;\n",
              "      gap: 12px;\n",
              "    }\n",
              "\n",
              "    .colab-df-convert {\n",
              "      background-color: #E8F0FE;\n",
              "      border: none;\n",
              "      border-radius: 50%;\n",
              "      cursor: pointer;\n",
              "      display: none;\n",
              "      fill: #1967D2;\n",
              "      height: 32px;\n",
              "      padding: 0 0 0 0;\n",
              "      width: 32px;\n",
              "    }\n",
              "\n",
              "    .colab-df-convert:hover {\n",
              "      background-color: #E2EBFA;\n",
              "      box-shadow: 0px 1px 2px rgba(60, 64, 67, 0.3), 0px 1px 3px 1px rgba(60, 64, 67, 0.15);\n",
              "      fill: #174EA6;\n",
              "    }\n",
              "\n",
              "    .colab-df-buttons div {\n",
              "      margin-bottom: 4px;\n",
              "    }\n",
              "\n",
              "    [theme=dark] .colab-df-convert {\n",
              "      background-color: #3B4455;\n",
              "      fill: #D2E3FC;\n",
              "    }\n",
              "\n",
              "    [theme=dark] .colab-df-convert:hover {\n",
              "      background-color: #434B5C;\n",
              "      box-shadow: 0px 1px 3px 1px rgba(0, 0, 0, 0.15);\n",
              "      filter: drop-shadow(0px 1px 2px rgba(0, 0, 0, 0.3));\n",
              "      fill: #FFFFFF;\n",
              "    }\n",
              "  </style>\n",
              "\n",
              "    <script>\n",
              "      const buttonEl =\n",
              "        document.querySelector('#df-26f61b6c-c2a7-46d7-a01c-71a2efedda48 button.colab-df-convert');\n",
              "      buttonEl.style.display =\n",
              "        google.colab.kernel.accessAllowed ? 'block' : 'none';\n",
              "\n",
              "      async function convertToInteractive(key) {\n",
              "        const element = document.querySelector('#df-26f61b6c-c2a7-46d7-a01c-71a2efedda48');\n",
              "        const dataTable =\n",
              "          await google.colab.kernel.invokeFunction('convertToInteractive',\n",
              "                                                    [key], {});\n",
              "        if (!dataTable) return;\n",
              "\n",
              "        const docLinkHtml = 'Like what you see? Visit the ' +\n",
              "          '<a target=\"_blank\" href=https://colab.research.google.com/notebooks/data_table.ipynb>data table notebook</a>'\n",
              "          + ' to learn more about interactive tables.';\n",
              "        element.innerHTML = '';\n",
              "        dataTable['output_type'] = 'display_data';\n",
              "        await google.colab.output.renderOutput(dataTable, element);\n",
              "        const docLink = document.createElement('div');\n",
              "        docLink.innerHTML = docLinkHtml;\n",
              "        element.appendChild(docLink);\n",
              "      }\n",
              "    </script>\n",
              "  </div>\n",
              "\n",
              "\n",
              "<div id=\"df-e2c2edf8-3d80-4941-96a1-a199b8212be9\">\n",
              "  <button class=\"colab-df-quickchart\" onclick=\"quickchart('df-e2c2edf8-3d80-4941-96a1-a199b8212be9')\"\n",
              "            title=\"Suggest charts\"\n",
              "            style=\"display:none;\">\n",
              "\n",
              "<svg xmlns=\"http://www.w3.org/2000/svg\" height=\"24px\"viewBox=\"0 0 24 24\"\n",
              "     width=\"24px\">\n",
              "    <g>\n",
              "        <path d=\"M19 3H5c-1.1 0-2 .9-2 2v14c0 1.1.9 2 2 2h14c1.1 0 2-.9 2-2V5c0-1.1-.9-2-2-2zM9 17H7v-7h2v7zm4 0h-2V7h2v10zm4 0h-2v-4h2v4z\"/>\n",
              "    </g>\n",
              "</svg>\n",
              "  </button>\n",
              "\n",
              "<style>\n",
              "  .colab-df-quickchart {\n",
              "      --bg-color: #E8F0FE;\n",
              "      --fill-color: #1967D2;\n",
              "      --hover-bg-color: #E2EBFA;\n",
              "      --hover-fill-color: #174EA6;\n",
              "      --disabled-fill-color: #AAA;\n",
              "      --disabled-bg-color: #DDD;\n",
              "  }\n",
              "\n",
              "  [theme=dark] .colab-df-quickchart {\n",
              "      --bg-color: #3B4455;\n",
              "      --fill-color: #D2E3FC;\n",
              "      --hover-bg-color: #434B5C;\n",
              "      --hover-fill-color: #FFFFFF;\n",
              "      --disabled-bg-color: #3B4455;\n",
              "      --disabled-fill-color: #666;\n",
              "  }\n",
              "\n",
              "  .colab-df-quickchart {\n",
              "    background-color: var(--bg-color);\n",
              "    border: none;\n",
              "    border-radius: 50%;\n",
              "    cursor: pointer;\n",
              "    display: none;\n",
              "    fill: var(--fill-color);\n",
              "    height: 32px;\n",
              "    padding: 0;\n",
              "    width: 32px;\n",
              "  }\n",
              "\n",
              "  .colab-df-quickchart:hover {\n",
              "    background-color: var(--hover-bg-color);\n",
              "    box-shadow: 0 1px 2px rgba(60, 64, 67, 0.3), 0 1px 3px 1px rgba(60, 64, 67, 0.15);\n",
              "    fill: var(--button-hover-fill-color);\n",
              "  }\n",
              "\n",
              "  .colab-df-quickchart-complete:disabled,\n",
              "  .colab-df-quickchart-complete:disabled:hover {\n",
              "    background-color: var(--disabled-bg-color);\n",
              "    fill: var(--disabled-fill-color);\n",
              "    box-shadow: none;\n",
              "  }\n",
              "\n",
              "  .colab-df-spinner {\n",
              "    border: 2px solid var(--fill-color);\n",
              "    border-color: transparent;\n",
              "    border-bottom-color: var(--fill-color);\n",
              "    animation:\n",
              "      spin 1s steps(1) infinite;\n",
              "  }\n",
              "\n",
              "  @keyframes spin {\n",
              "    0% {\n",
              "      border-color: transparent;\n",
              "      border-bottom-color: var(--fill-color);\n",
              "      border-left-color: var(--fill-color);\n",
              "    }\n",
              "    20% {\n",
              "      border-color: transparent;\n",
              "      border-left-color: var(--fill-color);\n",
              "      border-top-color: var(--fill-color);\n",
              "    }\n",
              "    30% {\n",
              "      border-color: transparent;\n",
              "      border-left-color: var(--fill-color);\n",
              "      border-top-color: var(--fill-color);\n",
              "      border-right-color: var(--fill-color);\n",
              "    }\n",
              "    40% {\n",
              "      border-color: transparent;\n",
              "      border-right-color: var(--fill-color);\n",
              "      border-top-color: var(--fill-color);\n",
              "    }\n",
              "    60% {\n",
              "      border-color: transparent;\n",
              "      border-right-color: var(--fill-color);\n",
              "    }\n",
              "    80% {\n",
              "      border-color: transparent;\n",
              "      border-right-color: var(--fill-color);\n",
              "      border-bottom-color: var(--fill-color);\n",
              "    }\n",
              "    90% {\n",
              "      border-color: transparent;\n",
              "      border-bottom-color: var(--fill-color);\n",
              "    }\n",
              "  }\n",
              "</style>\n",
              "\n",
              "  <script>\n",
              "    async function quickchart(key) {\n",
              "      const quickchartButtonEl =\n",
              "        document.querySelector('#' + key + ' button');\n",
              "      quickchartButtonEl.disabled = true;  // To prevent multiple clicks.\n",
              "      quickchartButtonEl.classList.add('colab-df-spinner');\n",
              "      try {\n",
              "        const charts = await google.colab.kernel.invokeFunction(\n",
              "            'suggestCharts', [key], {});\n",
              "      } catch (error) {\n",
              "        console.error('Error during call to suggestCharts:', error);\n",
              "      }\n",
              "      quickchartButtonEl.classList.remove('colab-df-spinner');\n",
              "      quickchartButtonEl.classList.add('colab-df-quickchart-complete');\n",
              "    }\n",
              "    (() => {\n",
              "      let quickchartButtonEl =\n",
              "        document.querySelector('#df-e2c2edf8-3d80-4941-96a1-a199b8212be9 button');\n",
              "      quickchartButtonEl.style.display =\n",
              "        google.colab.kernel.accessAllowed ? 'block' : 'none';\n",
              "    })();\n",
              "  </script>\n",
              "</div>\n",
              "\n",
              "    </div>\n",
              "  </div>\n"
            ],
            "application/vnd.google.colaboratory.intrinsic+json": {
              "type": "dataframe",
              "variable_name": "df_pos_quantity"
            }
          },
          "metadata": {},
          "execution_count": 221
        }
      ]
    },
    {
      "cell_type": "markdown",
      "source": [
        "## Market Basket Analysis"
      ],
      "metadata": {
        "id": "BrMrhzVFTD9n"
      }
    },
    {
      "cell_type": "markdown",
      "source": [
        "**Answer 1.6.1**"
      ],
      "metadata": {
        "id": "L_040VyZVrYW"
      }
    },
    {
      "cell_type": "code",
      "source": [
        "# Group by the transactionNo and aggregate the category of product (column product_category) into\n",
        "# list on transactionNo level. Similarly, group and aggregate name of product (column\n",
        "# productName_process) into list on transactionNo level."
      ],
      "metadata": {
        "id": "T_9XUd-vGAzk"
      },
      "execution_count": 222,
      "outputs": []
    },
    {
      "cell_type": "code",
      "source": [
        "df_1=df_pos_quantity.groupby(['TransactionNo'],as_index=False)['Product_category'].agg(list)\n",
        "t2=df_pos_quantity.groupby(['TransactionNo'],as_index=False)['productName_process'].agg(list)"
      ],
      "metadata": {
        "id": "ZIW6m4NiN9iH"
      },
      "execution_count": 223,
      "outputs": []
    },
    {
      "cell_type": "markdown",
      "source": [
        "**Answer 1.6.2**"
      ],
      "metadata": {
        "id": "a-gLzqTQVucD"
      }
    },
    {
      "cell_type": "code",
      "source": [
        "# Remove duplicates in Product category list\n",
        "df_1['Product_category']=df_1['Product_category'].apply(lambda x: list(set(x)))\n",
        "\n"
      ],
      "metadata": {
        "id": "nqkcNjcYUucv"
      },
      "execution_count": 224,
      "outputs": []
    },
    {
      "cell_type": "markdown",
      "source": [
        "**Answer 1.7.1**"
      ],
      "metadata": {
        "id": "62JwLjpAUEK6"
      }
    },
    {
      "cell_type": "code",
      "source": [
        "df_1['Prod_len']=df_1['Product_category'].apply(lambda x: len(x))\n",
        "df_1.head()\n"
      ],
      "metadata": {
        "colab": {
          "base_uri": "https://localhost:8080/",
          "height": 206
        },
        "id": "voD1dBVWgiJt",
        "outputId": "a6257582-0c1a-4bc8-b741-b6acdb12007d"
      },
      "execution_count": 225,
      "outputs": [
        {
          "output_type": "execute_result",
          "data": {
            "text/plain": [
              "  TransactionNo Product_category  Prod_len\n",
              "0        536365            [0ca]         1\n",
              "1        536366            [0ca]         1\n",
              "2        536367            [0ca]         1\n",
              "3        536368            [0ca]         1\n",
              "4        536369            [0ca]         1"
            ],
            "text/html": [
              "\n",
              "  <div id=\"df-50721afe-01da-4f59-8097-ab7e0a7df576\" class=\"colab-df-container\">\n",
              "    <div>\n",
              "<style scoped>\n",
              "    .dataframe tbody tr th:only-of-type {\n",
              "        vertical-align: middle;\n",
              "    }\n",
              "\n",
              "    .dataframe tbody tr th {\n",
              "        vertical-align: top;\n",
              "    }\n",
              "\n",
              "    .dataframe thead th {\n",
              "        text-align: right;\n",
              "    }\n",
              "</style>\n",
              "<table border=\"1\" class=\"dataframe\">\n",
              "  <thead>\n",
              "    <tr style=\"text-align: right;\">\n",
              "      <th></th>\n",
              "      <th>TransactionNo</th>\n",
              "      <th>Product_category</th>\n",
              "      <th>Prod_len</th>\n",
              "    </tr>\n",
              "  </thead>\n",
              "  <tbody>\n",
              "    <tr>\n",
              "      <th>0</th>\n",
              "      <td>536365</td>\n",
              "      <td>[0ca]</td>\n",
              "      <td>1</td>\n",
              "    </tr>\n",
              "    <tr>\n",
              "      <th>1</th>\n",
              "      <td>536366</td>\n",
              "      <td>[0ca]</td>\n",
              "      <td>1</td>\n",
              "    </tr>\n",
              "    <tr>\n",
              "      <th>2</th>\n",
              "      <td>536367</td>\n",
              "      <td>[0ca]</td>\n",
              "      <td>1</td>\n",
              "    </tr>\n",
              "    <tr>\n",
              "      <th>3</th>\n",
              "      <td>536368</td>\n",
              "      <td>[0ca]</td>\n",
              "      <td>1</td>\n",
              "    </tr>\n",
              "    <tr>\n",
              "      <th>4</th>\n",
              "      <td>536369</td>\n",
              "      <td>[0ca]</td>\n",
              "      <td>1</td>\n",
              "    </tr>\n",
              "  </tbody>\n",
              "</table>\n",
              "</div>\n",
              "    <div class=\"colab-df-buttons\">\n",
              "\n",
              "  <div class=\"colab-df-container\">\n",
              "    <button class=\"colab-df-convert\" onclick=\"convertToInteractive('df-50721afe-01da-4f59-8097-ab7e0a7df576')\"\n",
              "            title=\"Convert this dataframe to an interactive table.\"\n",
              "            style=\"display:none;\">\n",
              "\n",
              "  <svg xmlns=\"http://www.w3.org/2000/svg\" height=\"24px\" viewBox=\"0 -960 960 960\">\n",
              "    <path d=\"M120-120v-720h720v720H120Zm60-500h600v-160H180v160Zm220 220h160v-160H400v160Zm0 220h160v-160H400v160ZM180-400h160v-160H180v160Zm440 0h160v-160H620v160ZM180-180h160v-160H180v160Zm440 0h160v-160H620v160Z\"/>\n",
              "  </svg>\n",
              "    </button>\n",
              "\n",
              "  <style>\n",
              "    .colab-df-container {\n",
              "      display:flex;\n",
              "      gap: 12px;\n",
              "    }\n",
              "\n",
              "    .colab-df-convert {\n",
              "      background-color: #E8F0FE;\n",
              "      border: none;\n",
              "      border-radius: 50%;\n",
              "      cursor: pointer;\n",
              "      display: none;\n",
              "      fill: #1967D2;\n",
              "      height: 32px;\n",
              "      padding: 0 0 0 0;\n",
              "      width: 32px;\n",
              "    }\n",
              "\n",
              "    .colab-df-convert:hover {\n",
              "      background-color: #E2EBFA;\n",
              "      box-shadow: 0px 1px 2px rgba(60, 64, 67, 0.3), 0px 1px 3px 1px rgba(60, 64, 67, 0.15);\n",
              "      fill: #174EA6;\n",
              "    }\n",
              "\n",
              "    .colab-df-buttons div {\n",
              "      margin-bottom: 4px;\n",
              "    }\n",
              "\n",
              "    [theme=dark] .colab-df-convert {\n",
              "      background-color: #3B4455;\n",
              "      fill: #D2E3FC;\n",
              "    }\n",
              "\n",
              "    [theme=dark] .colab-df-convert:hover {\n",
              "      background-color: #434B5C;\n",
              "      box-shadow: 0px 1px 3px 1px rgba(0, 0, 0, 0.15);\n",
              "      filter: drop-shadow(0px 1px 2px rgba(0, 0, 0, 0.3));\n",
              "      fill: #FFFFFF;\n",
              "    }\n",
              "  </style>\n",
              "\n",
              "    <script>\n",
              "      const buttonEl =\n",
              "        document.querySelector('#df-50721afe-01da-4f59-8097-ab7e0a7df576 button.colab-df-convert');\n",
              "      buttonEl.style.display =\n",
              "        google.colab.kernel.accessAllowed ? 'block' : 'none';\n",
              "\n",
              "      async function convertToInteractive(key) {\n",
              "        const element = document.querySelector('#df-50721afe-01da-4f59-8097-ab7e0a7df576');\n",
              "        const dataTable =\n",
              "          await google.colab.kernel.invokeFunction('convertToInteractive',\n",
              "                                                    [key], {});\n",
              "        if (!dataTable) return;\n",
              "\n",
              "        const docLinkHtml = 'Like what you see? Visit the ' +\n",
              "          '<a target=\"_blank\" href=https://colab.research.google.com/notebooks/data_table.ipynb>data table notebook</a>'\n",
              "          + ' to learn more about interactive tables.';\n",
              "        element.innerHTML = '';\n",
              "        dataTable['output_type'] = 'display_data';\n",
              "        await google.colab.output.renderOutput(dataTable, element);\n",
              "        const docLink = document.createElement('div');\n",
              "        docLink.innerHTML = docLinkHtml;\n",
              "        element.appendChild(docLink);\n",
              "      }\n",
              "    </script>\n",
              "  </div>\n",
              "\n",
              "\n",
              "<div id=\"df-1de77bf5-3efa-4c07-9cc8-e86f0c798038\">\n",
              "  <button class=\"colab-df-quickchart\" onclick=\"quickchart('df-1de77bf5-3efa-4c07-9cc8-e86f0c798038')\"\n",
              "            title=\"Suggest charts\"\n",
              "            style=\"display:none;\">\n",
              "\n",
              "<svg xmlns=\"http://www.w3.org/2000/svg\" height=\"24px\"viewBox=\"0 0 24 24\"\n",
              "     width=\"24px\">\n",
              "    <g>\n",
              "        <path d=\"M19 3H5c-1.1 0-2 .9-2 2v14c0 1.1.9 2 2 2h14c1.1 0 2-.9 2-2V5c0-1.1-.9-2-2-2zM9 17H7v-7h2v7zm4 0h-2V7h2v10zm4 0h-2v-4h2v4z\"/>\n",
              "    </g>\n",
              "</svg>\n",
              "  </button>\n",
              "\n",
              "<style>\n",
              "  .colab-df-quickchart {\n",
              "      --bg-color: #E8F0FE;\n",
              "      --fill-color: #1967D2;\n",
              "      --hover-bg-color: #E2EBFA;\n",
              "      --hover-fill-color: #174EA6;\n",
              "      --disabled-fill-color: #AAA;\n",
              "      --disabled-bg-color: #DDD;\n",
              "  }\n",
              "\n",
              "  [theme=dark] .colab-df-quickchart {\n",
              "      --bg-color: #3B4455;\n",
              "      --fill-color: #D2E3FC;\n",
              "      --hover-bg-color: #434B5C;\n",
              "      --hover-fill-color: #FFFFFF;\n",
              "      --disabled-bg-color: #3B4455;\n",
              "      --disabled-fill-color: #666;\n",
              "  }\n",
              "\n",
              "  .colab-df-quickchart {\n",
              "    background-color: var(--bg-color);\n",
              "    border: none;\n",
              "    border-radius: 50%;\n",
              "    cursor: pointer;\n",
              "    display: none;\n",
              "    fill: var(--fill-color);\n",
              "    height: 32px;\n",
              "    padding: 0;\n",
              "    width: 32px;\n",
              "  }\n",
              "\n",
              "  .colab-df-quickchart:hover {\n",
              "    background-color: var(--hover-bg-color);\n",
              "    box-shadow: 0 1px 2px rgba(60, 64, 67, 0.3), 0 1px 3px 1px rgba(60, 64, 67, 0.15);\n",
              "    fill: var(--button-hover-fill-color);\n",
              "  }\n",
              "\n",
              "  .colab-df-quickchart-complete:disabled,\n",
              "  .colab-df-quickchart-complete:disabled:hover {\n",
              "    background-color: var(--disabled-bg-color);\n",
              "    fill: var(--disabled-fill-color);\n",
              "    box-shadow: none;\n",
              "  }\n",
              "\n",
              "  .colab-df-spinner {\n",
              "    border: 2px solid var(--fill-color);\n",
              "    border-color: transparent;\n",
              "    border-bottom-color: var(--fill-color);\n",
              "    animation:\n",
              "      spin 1s steps(1) infinite;\n",
              "  }\n",
              "\n",
              "  @keyframes spin {\n",
              "    0% {\n",
              "      border-color: transparent;\n",
              "      border-bottom-color: var(--fill-color);\n",
              "      border-left-color: var(--fill-color);\n",
              "    }\n",
              "    20% {\n",
              "      border-color: transparent;\n",
              "      border-left-color: var(--fill-color);\n",
              "      border-top-color: var(--fill-color);\n",
              "    }\n",
              "    30% {\n",
              "      border-color: transparent;\n",
              "      border-left-color: var(--fill-color);\n",
              "      border-top-color: var(--fill-color);\n",
              "      border-right-color: var(--fill-color);\n",
              "    }\n",
              "    40% {\n",
              "      border-color: transparent;\n",
              "      border-right-color: var(--fill-color);\n",
              "      border-top-color: var(--fill-color);\n",
              "    }\n",
              "    60% {\n",
              "      border-color: transparent;\n",
              "      border-right-color: var(--fill-color);\n",
              "    }\n",
              "    80% {\n",
              "      border-color: transparent;\n",
              "      border-right-color: var(--fill-color);\n",
              "      border-bottom-color: var(--fill-color);\n",
              "    }\n",
              "    90% {\n",
              "      border-color: transparent;\n",
              "      border-bottom-color: var(--fill-color);\n",
              "    }\n",
              "  }\n",
              "</style>\n",
              "\n",
              "  <script>\n",
              "    async function quickchart(key) {\n",
              "      const quickchartButtonEl =\n",
              "        document.querySelector('#' + key + ' button');\n",
              "      quickchartButtonEl.disabled = true;  // To prevent multiple clicks.\n",
              "      quickchartButtonEl.classList.add('colab-df-spinner');\n",
              "      try {\n",
              "        const charts = await google.colab.kernel.invokeFunction(\n",
              "            'suggestCharts', [key], {});\n",
              "      } catch (error) {\n",
              "        console.error('Error during call to suggestCharts:', error);\n",
              "      }\n",
              "      quickchartButtonEl.classList.remove('colab-df-spinner');\n",
              "      quickchartButtonEl.classList.add('colab-df-quickchart-complete');\n",
              "    }\n",
              "    (() => {\n",
              "      let quickchartButtonEl =\n",
              "        document.querySelector('#df-1de77bf5-3efa-4c07-9cc8-e86f0c798038 button');\n",
              "      quickchartButtonEl.style.display =\n",
              "        google.colab.kernel.accessAllowed ? 'block' : 'none';\n",
              "    })();\n",
              "  </script>\n",
              "</div>\n",
              "\n",
              "    </div>\n",
              "  </div>\n"
            ],
            "application/vnd.google.colaboratory.intrinsic+json": {
              "type": "dataframe",
              "variable_name": "df_1",
              "summary": "{\n  \"name\": \"df_1\",\n  \"rows\": 19790,\n  \"fields\": [\n    {\n      \"column\": \"TransactionNo\",\n      \"properties\": {\n        \"dtype\": \"string\",\n        \"num_unique_values\": 19790,\n        \"samples\": [\n          \"544460\",\n          \"576063\",\n          \"548324\"\n        ],\n        \"semantic_type\": \"\",\n        \"description\": \"\"\n      }\n    },\n    {\n      \"column\": \"Product_category\",\n      \"properties\": {\n        \"dtype\": \"object\",\n        \"semantic_type\": \"\",\n        \"description\": \"\"\n      }\n    },\n    {\n      \"column\": \"Prod_len\",\n      \"properties\": {\n        \"dtype\": \"number\",\n        \"std\": 0,\n        \"min\": 1,\n        \"max\": 5,\n        \"num_unique_values\": 5,\n        \"samples\": [\n          2,\n          5,\n          3\n        ],\n        \"semantic_type\": \"\",\n        \"description\": \"\"\n      }\n    }\n  ]\n}"
            }
          },
          "metadata": {},
          "execution_count": 225
        }
      ]
    },
    {
      "cell_type": "markdown",
      "source": [
        "**Answer 1.7.2**"
      ],
      "metadata": {
        "id": "WNr6JqyGjAif"
      }
    },
    {
      "cell_type": "code",
      "source": [
        "df_w=pd.DataFrame()\n",
        "def data_processing(df,maxlength =3,min_length=1):\n",
        "  df_w=df[df['Prod_len']<=maxlength]\n",
        "  df_w=df_w[df_w['Prod_len']>=min_length]\n",
        "  df_w['path'] = df_w['Product_category'].apply(lambda x: ' > '.join(x))\n",
        "  df_w['path'] = str('start > ')+df_w['path'].apply(lambda x: str(x).replace(\",\", \" > \")) + str(\" > conversion\")\n",
        "\n",
        "  return df_w\n",
        "\n",
        "df_2=data_processing(df_1,maxlength =5,min_length=2)\n",
        "df_2.head(10)\n",
        "\n",
        "# # df_1['path'] = df_1['Product_category'].apply(lambda x: ' > '.join(x))\n",
        "# # df_1['path'] = str('start > ')+df_1['path'].apply(lambda x: str(x).replace(\",\", \" > \")) + str(\" > conversion\")\n",
        "# # df_1.head()"
      ],
      "metadata": {
        "colab": {
          "base_uri": "https://localhost:8080/",
          "height": 363
        },
        "id": "i7vHdNmHiRU1",
        "outputId": "e6da0ed2-ff08-4082-c4b1-9b7baadf09cd"
      },
      "execution_count": 226,
      "outputs": [
        {
          "output_type": "execute_result",
          "data": {
            "text/plain": [
              "   TransactionNo Product_category  Prod_len  \\\n",
              "13        536378       [0ca, 1ca]         2   \n",
              "27        536395       [0ca, 1ca]         2   \n",
              "36        536404  [4ca, 0ca, 1ca]         3   \n",
              "40        536408       [0ca, 1ca]         2   \n",
              "42        536412       [4ca, 0ca]         2   \n",
              "43        536415       [0ca, 1ca]         2   \n",
              "52        536464       [0ca, 1ca]         2   \n",
              "72        536532       [0ca, 1ca]         2   \n",
              "82        536542       [4ca, 0ca]         2   \n",
              "83        536544  [4ca, 0ca, 1ca]         3   \n",
              "\n",
              "                                    path  \n",
              "13        start > 0ca > 1ca > conversion  \n",
              "27        start > 0ca > 1ca > conversion  \n",
              "36  start > 4ca > 0ca > 1ca > conversion  \n",
              "40        start > 0ca > 1ca > conversion  \n",
              "42        start > 4ca > 0ca > conversion  \n",
              "43        start > 0ca > 1ca > conversion  \n",
              "52        start > 0ca > 1ca > conversion  \n",
              "72        start > 0ca > 1ca > conversion  \n",
              "82        start > 4ca > 0ca > conversion  \n",
              "83  start > 4ca > 0ca > 1ca > conversion  "
            ],
            "text/html": [
              "\n",
              "  <div id=\"df-6d899e01-2568-49fa-8cdb-5ea6b868c886\" class=\"colab-df-container\">\n",
              "    <div>\n",
              "<style scoped>\n",
              "    .dataframe tbody tr th:only-of-type {\n",
              "        vertical-align: middle;\n",
              "    }\n",
              "\n",
              "    .dataframe tbody tr th {\n",
              "        vertical-align: top;\n",
              "    }\n",
              "\n",
              "    .dataframe thead th {\n",
              "        text-align: right;\n",
              "    }\n",
              "</style>\n",
              "<table border=\"1\" class=\"dataframe\">\n",
              "  <thead>\n",
              "    <tr style=\"text-align: right;\">\n",
              "      <th></th>\n",
              "      <th>TransactionNo</th>\n",
              "      <th>Product_category</th>\n",
              "      <th>Prod_len</th>\n",
              "      <th>path</th>\n",
              "    </tr>\n",
              "  </thead>\n",
              "  <tbody>\n",
              "    <tr>\n",
              "      <th>13</th>\n",
              "      <td>536378</td>\n",
              "      <td>[0ca, 1ca]</td>\n",
              "      <td>2</td>\n",
              "      <td>start &gt; 0ca &gt; 1ca &gt; conversion</td>\n",
              "    </tr>\n",
              "    <tr>\n",
              "      <th>27</th>\n",
              "      <td>536395</td>\n",
              "      <td>[0ca, 1ca]</td>\n",
              "      <td>2</td>\n",
              "      <td>start &gt; 0ca &gt; 1ca &gt; conversion</td>\n",
              "    </tr>\n",
              "    <tr>\n",
              "      <th>36</th>\n",
              "      <td>536404</td>\n",
              "      <td>[4ca, 0ca, 1ca]</td>\n",
              "      <td>3</td>\n",
              "      <td>start &gt; 4ca &gt; 0ca &gt; 1ca &gt; conversion</td>\n",
              "    </tr>\n",
              "    <tr>\n",
              "      <th>40</th>\n",
              "      <td>536408</td>\n",
              "      <td>[0ca, 1ca]</td>\n",
              "      <td>2</td>\n",
              "      <td>start &gt; 0ca &gt; 1ca &gt; conversion</td>\n",
              "    </tr>\n",
              "    <tr>\n",
              "      <th>42</th>\n",
              "      <td>536412</td>\n",
              "      <td>[4ca, 0ca]</td>\n",
              "      <td>2</td>\n",
              "      <td>start &gt; 4ca &gt; 0ca &gt; conversion</td>\n",
              "    </tr>\n",
              "    <tr>\n",
              "      <th>43</th>\n",
              "      <td>536415</td>\n",
              "      <td>[0ca, 1ca]</td>\n",
              "      <td>2</td>\n",
              "      <td>start &gt; 0ca &gt; 1ca &gt; conversion</td>\n",
              "    </tr>\n",
              "    <tr>\n",
              "      <th>52</th>\n",
              "      <td>536464</td>\n",
              "      <td>[0ca, 1ca]</td>\n",
              "      <td>2</td>\n",
              "      <td>start &gt; 0ca &gt; 1ca &gt; conversion</td>\n",
              "    </tr>\n",
              "    <tr>\n",
              "      <th>72</th>\n",
              "      <td>536532</td>\n",
              "      <td>[0ca, 1ca]</td>\n",
              "      <td>2</td>\n",
              "      <td>start &gt; 0ca &gt; 1ca &gt; conversion</td>\n",
              "    </tr>\n",
              "    <tr>\n",
              "      <th>82</th>\n",
              "      <td>536542</td>\n",
              "      <td>[4ca, 0ca]</td>\n",
              "      <td>2</td>\n",
              "      <td>start &gt; 4ca &gt; 0ca &gt; conversion</td>\n",
              "    </tr>\n",
              "    <tr>\n",
              "      <th>83</th>\n",
              "      <td>536544</td>\n",
              "      <td>[4ca, 0ca, 1ca]</td>\n",
              "      <td>3</td>\n",
              "      <td>start &gt; 4ca &gt; 0ca &gt; 1ca &gt; conversion</td>\n",
              "    </tr>\n",
              "  </tbody>\n",
              "</table>\n",
              "</div>\n",
              "    <div class=\"colab-df-buttons\">\n",
              "\n",
              "  <div class=\"colab-df-container\">\n",
              "    <button class=\"colab-df-convert\" onclick=\"convertToInteractive('df-6d899e01-2568-49fa-8cdb-5ea6b868c886')\"\n",
              "            title=\"Convert this dataframe to an interactive table.\"\n",
              "            style=\"display:none;\">\n",
              "\n",
              "  <svg xmlns=\"http://www.w3.org/2000/svg\" height=\"24px\" viewBox=\"0 -960 960 960\">\n",
              "    <path d=\"M120-120v-720h720v720H120Zm60-500h600v-160H180v160Zm220 220h160v-160H400v160Zm0 220h160v-160H400v160ZM180-400h160v-160H180v160Zm440 0h160v-160H620v160ZM180-180h160v-160H180v160Zm440 0h160v-160H620v160Z\"/>\n",
              "  </svg>\n",
              "    </button>\n",
              "\n",
              "  <style>\n",
              "    .colab-df-container {\n",
              "      display:flex;\n",
              "      gap: 12px;\n",
              "    }\n",
              "\n",
              "    .colab-df-convert {\n",
              "      background-color: #E8F0FE;\n",
              "      border: none;\n",
              "      border-radius: 50%;\n",
              "      cursor: pointer;\n",
              "      display: none;\n",
              "      fill: #1967D2;\n",
              "      height: 32px;\n",
              "      padding: 0 0 0 0;\n",
              "      width: 32px;\n",
              "    }\n",
              "\n",
              "    .colab-df-convert:hover {\n",
              "      background-color: #E2EBFA;\n",
              "      box-shadow: 0px 1px 2px rgba(60, 64, 67, 0.3), 0px 1px 3px 1px rgba(60, 64, 67, 0.15);\n",
              "      fill: #174EA6;\n",
              "    }\n",
              "\n",
              "    .colab-df-buttons div {\n",
              "      margin-bottom: 4px;\n",
              "    }\n",
              "\n",
              "    [theme=dark] .colab-df-convert {\n",
              "      background-color: #3B4455;\n",
              "      fill: #D2E3FC;\n",
              "    }\n",
              "\n",
              "    [theme=dark] .colab-df-convert:hover {\n",
              "      background-color: #434B5C;\n",
              "      box-shadow: 0px 1px 3px 1px rgba(0, 0, 0, 0.15);\n",
              "      filter: drop-shadow(0px 1px 2px rgba(0, 0, 0, 0.3));\n",
              "      fill: #FFFFFF;\n",
              "    }\n",
              "  </style>\n",
              "\n",
              "    <script>\n",
              "      const buttonEl =\n",
              "        document.querySelector('#df-6d899e01-2568-49fa-8cdb-5ea6b868c886 button.colab-df-convert');\n",
              "      buttonEl.style.display =\n",
              "        google.colab.kernel.accessAllowed ? 'block' : 'none';\n",
              "\n",
              "      async function convertToInteractive(key) {\n",
              "        const element = document.querySelector('#df-6d899e01-2568-49fa-8cdb-5ea6b868c886');\n",
              "        const dataTable =\n",
              "          await google.colab.kernel.invokeFunction('convertToInteractive',\n",
              "                                                    [key], {});\n",
              "        if (!dataTable) return;\n",
              "\n",
              "        const docLinkHtml = 'Like what you see? Visit the ' +\n",
              "          '<a target=\"_blank\" href=https://colab.research.google.com/notebooks/data_table.ipynb>data table notebook</a>'\n",
              "          + ' to learn more about interactive tables.';\n",
              "        element.innerHTML = '';\n",
              "        dataTable['output_type'] = 'display_data';\n",
              "        await google.colab.output.renderOutput(dataTable, element);\n",
              "        const docLink = document.createElement('div');\n",
              "        docLink.innerHTML = docLinkHtml;\n",
              "        element.appendChild(docLink);\n",
              "      }\n",
              "    </script>\n",
              "  </div>\n",
              "\n",
              "\n",
              "<div id=\"df-cacf64b5-a3d1-492e-8a5e-40ce2dff819b\">\n",
              "  <button class=\"colab-df-quickchart\" onclick=\"quickchart('df-cacf64b5-a3d1-492e-8a5e-40ce2dff819b')\"\n",
              "            title=\"Suggest charts\"\n",
              "            style=\"display:none;\">\n",
              "\n",
              "<svg xmlns=\"http://www.w3.org/2000/svg\" height=\"24px\"viewBox=\"0 0 24 24\"\n",
              "     width=\"24px\">\n",
              "    <g>\n",
              "        <path d=\"M19 3H5c-1.1 0-2 .9-2 2v14c0 1.1.9 2 2 2h14c1.1 0 2-.9 2-2V5c0-1.1-.9-2-2-2zM9 17H7v-7h2v7zm4 0h-2V7h2v10zm4 0h-2v-4h2v4z\"/>\n",
              "    </g>\n",
              "</svg>\n",
              "  </button>\n",
              "\n",
              "<style>\n",
              "  .colab-df-quickchart {\n",
              "      --bg-color: #E8F0FE;\n",
              "      --fill-color: #1967D2;\n",
              "      --hover-bg-color: #E2EBFA;\n",
              "      --hover-fill-color: #174EA6;\n",
              "      --disabled-fill-color: #AAA;\n",
              "      --disabled-bg-color: #DDD;\n",
              "  }\n",
              "\n",
              "  [theme=dark] .colab-df-quickchart {\n",
              "      --bg-color: #3B4455;\n",
              "      --fill-color: #D2E3FC;\n",
              "      --hover-bg-color: #434B5C;\n",
              "      --hover-fill-color: #FFFFFF;\n",
              "      --disabled-bg-color: #3B4455;\n",
              "      --disabled-fill-color: #666;\n",
              "  }\n",
              "\n",
              "  .colab-df-quickchart {\n",
              "    background-color: var(--bg-color);\n",
              "    border: none;\n",
              "    border-radius: 50%;\n",
              "    cursor: pointer;\n",
              "    display: none;\n",
              "    fill: var(--fill-color);\n",
              "    height: 32px;\n",
              "    padding: 0;\n",
              "    width: 32px;\n",
              "  }\n",
              "\n",
              "  .colab-df-quickchart:hover {\n",
              "    background-color: var(--hover-bg-color);\n",
              "    box-shadow: 0 1px 2px rgba(60, 64, 67, 0.3), 0 1px 3px 1px rgba(60, 64, 67, 0.15);\n",
              "    fill: var(--button-hover-fill-color);\n",
              "  }\n",
              "\n",
              "  .colab-df-quickchart-complete:disabled,\n",
              "  .colab-df-quickchart-complete:disabled:hover {\n",
              "    background-color: var(--disabled-bg-color);\n",
              "    fill: var(--disabled-fill-color);\n",
              "    box-shadow: none;\n",
              "  }\n",
              "\n",
              "  .colab-df-spinner {\n",
              "    border: 2px solid var(--fill-color);\n",
              "    border-color: transparent;\n",
              "    border-bottom-color: var(--fill-color);\n",
              "    animation:\n",
              "      spin 1s steps(1) infinite;\n",
              "  }\n",
              "\n",
              "  @keyframes spin {\n",
              "    0% {\n",
              "      border-color: transparent;\n",
              "      border-bottom-color: var(--fill-color);\n",
              "      border-left-color: var(--fill-color);\n",
              "    }\n",
              "    20% {\n",
              "      border-color: transparent;\n",
              "      border-left-color: var(--fill-color);\n",
              "      border-top-color: var(--fill-color);\n",
              "    }\n",
              "    30% {\n",
              "      border-color: transparent;\n",
              "      border-left-color: var(--fill-color);\n",
              "      border-top-color: var(--fill-color);\n",
              "      border-right-color: var(--fill-color);\n",
              "    }\n",
              "    40% {\n",
              "      border-color: transparent;\n",
              "      border-right-color: var(--fill-color);\n",
              "      border-top-color: var(--fill-color);\n",
              "    }\n",
              "    60% {\n",
              "      border-color: transparent;\n",
              "      border-right-color: var(--fill-color);\n",
              "    }\n",
              "    80% {\n",
              "      border-color: transparent;\n",
              "      border-right-color: var(--fill-color);\n",
              "      border-bottom-color: var(--fill-color);\n",
              "    }\n",
              "    90% {\n",
              "      border-color: transparent;\n",
              "      border-bottom-color: var(--fill-color);\n",
              "    }\n",
              "  }\n",
              "</style>\n",
              "\n",
              "  <script>\n",
              "    async function quickchart(key) {\n",
              "      const quickchartButtonEl =\n",
              "        document.querySelector('#' + key + ' button');\n",
              "      quickchartButtonEl.disabled = true;  // To prevent multiple clicks.\n",
              "      quickchartButtonEl.classList.add('colab-df-spinner');\n",
              "      try {\n",
              "        const charts = await google.colab.kernel.invokeFunction(\n",
              "            'suggestCharts', [key], {});\n",
              "      } catch (error) {\n",
              "        console.error('Error during call to suggestCharts:', error);\n",
              "      }\n",
              "      quickchartButtonEl.classList.remove('colab-df-spinner');\n",
              "      quickchartButtonEl.classList.add('colab-df-quickchart-complete');\n",
              "    }\n",
              "    (() => {\n",
              "      let quickchartButtonEl =\n",
              "        document.querySelector('#df-cacf64b5-a3d1-492e-8a5e-40ce2dff819b button');\n",
              "      quickchartButtonEl.style.display =\n",
              "        google.colab.kernel.accessAllowed ? 'block' : 'none';\n",
              "    })();\n",
              "  </script>\n",
              "</div>\n",
              "\n",
              "    </div>\n",
              "  </div>\n"
            ],
            "application/vnd.google.colaboratory.intrinsic+json": {
              "type": "dataframe",
              "summary": "{\n  \"name\": \"# # df_1\",\n  \"rows\": 10,\n  \"fields\": [\n    {\n      \"column\": \"TransactionNo\",\n      \"properties\": {\n        \"dtype\": \"string\",\n        \"num_unique_values\": 10,\n        \"samples\": [\n          \"536542\",\n          \"536395\",\n          \"536415\"\n        ],\n        \"semantic_type\": \"\",\n        \"description\": \"\"\n      }\n    },\n    {\n      \"column\": \"Product_category\",\n      \"properties\": {\n        \"dtype\": \"object\",\n        \"semantic_type\": \"\",\n        \"description\": \"\"\n      }\n    },\n    {\n      \"column\": \"Prod_len\",\n      \"properties\": {\n        \"dtype\": \"number\",\n        \"std\": 0,\n        \"min\": 2,\n        \"max\": 3,\n        \"num_unique_values\": 2,\n        \"samples\": [\n          3,\n          2\n        ],\n        \"semantic_type\": \"\",\n        \"description\": \"\"\n      }\n    },\n    {\n      \"column\": \"path\",\n      \"properties\": {\n        \"dtype\": \"category\",\n        \"num_unique_values\": 3,\n        \"samples\": [\n          \"start > 0ca > 1ca > conversion\",\n          \"start > 4ca > 0ca > 1ca > conversion\"\n        ],\n        \"semantic_type\": \"\",\n        \"description\": \"\"\n      }\n    }\n  ]\n}"
            }
          },
          "metadata": {},
          "execution_count": 226
        }
      ]
    },
    {
      "cell_type": "markdown",
      "source": [
        "**Answer 1.8.1**"
      ],
      "metadata": {
        "id": "4BkQa__upIGS"
      }
    },
    {
      "cell_type": "code",
      "source": [
        "patterns=[' > 0ca > conversion', ' > 1ca > conversion', ' > 2ca > conversion',\n",
        "    ' > 3ca > conversion', ' > 4ca > conversion']\n",
        "\n",
        "results={pattern: df_2['path'].str.endswith(pattern).sum() for pattern in patterns}\n",
        "\n",
        "results"
      ],
      "metadata": {
        "colab": {
          "base_uri": "https://localhost:8080/"
        },
        "id": "-dL5ywl3rHf-",
        "outputId": "ec437ada-d71e-4890-b23b-01bc8bd7ac24"
      },
      "execution_count": 227,
      "outputs": [
        {
          "output_type": "execute_result",
          "data": {
            "text/plain": [
              "{' > 0ca > conversion': 1669,\n",
              " ' > 1ca > conversion': 1187,\n",
              " ' > 2ca > conversion': 0,\n",
              " ' > 3ca > conversion': 505,\n",
              " ' > 4ca > conversion': 244}"
            ]
          },
          "metadata": {},
          "execution_count": 227
        }
      ]
    },
    {
      "cell_type": "markdown",
      "source": [
        "**Answer 1.8.2**"
      ],
      "metadata": {
        "id": "3hsqqjKADYij"
      }
    },
    {
      "cell_type": "code",
      "source": [
        "patterns_to_check = [\n",
        "    '0ca > 0ca', '0ca > 1ca', '0ca > 2ca', '0ca > 3ca', '0ca > 4ca',\n",
        "    '0ca > conversion'\n",
        "]\n",
        "\n",
        "results_1={pattern: df_2['path'].str.contains(pattern).sum() for pattern in patterns_to_check}\n",
        "\n",
        "results_1"
      ],
      "metadata": {
        "colab": {
          "base_uri": "https://localhost:8080/"
        },
        "id": "z6yRFxQJCtkg",
        "outputId": "61ff48ad-a025-4cc7-c0b2-32a920d7243d"
      },
      "execution_count": 228,
      "outputs": [
        {
          "output_type": "execute_result",
          "data": {
            "text/plain": [
              "{'0ca > 0ca': 0,\n",
              " '0ca > 1ca': 1319,\n",
              " '0ca > 2ca': 0,\n",
              " '0ca > 3ca': 441,\n",
              " '0ca > 4ca': 176,\n",
              " '0ca > conversion': 1669}"
            ]
          },
          "metadata": {},
          "execution_count": 228
        }
      ]
    },
    {
      "cell_type": "markdown",
      "source": [
        "**Answer 1.8.3**"
      ],
      "metadata": {
        "id": "2UKvS8oTDo-N"
      }
    },
    {
      "cell_type": "code",
      "source": [
        "patterns_to_check = [\n",
        "    ' > 0ca >'\n",
        "]\n",
        "\n",
        "results_2={pattern: df_2['path'].str.contains(pattern).sum() for pattern in patterns_to_check}\n",
        "\n",
        "results_2"
      ],
      "metadata": {
        "colab": {
          "base_uri": "https://localhost:8080/"
        },
        "id": "kvbIUFdzDoCZ",
        "outputId": "8cebb2c1-fc21-41ea-f474-64b7f2677f10"
      },
      "execution_count": 229,
      "outputs": [
        {
          "output_type": "execute_result",
          "data": {
            "text/plain": [
              "{' > 0ca >': 3605}"
            ]
          },
          "metadata": {},
          "execution_count": 229
        }
      ]
    },
    {
      "cell_type": "markdown",
      "source": [
        "**Answer 1.8.4**"
      ],
      "metadata": {
        "id": "sUFseVT1FtcR"
      }
    },
    {
      "cell_type": "code",
      "source": [
        "total_sum = 0\n",
        "for pattern in results_1:\n",
        "    if results_1[pattern] != 0 and results_2[' > 0ca >'] != 0:\n",
        "        total_sum += results_1[pattern] / results_2[' > 0ca >']\n",
        "\n",
        "print(total_sum)\n"
      ],
      "metadata": {
        "colab": {
          "base_uri": "https://localhost:8080/"
        },
        "id": "Bn4FR4dvFRB3",
        "outputId": "00eb7961-7fb6-41fc-c53d-7f001aeff1a3"
      },
      "execution_count": 230,
      "outputs": [
        {
          "output_type": "stream",
          "name": "stdout",
          "text": [
            "1.0\n"
          ]
        }
      ]
    },
    {
      "cell_type": "markdown",
      "source": [
        "**Question 1.9**"
      ],
      "metadata": {
        "id": "XveN0yQ7U8Qv"
      }
    },
    {
      "cell_type": "code",
      "source": [
        "# remove records with quantity > 0\n",
        "print(\"Shape of data before filter\",format(df.shape))\n",
        "df_pos_quantity= df[df['Quantity']>0]\n",
        "print(\"Number of records with negative quantity\",format(df.shape[0]-df_pos_quantity.shape[0]))\n",
        "df_pos_quantity\n",
        "#find top 100 products\n",
        "df_top_100_prod=df_pos_quantity.groupby(['productName_process'],as_index=False)['Quantity'].sum().sort_values(by='Quantity',ascending=False).head(100)\n",
        "df_top_100_prod_lst=df_top_100_prod['productName_process'].to_list()\n",
        "# Filter Transactiond data for top 100 products\n",
        "df_top_100_prod_trns=df_pos_quantity[df_pos_quantity['productName_process'].isin(df_top_100_prod_lst)]\n",
        "# Create transaction level data\n",
        "df_prod_trans=df_top_100_prod_trns.pivot_table(index='TransactionNo',columns='productName_process',values='Quantity',aggfunc='sum', fill_value=0).reset_index()\n"
      ],
      "metadata": {
        "colab": {
          "base_uri": "https://localhost:8080/"
        },
        "id": "0t1o8hpTU7d1",
        "outputId": "955690ce-f9eb-432b-e17b-50f101bace89"
      },
      "execution_count": 231,
      "outputs": [
        {
          "output_type": "stream",
          "name": "stdout",
          "text": [
            "Shape of data before filter (536350, 13)\n",
            "Number of records with negative quantity 8585\n"
          ]
        }
      ]
    },
    {
      "cell_type": "code",
      "source": [
        "df_prod_cust=df_top_100_prod_trns.pivot_table(index='CustomerNo',\n",
        "                                              columns='productName_process',\n",
        "                                              values='Quantity',aggfunc='sum', fill_value=0).reset_index()\n",
        "\n"
      ],
      "metadata": {
        "id": "OY_G24S9b57X"
      },
      "execution_count": 232,
      "outputs": []
    },
    {
      "cell_type": "code",
      "source": [
        "# Extract the customer IDs and product quantities\n",
        "customer_id = df_prod_cust['CustomerNo'].tolist()\n",
        "product_quantity= df_prod_cust.drop('CustomerNo', axis=1).values\n",
        "\n",
        "# Calculate the pairwise Euclidean distance matrix\n",
        "Eucl_distance_matrix = euclidean_distances(product_quantity)\n",
        "\n",
        "#Pandas Dataframe\n",
        "Eucl_distance_df=pd.DataFrame(Eucl_distance_matrix, index=customer_id,columns=customer_id)\n",
        "Eucl_distance_df.head()"
      ],
      "metadata": {
        "id": "4rGxs2LAebqf",
        "colab": {
          "base_uri": "https://localhost:8080/",
          "height": 235
        },
        "outputId": "2599f87b-4d9c-43e6-ff3e-e40e516468d9"
      },
      "execution_count": 233,
      "outputs": [
        {
          "output_type": "execute_result",
          "data": {
            "text/plain": [
              "       12004  12008  12025  12026  12031  12042  12043  12050  12057  12063  \\\n",
              "12004   0.00  42.13  13.15  10.05   9.95  22.07  19.42   8.43  33.85   8.77   \n",
              "12008  42.13   0.00  43.47  41.74  42.31  46.13  44.38  41.74  53.66  42.00   \n",
              "12025  13.15  43.47   0.00  15.23   9.90  24.86  19.39  13.27  32.33  14.14   \n",
              "12026  10.05  41.74  15.23   0.00   9.70  20.54  21.95   6.78  37.08   6.00   \n",
              "12031   9.95  42.31   9.90   9.70   0.00  22.18  20.25   7.21  33.99   7.87   \n",
              "\n",
              "       ...  18269  18270  18272  18274  18276  18277  18281  18282  18283  \\\n",
              "12004  ...  22.52  14.80 136.22  20.00  48.45  28.55  13.23  14.00  99.01   \n",
              "12008  ...  47.85  43.66 139.81  45.68  45.98  50.02  43.15  43.12 107.79   \n",
              "12025  ...  27.82  18.49 137.54  22.87  49.70  30.63  17.26  17.86  97.48   \n",
              "12026  ...  24.70  13.34 135.54  18.95  48.02  27.82  11.58  12.45  99.41   \n",
              "12031  ...  25.22  14.28 137.04  19.62  48.29  28.28  12.65  13.45  99.19   \n",
              "\n",
              "       18287  \n",
              "12004  42.65  \n",
              "12008  59.82  \n",
              "12025  45.14  \n",
              "12026  43.01  \n",
              "12031  43.59  \n",
              "\n",
              "[5 rows x 4251 columns]"
            ],
            "text/html": [
              "\n",
              "  <div id=\"df-cec87aff-8649-42ea-8898-4431eeae0a72\" class=\"colab-df-container\">\n",
              "    <div>\n",
              "<style scoped>\n",
              "    .dataframe tbody tr th:only-of-type {\n",
              "        vertical-align: middle;\n",
              "    }\n",
              "\n",
              "    .dataframe tbody tr th {\n",
              "        vertical-align: top;\n",
              "    }\n",
              "\n",
              "    .dataframe thead th {\n",
              "        text-align: right;\n",
              "    }\n",
              "</style>\n",
              "<table border=\"1\" class=\"dataframe\">\n",
              "  <thead>\n",
              "    <tr style=\"text-align: right;\">\n",
              "      <th></th>\n",
              "      <th>12004</th>\n",
              "      <th>12008</th>\n",
              "      <th>12025</th>\n",
              "      <th>12026</th>\n",
              "      <th>12031</th>\n",
              "      <th>12042</th>\n",
              "      <th>12043</th>\n",
              "      <th>12050</th>\n",
              "      <th>12057</th>\n",
              "      <th>12063</th>\n",
              "      <th>...</th>\n",
              "      <th>18269</th>\n",
              "      <th>18270</th>\n",
              "      <th>18272</th>\n",
              "      <th>18274</th>\n",
              "      <th>18276</th>\n",
              "      <th>18277</th>\n",
              "      <th>18281</th>\n",
              "      <th>18282</th>\n",
              "      <th>18283</th>\n",
              "      <th>18287</th>\n",
              "    </tr>\n",
              "  </thead>\n",
              "  <tbody>\n",
              "    <tr>\n",
              "      <th>12004</th>\n",
              "      <td>0.00</td>\n",
              "      <td>42.13</td>\n",
              "      <td>13.15</td>\n",
              "      <td>10.05</td>\n",
              "      <td>9.95</td>\n",
              "      <td>22.07</td>\n",
              "      <td>19.42</td>\n",
              "      <td>8.43</td>\n",
              "      <td>33.85</td>\n",
              "      <td>8.77</td>\n",
              "      <td>...</td>\n",
              "      <td>22.52</td>\n",
              "      <td>14.80</td>\n",
              "      <td>136.22</td>\n",
              "      <td>20.00</td>\n",
              "      <td>48.45</td>\n",
              "      <td>28.55</td>\n",
              "      <td>13.23</td>\n",
              "      <td>14.00</td>\n",
              "      <td>99.01</td>\n",
              "      <td>42.65</td>\n",
              "    </tr>\n",
              "    <tr>\n",
              "      <th>12008</th>\n",
              "      <td>42.13</td>\n",
              "      <td>0.00</td>\n",
              "      <td>43.47</td>\n",
              "      <td>41.74</td>\n",
              "      <td>42.31</td>\n",
              "      <td>46.13</td>\n",
              "      <td>44.38</td>\n",
              "      <td>41.74</td>\n",
              "      <td>53.66</td>\n",
              "      <td>42.00</td>\n",
              "      <td>...</td>\n",
              "      <td>47.85</td>\n",
              "      <td>43.66</td>\n",
              "      <td>139.81</td>\n",
              "      <td>45.68</td>\n",
              "      <td>45.98</td>\n",
              "      <td>50.02</td>\n",
              "      <td>43.15</td>\n",
              "      <td>43.12</td>\n",
              "      <td>107.79</td>\n",
              "      <td>59.82</td>\n",
              "    </tr>\n",
              "    <tr>\n",
              "      <th>12025</th>\n",
              "      <td>13.15</td>\n",
              "      <td>43.47</td>\n",
              "      <td>0.00</td>\n",
              "      <td>15.23</td>\n",
              "      <td>9.90</td>\n",
              "      <td>24.86</td>\n",
              "      <td>19.39</td>\n",
              "      <td>13.27</td>\n",
              "      <td>32.33</td>\n",
              "      <td>14.14</td>\n",
              "      <td>...</td>\n",
              "      <td>27.82</td>\n",
              "      <td>18.49</td>\n",
              "      <td>137.54</td>\n",
              "      <td>22.87</td>\n",
              "      <td>49.70</td>\n",
              "      <td>30.63</td>\n",
              "      <td>17.26</td>\n",
              "      <td>17.86</td>\n",
              "      <td>97.48</td>\n",
              "      <td>45.14</td>\n",
              "    </tr>\n",
              "    <tr>\n",
              "      <th>12026</th>\n",
              "      <td>10.05</td>\n",
              "      <td>41.74</td>\n",
              "      <td>15.23</td>\n",
              "      <td>0.00</td>\n",
              "      <td>9.70</td>\n",
              "      <td>20.54</td>\n",
              "      <td>21.95</td>\n",
              "      <td>6.78</td>\n",
              "      <td>37.08</td>\n",
              "      <td>6.00</td>\n",
              "      <td>...</td>\n",
              "      <td>24.70</td>\n",
              "      <td>13.34</td>\n",
              "      <td>135.54</td>\n",
              "      <td>18.95</td>\n",
              "      <td>48.02</td>\n",
              "      <td>27.82</td>\n",
              "      <td>11.58</td>\n",
              "      <td>12.45</td>\n",
              "      <td>99.41</td>\n",
              "      <td>43.01</td>\n",
              "    </tr>\n",
              "    <tr>\n",
              "      <th>12031</th>\n",
              "      <td>9.95</td>\n",
              "      <td>42.31</td>\n",
              "      <td>9.90</td>\n",
              "      <td>9.70</td>\n",
              "      <td>0.00</td>\n",
              "      <td>22.18</td>\n",
              "      <td>20.25</td>\n",
              "      <td>7.21</td>\n",
              "      <td>33.99</td>\n",
              "      <td>7.87</td>\n",
              "      <td>...</td>\n",
              "      <td>25.22</td>\n",
              "      <td>14.28</td>\n",
              "      <td>137.04</td>\n",
              "      <td>19.62</td>\n",
              "      <td>48.29</td>\n",
              "      <td>28.28</td>\n",
              "      <td>12.65</td>\n",
              "      <td>13.45</td>\n",
              "      <td>99.19</td>\n",
              "      <td>43.59</td>\n",
              "    </tr>\n",
              "  </tbody>\n",
              "</table>\n",
              "<p>5 rows × 4251 columns</p>\n",
              "</div>\n",
              "    <div class=\"colab-df-buttons\">\n",
              "\n",
              "  <div class=\"colab-df-container\">\n",
              "    <button class=\"colab-df-convert\" onclick=\"convertToInteractive('df-cec87aff-8649-42ea-8898-4431eeae0a72')\"\n",
              "            title=\"Convert this dataframe to an interactive table.\"\n",
              "            style=\"display:none;\">\n",
              "\n",
              "  <svg xmlns=\"http://www.w3.org/2000/svg\" height=\"24px\" viewBox=\"0 -960 960 960\">\n",
              "    <path d=\"M120-120v-720h720v720H120Zm60-500h600v-160H180v160Zm220 220h160v-160H400v160Zm0 220h160v-160H400v160ZM180-400h160v-160H180v160Zm440 0h160v-160H620v160ZM180-180h160v-160H180v160Zm440 0h160v-160H620v160Z\"/>\n",
              "  </svg>\n",
              "    </button>\n",
              "\n",
              "  <style>\n",
              "    .colab-df-container {\n",
              "      display:flex;\n",
              "      gap: 12px;\n",
              "    }\n",
              "\n",
              "    .colab-df-convert {\n",
              "      background-color: #E8F0FE;\n",
              "      border: none;\n",
              "      border-radius: 50%;\n",
              "      cursor: pointer;\n",
              "      display: none;\n",
              "      fill: #1967D2;\n",
              "      height: 32px;\n",
              "      padding: 0 0 0 0;\n",
              "      width: 32px;\n",
              "    }\n",
              "\n",
              "    .colab-df-convert:hover {\n",
              "      background-color: #E2EBFA;\n",
              "      box-shadow: 0px 1px 2px rgba(60, 64, 67, 0.3), 0px 1px 3px 1px rgba(60, 64, 67, 0.15);\n",
              "      fill: #174EA6;\n",
              "    }\n",
              "\n",
              "    .colab-df-buttons div {\n",
              "      margin-bottom: 4px;\n",
              "    }\n",
              "\n",
              "    [theme=dark] .colab-df-convert {\n",
              "      background-color: #3B4455;\n",
              "      fill: #D2E3FC;\n",
              "    }\n",
              "\n",
              "    [theme=dark] .colab-df-convert:hover {\n",
              "      background-color: #434B5C;\n",
              "      box-shadow: 0px 1px 3px 1px rgba(0, 0, 0, 0.15);\n",
              "      filter: drop-shadow(0px 1px 2px rgba(0, 0, 0, 0.3));\n",
              "      fill: #FFFFFF;\n",
              "    }\n",
              "  </style>\n",
              "\n",
              "    <script>\n",
              "      const buttonEl =\n",
              "        document.querySelector('#df-cec87aff-8649-42ea-8898-4431eeae0a72 button.colab-df-convert');\n",
              "      buttonEl.style.display =\n",
              "        google.colab.kernel.accessAllowed ? 'block' : 'none';\n",
              "\n",
              "      async function convertToInteractive(key) {\n",
              "        const element = document.querySelector('#df-cec87aff-8649-42ea-8898-4431eeae0a72');\n",
              "        const dataTable =\n",
              "          await google.colab.kernel.invokeFunction('convertToInteractive',\n",
              "                                                    [key], {});\n",
              "        if (!dataTable) return;\n",
              "\n",
              "        const docLinkHtml = 'Like what you see? Visit the ' +\n",
              "          '<a target=\"_blank\" href=https://colab.research.google.com/notebooks/data_table.ipynb>data table notebook</a>'\n",
              "          + ' to learn more about interactive tables.';\n",
              "        element.innerHTML = '';\n",
              "        dataTable['output_type'] = 'display_data';\n",
              "        await google.colab.output.renderOutput(dataTable, element);\n",
              "        const docLink = document.createElement('div');\n",
              "        docLink.innerHTML = docLinkHtml;\n",
              "        element.appendChild(docLink);\n",
              "      }\n",
              "    </script>\n",
              "  </div>\n",
              "\n",
              "\n",
              "<div id=\"df-d31edf3a-c438-4d17-8d46-ee2a27dba4b9\">\n",
              "  <button class=\"colab-df-quickchart\" onclick=\"quickchart('df-d31edf3a-c438-4d17-8d46-ee2a27dba4b9')\"\n",
              "            title=\"Suggest charts\"\n",
              "            style=\"display:none;\">\n",
              "\n",
              "<svg xmlns=\"http://www.w3.org/2000/svg\" height=\"24px\"viewBox=\"0 0 24 24\"\n",
              "     width=\"24px\">\n",
              "    <g>\n",
              "        <path d=\"M19 3H5c-1.1 0-2 .9-2 2v14c0 1.1.9 2 2 2h14c1.1 0 2-.9 2-2V5c0-1.1-.9-2-2-2zM9 17H7v-7h2v7zm4 0h-2V7h2v10zm4 0h-2v-4h2v4z\"/>\n",
              "    </g>\n",
              "</svg>\n",
              "  </button>\n",
              "\n",
              "<style>\n",
              "  .colab-df-quickchart {\n",
              "      --bg-color: #E8F0FE;\n",
              "      --fill-color: #1967D2;\n",
              "      --hover-bg-color: #E2EBFA;\n",
              "      --hover-fill-color: #174EA6;\n",
              "      --disabled-fill-color: #AAA;\n",
              "      --disabled-bg-color: #DDD;\n",
              "  }\n",
              "\n",
              "  [theme=dark] .colab-df-quickchart {\n",
              "      --bg-color: #3B4455;\n",
              "      --fill-color: #D2E3FC;\n",
              "      --hover-bg-color: #434B5C;\n",
              "      --hover-fill-color: #FFFFFF;\n",
              "      --disabled-bg-color: #3B4455;\n",
              "      --disabled-fill-color: #666;\n",
              "  }\n",
              "\n",
              "  .colab-df-quickchart {\n",
              "    background-color: var(--bg-color);\n",
              "    border: none;\n",
              "    border-radius: 50%;\n",
              "    cursor: pointer;\n",
              "    display: none;\n",
              "    fill: var(--fill-color);\n",
              "    height: 32px;\n",
              "    padding: 0;\n",
              "    width: 32px;\n",
              "  }\n",
              "\n",
              "  .colab-df-quickchart:hover {\n",
              "    background-color: var(--hover-bg-color);\n",
              "    box-shadow: 0 1px 2px rgba(60, 64, 67, 0.3), 0 1px 3px 1px rgba(60, 64, 67, 0.15);\n",
              "    fill: var(--button-hover-fill-color);\n",
              "  }\n",
              "\n",
              "  .colab-df-quickchart-complete:disabled,\n",
              "  .colab-df-quickchart-complete:disabled:hover {\n",
              "    background-color: var(--disabled-bg-color);\n",
              "    fill: var(--disabled-fill-color);\n",
              "    box-shadow: none;\n",
              "  }\n",
              "\n",
              "  .colab-df-spinner {\n",
              "    border: 2px solid var(--fill-color);\n",
              "    border-color: transparent;\n",
              "    border-bottom-color: var(--fill-color);\n",
              "    animation:\n",
              "      spin 1s steps(1) infinite;\n",
              "  }\n",
              "\n",
              "  @keyframes spin {\n",
              "    0% {\n",
              "      border-color: transparent;\n",
              "      border-bottom-color: var(--fill-color);\n",
              "      border-left-color: var(--fill-color);\n",
              "    }\n",
              "    20% {\n",
              "      border-color: transparent;\n",
              "      border-left-color: var(--fill-color);\n",
              "      border-top-color: var(--fill-color);\n",
              "    }\n",
              "    30% {\n",
              "      border-color: transparent;\n",
              "      border-left-color: var(--fill-color);\n",
              "      border-top-color: var(--fill-color);\n",
              "      border-right-color: var(--fill-color);\n",
              "    }\n",
              "    40% {\n",
              "      border-color: transparent;\n",
              "      border-right-color: var(--fill-color);\n",
              "      border-top-color: var(--fill-color);\n",
              "    }\n",
              "    60% {\n",
              "      border-color: transparent;\n",
              "      border-right-color: var(--fill-color);\n",
              "    }\n",
              "    80% {\n",
              "      border-color: transparent;\n",
              "      border-right-color: var(--fill-color);\n",
              "      border-bottom-color: var(--fill-color);\n",
              "    }\n",
              "    90% {\n",
              "      border-color: transparent;\n",
              "      border-bottom-color: var(--fill-color);\n",
              "    }\n",
              "  }\n",
              "</style>\n",
              "\n",
              "  <script>\n",
              "    async function quickchart(key) {\n",
              "      const quickchartButtonEl =\n",
              "        document.querySelector('#' + key + ' button');\n",
              "      quickchartButtonEl.disabled = true;  // To prevent multiple clicks.\n",
              "      quickchartButtonEl.classList.add('colab-df-spinner');\n",
              "      try {\n",
              "        const charts = await google.colab.kernel.invokeFunction(\n",
              "            'suggestCharts', [key], {});\n",
              "      } catch (error) {\n",
              "        console.error('Error during call to suggestCharts:', error);\n",
              "      }\n",
              "      quickchartButtonEl.classList.remove('colab-df-spinner');\n",
              "      quickchartButtonEl.classList.add('colab-df-quickchart-complete');\n",
              "    }\n",
              "    (() => {\n",
              "      let quickchartButtonEl =\n",
              "        document.querySelector('#df-d31edf3a-c438-4d17-8d46-ee2a27dba4b9 button');\n",
              "      quickchartButtonEl.style.display =\n",
              "        google.colab.kernel.accessAllowed ? 'block' : 'none';\n",
              "    })();\n",
              "  </script>\n",
              "</div>\n",
              "\n",
              "    </div>\n",
              "  </div>\n"
            ],
            "application/vnd.google.colaboratory.intrinsic+json": {
              "type": "dataframe",
              "variable_name": "Eucl_distance_df"
            }
          },
          "metadata": {},
          "execution_count": 233
        }
      ]
    },
    {
      "cell_type": "code",
      "source": [
        "stop"
      ],
      "metadata": {
        "id": "s3JYdS7HULyi",
        "colab": {
          "base_uri": "https://localhost:8080/",
          "height": 146
        },
        "outputId": "4a036cd7-c39e-4da7-8b45-f560648466f6"
      },
      "execution_count": 234,
      "outputs": [
        {
          "output_type": "error",
          "ename": "NameError",
          "evalue": "name 'stop' is not defined",
          "traceback": [
            "\u001b[0;31m---------------------------------------------------------------------------\u001b[0m",
            "\u001b[0;31mNameError\u001b[0m                                 Traceback (most recent call last)",
            "\u001b[0;32m<ipython-input-234-4f76a9dad686>\u001b[0m in \u001b[0;36m<cell line: 1>\u001b[0;34m()\u001b[0m\n\u001b[0;32m----> 1\u001b[0;31m \u001b[0mstop\u001b[0m\u001b[0;34m\u001b[0m\u001b[0;34m\u001b[0m\u001b[0m\n\u001b[0m",
            "\u001b[0;31mNameError\u001b[0m: name 'stop' is not defined"
          ]
        }
      ]
    },
    {
      "cell_type": "markdown",
      "source": [
        " **Part 2 : Sales Prediction**"
      ],
      "metadata": {
        "id": "0N40uoxYliKj"
      }
    },
    {
      "cell_type": "markdown",
      "source": [
        "### Exploring sales data"
      ],
      "metadata": {
        "id": "4dQXwx_TI53Q"
      }
    },
    {
      "cell_type": "code",
      "source": [
        "#data from section 1.2\n",
        "df=df.copy()\n",
        "#Plot the sum of revenue on transaction_date in a line plot\n",
        "print(\"Duration of time series:\", df['transaction_date'].min(),df['transaction_date'].max())\n",
        "daily_tot_rev=df.groupby(['transaction_date'],as_index=False)['Revenue'].sum()\n",
        "# plot the line plot\n",
        "fig,ax=plt.subplots(figsize=(20,7))\n",
        "ax=sns.lineplot(data=daily_tot_rev, x='transaction_date',y='Revenue', marker='o', linestyle='-', color='b')\n",
        "# provide label and title\n",
        "ax.set_title(\"Total Revenue by Transaction Date\")\n",
        "ax.set_ylabel(\"Revenue (Millions)\")  # Set y-axis label\n",
        "ax.set_xlabel(\"Transaction date\") # Set x-axis label\n",
        "# converting revenue numbers to million\n",
        "ax.yaxis.set_major_formatter(lambda x, pos: f'{x / 1000000:.1f}M')\n",
        "plt.show()"
      ],
      "metadata": {
        "id": "a5e_rCQYljZj",
        "colab": {
          "base_uri": "https://localhost:8080/",
          "height": 410
        },
        "outputId": "503e5dd4-9df8-4a4e-b6ac-bfad7070e9c4"
      },
      "execution_count": 235,
      "outputs": [
        {
          "output_type": "stream",
          "name": "stdout",
          "text": [
            "Duration of time series: 2018-12-01 00:00:00 2019-12-09 00:00:00\n"
          ]
        },
        {
          "output_type": "display_data",
          "data": {
            "text/plain": [
              "<Figure size 1200x420 with 1 Axes>"
            ],
            "image/png": "[encoded data removed]"
          },
          "metadata": {}
        }
      ]
    },
    {
      "cell_type": "markdown",
      "source": [
        "Summary :\n",
        "- Above plot shows daily revenue from 2018-12-01 to 2019-12-09\n",
        "- Data shows increasing trend and high variations, needs more investigation to check if this variation is due to weekends, holidays etc"
      ],
      "metadata": {
        "id": "mxoD-mlLH_dn"
      }
    },
    {
      "cell_type": "markdown",
      "source": [
        "### Missing data imputaion"
      ],
      "metadata": {
        "id": "Xhi-BYybQC3J"
      }
    },
    {
      "cell_type": "code",
      "source": [
        "# Test Case : To check is any data is missing\n",
        "# Calculate the difference in days\n",
        "datediff = daily_tot_rev['transaction_date'].max() - daily_tot_rev['transaction_date'].min()\n",
        "#extracting number of days\n",
        "expected_no_of_days = datediff.days+1\n",
        "print(f\"The number of days between {daily_tot_rev['transaction_date'].max()} and {daily_tot_rev['transaction_date'].min()} is: {expected_no_of_days}\")\n",
        "print(f\"Total {expected_no_of_days-daily_tot_rev.shape[0]} days are missing\")"
      ],
      "metadata": {
        "colab": {
          "base_uri": "https://localhost:8080/"
        },
        "id": "yEyKB71oKMrJ",
        "outputId": "84abe656-c154-4552-9949-797114f59c47"
      },
      "execution_count": 236,
      "outputs": [
        {
          "output_type": "stream",
          "name": "stdout",
          "text": [
            "The number of days between 2019-12-09 00:00:00 and 2018-12-01 00:00:00 is: 374\n",
            "Total 69 days are missing\n"
          ]
        }
      ]
    },
    {
      "cell_type": "code",
      "source": [
        "# Find missing dates and impute\n",
        "# Creating an empty data frame which will have all the dates between min and max date of original data.\n",
        "date_range = pd.date_range(start=daily_tot_rev['transaction_date'].min(), end=daily_tot_rev['transaction_date'].max(), freq='D')\n",
        "# empty datafrmae with all dates\n",
        "df_dates = pd.DataFrame({'transaction_date': date_range})\n",
        "\n",
        "#Check data information before imputation\n",
        "print(\"\\033[94mSummary of daily revenue data before imputation.\\033[0m\")\n",
        "print(\"*\" *40)\n",
        "print(daily_tot_rev.info())\n",
        "print(\"*\" *40)\n",
        "# Merge data with all dates with transaction dataframe so a record for missing date will be created.\n",
        "daily_rev = df_dates.merge(daily_tot_rev, on='transaction_date', how='left')\n",
        "\n",
        "# Get a list of dates with missing revenue.\n",
        "list_of_missing_dates =daily_rev[daily_rev['Revenue'].isnull()]['transaction_date'].unique()\n",
        "\n",
        "#fill missing records with average revenue.\n",
        "mean_val=daily_rev['Revenue'].mean()\n",
        "daily_rev['Revenue'] = daily_rev['Revenue'].fillna(mean_val)\n",
        "\n",
        "#Check data information after imputation\n",
        "print(\"\\033[94mSummary of daily revenue data after imputation.\\033[0m\")\n",
        "print(\"*\" *40)\n",
        "print(daily_rev.info())\n",
        "print(\"*\" *40)\n",
        "\n",
        "#set datetime index\n",
        "daily_rev.set_index('transaction_date', inplace=True)"
      ],
      "metadata": {
        "id": "dqCP4GNqmAJw",
        "colab": {
          "base_uri": "https://localhost:8080/"
        },
        "outputId": "7d7cb502-548a-4272-f31d-07a7516bf325"
      },
      "execution_count": 237,
      "outputs": [
        {
          "output_type": "stream",
          "name": "stdout",
          "text": [
            "\u001b[94mSummary of daily revenue data before imputation.\u001b[0m\n",
            "****************************************\n",
            "<class 'pandas.core.frame.DataFrame'>\n",
            "RangeIndex: 305 entries, 0 to 304\n",
            "Data columns (total 2 columns):\n",
            " #   Column            Non-Null Count  Dtype         \n",
            "---  ------            --------------  -----         \n",
            " 0   transaction_date  305 non-null    datetime64[ns]\n",
            " 1   Revenue           305 non-null    float32       \n",
            "dtypes: datetime64[ns](1), float32(1)\n",
            "memory usage: 3.7 KB\n",
            "None\n",
            "****************************************\n",
            "\u001b[94mSummary of daily revenue data after imputation.\u001b[0m\n",
            "****************************************\n",
            "<class 'pandas.core.frame.DataFrame'>\n",
            "RangeIndex: 374 entries, 0 to 373\n",
            "Data columns (total 2 columns):\n",
            " #   Column            Non-Null Count  Dtype         \n",
            "---  ------            --------------  -----         \n",
            " 0   transaction_date  374 non-null    datetime64[ns]\n",
            " 1   Revenue           374 non-null    float32       \n",
            "dtypes: datetime64[ns](1), float32(1)\n",
            "memory usage: 4.5 KB\n",
            "None\n",
            "****************************************\n"
          ]
        }
      ]
    },
    {
      "cell_type": "markdown",
      "source": [
        "Summary :\n",
        "- Observed 69 days are missing in data.\n",
        "- These dates are imputed by average revenue"
      ],
      "metadata": {
        "id": "RRcc3dXGPT9z"
      }
    },
    {
      "cell_type": "markdown",
      "source": [
        "### Data understading with seasonal decompostion"
      ],
      "metadata": {
        "id": "ArP81uMTP-jQ"
      }
    },
    {
      "cell_type": "code",
      "source": [
        "#seasonal decomoposition of time series, add extrapolate trend to avoid null values in result\n",
        "result = seasonal_decompose(daily_rev['Revenue'] , model='additive',extrapolate_trend='freq')\n",
        "#resuls are saved in dataframe\n",
        "seasonal_decomp_df=pd.DataFrame()\n",
        "#trend component\n",
        "seasonal_decomp_df['trend']=result.trend\n",
        "# seasonal component\n",
        "seasonal_decomp_df['seasonal']=result.seasonal\n",
        "#residual component\n",
        "seasonal_decomp_df['residual']=result.resid\n",
        "#Original time series\n",
        "seasonal_decomp_df['observed']=result.observed\n",
        "#plot seasonal decomposition\n",
        "result.plot()\n",
        "plt.show()"
      ],
      "metadata": {
        "colab": {
          "base_uri": "https://localhost:8080/",
          "height": 730
        },
        "id": "h9Elj3pLYni1",
        "outputId": "c04704c1-69a0-4ab8-f2b3-eda4ac7d7e0a"
      },
      "execution_count": 238,
      "outputs": [
        {
          "output_type": "display_data",
          "data": {
            "text/plain": [
              "<Figure size 1200x720 with 4 Axes>"
            ],
            "image/png": "[encoded data removed]"
          },
          "metadata": {}
        }
      ]
    },
    {
      "cell_type": "markdown",
      "source": [
        "Seasonal decomposition Summary :\n",
        "- Data shows multiple directional change points in trend, observed a decreasing trend in revenue in initial period till Jan 2019.\n",
        "- From Jan 2019 data shows various peaks and troughs followed by increase in trend from September 19 followed by drop in November\n",
        "- Data shows weekly seasonality, increase in sales is observed on Sunday followed by drop next day\n",
        "- High variation in residual is observed, this unexplained behaviour needs to be evaluated"
      ],
      "metadata": {
        "id": "vQ5VR2lDSSM4"
      }
    },
    {
      "cell_type": "markdown",
      "source": [
        "### Checking stationarity of time series"
      ],
      "metadata": {
        "id": "_pfkuptoaKP1"
      }
    },
    {
      "cell_type": "code",
      "source": [
        "# ADF test\n",
        "result = adfuller(daily_rev['Revenue'])\n",
        "# Print the results\n",
        "print('p-value:', result[1])\n",
        "\n",
        "# Interpret the results\n",
        "if result[1] <= 0.05:\n",
        "  print(\" Reject the null hypothesis i.e. series is likely  to be stationary\")\n",
        "else:\n",
        "   print(\" Accept the null hypothesis i.e. series is non stationary\")"
      ],
      "metadata": {
        "id": "LVrQn8djGfCs",
        "colab": {
          "base_uri": "https://localhost:8080/"
        },
        "outputId": "3e121a18-9e8d-4a9b-a664-fd7b6a7f7e7c"
      },
      "execution_count": 239,
      "outputs": [
        {
          "output_type": "stream",
          "name": "stdout",
          "text": [
            "p-value: 0.16768063954729934\n",
            " Accept the null hypothesis i.e. series is non stationary\n"
          ]
        }
      ]
    },
    {
      "cell_type": "code",
      "source": [
        "# Train Test split\n",
        "#train data with revenue values\n",
        "train=daily_rev.loc['2019-01-01':'2019-10-31'].values\n",
        "print(f\"shape of train data {train.shape}\")\n",
        "# test data with revenue values\n",
        "test=daily_rev.loc['2019-11-01':].values\n",
        "#for graphs\n",
        "test1=daily_rev.loc['2019-11-01':]\n",
        "print(f\"shape of test data {test.shape}\")\n",
        "\n",
        "# Grid search method\n",
        "history = [x for x in train]\n",
        "predictions = list()\n",
        "# performance metric\n",
        "MAE=[]\n",
        "# ARIMA order\n",
        "p_values = [0,1,2]\n",
        "d_values = [0,1,2]\n",
        "q_values = [0,1,2]\n",
        "arima_order=[]\n",
        "# track iterations\n",
        "iteration=0\n",
        "# walk-forward validation\n",
        "best_score= float(\"inf\")\n",
        "for p in p_values:\n",
        "  for d in d_values:\n",
        "    for q in q_values:\n",
        "      # order based p,d,q values\n",
        "      order = (p, d, q)\n",
        "      iteration+=1\n",
        "      for t in range(len(test)):\n",
        "        # fit an ARIMA model\n",
        "        model = ARIMA(history, order=order)\n",
        "        #fit the model\n",
        "        model_fit = model.fit()\n",
        "        # gnerate the the forecast\n",
        "        results = model_fit.forecast()\n",
        "        # point forecast\n",
        "        y_pred=results[0]\n",
        "        #save forecast in list\n",
        "        predictions.append(y_pred)\n",
        "        obs = test[t]\n",
        "        # add t+1 point from test data is added in history to execute walk foreward method\n",
        "        history.append(obs)\n",
        "      # calculate mean absolute error of current iteration\n",
        "      mae = mean_absolute_error(test, predictions)\n",
        "      # for next iteration values from train is assigned to history\n",
        "      history = [x for x in train]\n",
        "      # predictions are initiated\n",
        "      predictions = list()\n",
        "      #append MAE value of current iteration\n",
        "      MAE.append(mae)\n",
        "      #save arima order\n",
        "      arima_order.append(order)\n",
        "      print(f\"iteration: {iteration}\")\n",
        "      print('Test MAE: %.3f' % mae,p,d,q)\n"
      ],
      "metadata": {
        "colab": {
          "base_uri": "https://localhost:8080/"
        },
        "id": "2B5wTs4WdBAI",
        "outputId": "cd1681a4-f5e2-4d79-859e-9ed94d82a1b3"
      },
      "execution_count": 259,
      "outputs": [
        {
          "output_type": "stream",
          "name": "stdout",
          "text": [
            "shape of train data (304, 1)\n",
            "shape of test data (39, 1)\n",
            "iteration: 1\n",
            "Test MAE: 99557.407 0 0 0\n",
            "iteration: 2\n",
            "Test MAE: 92495.370 0 0 1\n",
            "iteration: 3\n",
            "Test MAE: 89055.139 0 0 2\n",
            "iteration: 4\n",
            "Test MAE: 89807.287 0 1 0\n",
            "iteration: 5\n",
            "Test MAE: 90321.888 0 1 1\n",
            "iteration: 6\n",
            "Test MAE: 90211.371 0 1 2\n",
            "iteration: 7\n",
            "Test MAE: 137934.434 0 2 0\n",
            "iteration: 8\n",
            "Test MAE: 89873.743 0 2 1\n",
            "iteration: 9\n",
            "Test MAE: 90977.910 0 2 2\n",
            "iteration: 10\n",
            "Test MAE: 89327.164 1 0 0\n",
            "iteration: 11\n",
            "Test MAE: 88047.094 1 0 1\n",
            "iteration: 12\n",
            "Test MAE: 92197.772 1 0 2\n",
            "iteration: 13\n",
            "Test MAE: 83752.895 1 1 0\n",
            "iteration: 14\n",
            "Test MAE: 90139.527 1 1 1\n",
            "iteration: 15\n",
            "Test MAE: 90381.222 1 1 2\n",
            "iteration: 16\n",
            "Test MAE: 128668.955 1 2 0\n",
            "iteration: 17\n",
            "Test MAE: 83904.357 1 2 1\n",
            "iteration: 18\n",
            "Test MAE: 92270.723 1 2 2\n",
            "iteration: 19\n",
            "Test MAE: 83989.986 2 0 0\n",
            "iteration: 20\n",
            "Test MAE: 91794.191 2 0 1\n",
            "iteration: 21\n",
            "Test MAE: 89282.638 2 0 2\n",
            "iteration: 22\n",
            "Test MAE: 83144.596 2 1 0\n",
            "iteration: 23\n",
            "Test MAE: 89860.867 2 1 1\n",
            "iteration: 24\n",
            "Test MAE: 90343.101 2 1 2\n",
            "iteration: 25\n",
            "Test MAE: 110256.483 2 2 0\n",
            "iteration: 26\n",
            "Test MAE: 83197.822 2 2 1\n",
            "iteration: 27\n",
            "Test MAE: 85344.865 2 2 2\n"
          ]
        }
      ]
    },
    {
      "cell_type": "code",
      "source": [
        "# Find best parameter i.e values of p,d,q\n",
        "#find the index of minimum values of MAE\n",
        "min_mae_index = MAE.index(min(MAE))\n",
        "\n",
        "# Get the corresponding ARIMA order\n",
        "best_arima_order = arima_order[min_mae_index]\n",
        "\n",
        "print(f\"Best ARIMA order based on minimum MAE {min(MAE)}: {best_arima_order}\")"
      ],
      "metadata": {
        "colab": {
          "base_uri": "https://localhost:8080/"
        },
        "id": "ytmDFQ_Tq-Zp",
        "outputId": "3131ca25-6c82-4bde-8210-250d24e2ba0a"
      },
      "execution_count": 260,
      "outputs": [
        {
          "output_type": "stream",
          "name": "stdout",
          "text": [
            "Best ARIMA order based on minimum MAE 83144.59578172247: (2, 1, 0)\n"
          ]
        }
      ]
    },
    {
      "cell_type": "markdown",
      "source": [
        "## Forecast with best parameters"
      ],
      "metadata": {
        "id": "Uk70l6-2nOJb"
      }
    },
    {
      "cell_type": "code",
      "source": [
        "confidence_interval=[]\n",
        "predictions=[]\n",
        "# walk-forward validation\n",
        "for t in range(len(test)):\n",
        "  # fit an ARIMA model\n",
        "  model = ARIMA(history, order=(best_arima_order[0],best_arima_order[1],best_arima_order[2]))\n",
        "  #fit the model\n",
        "  model_fit = model.fit()\n",
        "  # gnerate the the forecast\n",
        "  results = model_fit.get_forecast()\n",
        "  # forecast\n",
        "  y_pred=results.predicted_mean\n",
        "  predictions.append(y_pred)\n",
        "  # t+1 observation value\n",
        "  obs = test[t]\n",
        "  #append test observation in history\n",
        "  history.append(obs)\n",
        "  #get confidence interval\n",
        "  ci = results.conf_int(0.05)\n",
        "  confidence_interval.append(ci[0])\n",
        "\n",
        "# calculate mean absolute error of current iteration\n",
        "mae = mean_absolute_error(test, predictions)\n",
        "print('Test MAE: %.3f' % mae)\n",
        "\n",
        "\n",
        "#plot the results\n",
        "plt.plot(test, label=\"Actual revenue\",marker='o', linestyle='-', color='b')\n",
        "plt.title(\"Actual vs Forecasted Revenue\")\n",
        "plt.plot(predictions, label=\"forecasted revenue\",marker='o', linestyle='-', color='r')\n",
        "plt.fill_between(list(range(len(test))),\n",
        "                  np.array(confidence_interval)[:,0], np.array(confidence_interval)[:,1],\n",
        "                 alpha=0.1, color='b')\n",
        "plt.show()"
      ],
      "metadata": {
        "colab": {
          "base_uri": "https://localhost:8080/",
          "height": 629
        },
        "id": "SorYOw23srcw",
        "outputId": "f9e86a6e-ea28-4338-c130-4f1c8306df2f"
      },
      "execution_count": 281,
      "outputs": [
        {
          "output_type": "stream",
          "name": "stdout",
          "text": [
            "Test MAE: 82487.339\n"
          ]
        },
        {
          "output_type": "display_data",
          "data": {
            "text/plain": [
              "<Figure size 1200x720 with 1 Axes>"
            ],
            "image/png": "[encoded data removed]"
          },
          "metadata": {}
        }
      ]
    },
    {
      "cell_type": "markdown",
      "source": [],
      "metadata": {
        "id": "ti-vStIp2xOR"
      }
    },
    {
      "cell_type": "markdown",
      "source": [
        "# Summary :\n",
        "- ARIMA model with order 2,1,0 has captured the trend.\n",
        "- Model still needs further improvement with to capture seasonality"
      ],
      "metadata": {
        "id": "tv4qy6ko0QvZ"
      }
    }
  ]
}