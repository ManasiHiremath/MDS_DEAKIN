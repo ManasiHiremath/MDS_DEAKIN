{
  "nbformat": 4,
  "nbformat_minor": 0,
  "metadata": {
    "colab": {
      "provenance": []
    },
    "kernelspec": {
      "name": "python3",
      "display_name": "Python 3"
    },
    "language_info": {
      "name": "python"
    }
  },
  "cells": [
    {
      "cell_type": "markdown",
      "source": [
        "---\n",
        "- Course Name : SIT742- Modern Data Science\n",
        "- Assignment Name : End term Assignment\n",
        "- Student ID : s224923422\n",
        "- Developers name : Group7\n",
        "- Date : 15-September-2024\n",
        "---"
      ],
      "metadata": {
        "id": "nrWqvTmcF7ia"
      }
    },
    {
      "cell_type": "code",
      "execution_count": null,
      "metadata": {
        "id": "tQPwfQ3BBH1b"
      },
      "outputs": [],
      "source": [
        "# !sudo apt update\n",
        "# !apt-get install openjdk-8-jdk-headless -qq > /dev/null\n",
        "# #Check this site for the latest download link https://www.apache.org/dyn/closer.lua/spark/spark-3.2.1/spark-3.2.1-bin-hadoop3.2.tgz\n",
        "# !wget -q https://dlcdn.apache.org/spark/spark-3.2.1/spark-3.2.1-bin-hadoop3.2.tgz\n",
        "# !tar xf spark-3.2.1-bin-hadoop3.2.tgz\n",
        "# !pip install -q findspark\n",
        "# !pip install pyspark\n",
        "# !pip install py4j\n",
        "\n",
        "# import os\n",
        "# import sys\n",
        "# # os.environ[\"JAVA_HOME\"] = \"/usr/lib/jvm/java-8-openjdk-amd64\"\n",
        "# # os.environ[\"SPARK_HOME\"] = \"/content/spark-3.2.1-bin-hadoop3.2\"\n",
        "\n",
        "\n",
        "# import findspark\n",
        "# findspark.init()\n",
        "# findspark.find()\n",
        "\n",
        "# import pyspark\n",
        "\n",
        "# from pyspark.sql import DataFrame, SparkSession\n",
        "# from typing import List\n",
        "# import pyspark.sql.types as T\n",
        "# import pyspark.sql.functions as F\n",
        "\n",
        "# spark= SparkSession \\\n",
        "#        .builder \\\n",
        "#        .appName(\"Our First Spark Example\") \\\n",
        "#        .getOrCreate()\n",
        "\n",
        "# spark"
      ]
    },
    {
      "cell_type": "code",
      "source": [
        "!pip install -q findspark\n",
        "!pip install pyspark\n",
        "!pip install py4j\n",
        "\n",
        "import os\n",
        "import sys\n",
        "# os.environ[\"JAVA_HOME\"] = \"/usr/lib/jvm/java-8-openjdk-amd64\"\n",
        "# os.environ[\"SPARK_HOME\"] = \"/content/spark-3.2.1-bin-hadoop3.2\"\n",
        "import findspark\n",
        "findspark.init()\n",
        "findspark.find()\n",
        "import pyspark\n",
        "\n",
        "from pyspark.sql import DataFrame, SparkSession\n",
        "from typing import List\n",
        "import pyspark.sql.types as T\n",
        "import pyspark.sql.functions as F\n",
        "\n",
        "spark= SparkSession \\\n",
        "        .builder \\\n",
        "       .appName(\"Our First Spark Example\") \\\n",
        "       .getOrCreate()\n",
        "\n",
        "spark"
      ],
      "metadata": {
        "colab": {
          "base_uri": "https://localhost:8080/",
          "height": 479
        },
        "id": "fmHM5dWaP9qa",
        "outputId": "8a7e66ab-a9e8-406f-a895-1ccb85ebca54"
      },
      "execution_count": null,
      "outputs": [
        {
          "output_type": "stream",
          "name": "stdout",
          "text": [
            "Collecting pyspark\n",
            "  Downloading pyspark-3.5.3.tar.gz (317.3 MB)\n",
            "\u001b[2K     \u001b[90m━━━━━━━━━━━━━━━━━━━━━━━━━━━━━━━━━━━━━━━━\u001b[0m \u001b[32m317.3/317.3 MB\u001b[0m \u001b[31m3.3 MB/s\u001b[0m eta \u001b[36m0:00:00\u001b[0m\n",
            "\u001b[?25h  Preparing metadata (setup.py) ... \u001b[?25l\u001b[?25hdone\n",
            "Requirement already satisfied: py4j==0.10.9.7 in /usr/local/lib/python3.10/dist-packages (from pyspark) (0.10.9.7)\n",
            "Building wheels for collected packages: pyspark\n",
            "  Building wheel for pyspark (setup.py) ... \u001b[?25l\u001b[?25hdone\n",
            "  Created wheel for pyspark: filename=pyspark-3.5.3-py2.py3-none-any.whl size=317840625 sha256=3b40242dd164b6d22ef2d67b34de5b8548b485f5be06b62d0345b2ae23dcd003\n",
            "  Stored in directory: /root/.cache/pip/wheels/1b/3a/92/28b93e2fbfdbb07509ca4d6f50c5e407f48dce4ddbda69a4ab\n",
            "Successfully built pyspark\n",
            "Installing collected packages: pyspark\n",
            "Successfully installed pyspark-3.5.3\n",
            "Requirement already satisfied: py4j in /usr/local/lib/python3.10/dist-packages (0.10.9.7)\n"
          ]
        },
        {
          "output_type": "execute_result",
          "data": {
            "text/plain": [
              "<pyspark.sql.session.SparkSession at 0x7da405976410>"
            ],
            "text/html": [
              "\n",
              "            <div>\n",
              "                <p><b>SparkSession - in-memory</b></p>\n",
              "                \n",
              "        <div>\n",
              "            <p><b>SparkContext</b></p>\n",
              "\n",
              "            <p><a href=\"http://b18add14ab71:4040\">Spark UI</a></p>\n",
              "\n",
              "            <dl>\n",
              "              <dt>Version</dt>\n",
              "                <dd><code>v3.5.3</code></dd>\n",
              "              <dt>Master</dt>\n",
              "                <dd><code>local[*]</code></dd>\n",
              "              <dt>AppName</dt>\n",
              "                <dd><code>Our First Spark Example</code></dd>\n",
              "            </dl>\n",
              "        </div>\n",
              "        \n",
              "            </div>\n",
              "        "
            ]
          },
          "metadata": {},
          "execution_count": 2
        }
      ]
    },
    {
      "cell_type": "code",
      "source": [
        "# !pip install dexplot"
      ],
      "metadata": {
        "id": "8xfZsqbCbTS_"
      },
      "execution_count": null,
      "outputs": []
    },
    {
      "cell_type": "code",
      "source": [
        "from pyspark import SparkContext\n",
        "from pyspark.sql import SQLContext\n",
        "from pyspark.sql import Row\n",
        "from pyspark.sql import SparkSession\n",
        "from pyspark.sql.functions import col,isnan, when, count,regexp_replace\n",
        "from pyspark.sql.types import FloatType\n",
        "import requests\n",
        "import gzip\n",
        "import pandas as pd\n",
        "import os\n",
        "import matplotlib.pyplot as plt\n",
        "import seaborn as sns\n",
        "import textwrap\n",
        "from sklearn.metrics.pairwise import euclidean_distances\n",
        "from statsmodels.tsa.seasonal import seasonal_decompose\n",
        "from statsmodels.tsa.stattools import adfuller\n",
        "\n",
        "import warnings\n",
        "warnings.filterwarnings(\"ignore\")\n",
        "\n",
        "\n",
        "# Set the display option to suppress scientific notation\n",
        "pd.set_option('display.float_format', '{:.2f}'.format)\n"
      ],
      "metadata": {
        "id": "Efl6d0QCBJQe"
      },
      "execution_count": null,
      "outputs": []
    },
    {
      "cell_type": "code",
      "source": [
        "# download file if it does not exist.\n",
        "\n",
        "def download_file_if_not_exists(url, save_path):\n",
        "  \"\"\" Download a file from URL if it doesnot exist at a given path\n",
        "  Input:\n",
        "  url: URL path of the file\n",
        "  save_path: path to save the file\n",
        "  output: if download if it does not exist else message\n",
        "  \"\"\"\n",
        "  # This condition download files from URL if its does not exist at a local path\n",
        "  if not os.path.exists(save_path):\n",
        "    print(f\"Downloading file from {url} to {save_path}\")\n",
        "    !wget {save_path} {url}\n",
        "  else:\n",
        "     # This condition skips download if file exists\n",
        "    print(f\"File already exist at {save_path}. Skipping download\")\n",
        "\n",
        "# Run above function to retrive transactionrecord file\n",
        "file_url = 'https://raw.githubusercontent.com/tulip-lab/sit742/develop/Assessment/2024/data/transactionrecord.gz'\n",
        "local_file_path = 'transactionrecord.gz'\n",
        "# download required file\n",
        "download_file_if_not_exists(file_url, local_file_path)"
      ],
      "metadata": {
        "colab": {
          "base_uri": "https://localhost:8080/"
        },
        "id": "JZ7-Q9KlGB4R",
        "outputId": "6e6b9125-d8c6-42e6-fdee-547fcd16efa0"
      },
      "execution_count": null,
      "outputs": [
        {
          "output_type": "stream",
          "name": "stdout",
          "text": [
            "Downloading file from https://raw.githubusercontent.com/tulip-lab/sit742/develop/Assessment/2024/data/transactionrecord.gz to transactionrecord.gz\n",
            "--2024-09-27 04:28:50--  http://transactionrecord.gz/\n",
            "Resolving transactionrecord.gz (transactionrecord.gz)... failed: Name or service not known.\n",
            "wget: unable to resolve host address ‘transactionrecord.gz’\n",
            "--2024-09-27 04:28:50--  https://raw.githubusercontent.com/tulip-lab/sit742/develop/Assessment/2024/data/transactionrecord.gz\n",
            "Resolving raw.githubusercontent.com (raw.githubusercontent.com)... 185.199.110.133, 185.199.108.133, 185.199.109.133, ...\n",
            "Connecting to raw.githubusercontent.com (raw.githubusercontent.com)|185.199.110.133|:443... connected.\n",
            "HTTP request sent, awaiting response... 200 OK\n",
            "Length: 6986544 (6.7M) [application/octet-stream]\n",
            "Saving to: ‘transactionrecord.gz’\n",
            "\n",
            "transactionrecord.g 100%[===================>]   6.66M  --.-KB/s    in 0.09s   \n",
            "\n",
            "2024-09-27 04:28:51 (70.9 MB/s) - ‘transactionrecord.gz’ saved [6986544/6986544]\n",
            "\n",
            "FINISHED --2024-09-27 04:28:51--\n",
            "Total wall clock time: 0.4s\n",
            "Downloaded: 1 files, 6.7M in 0.09s (70.9 MB/s)\n"
          ]
        }
      ]
    },
    {
      "cell_type": "code",
      "source": [
        "# read input file using spark\n",
        "# delete if df_spark lready exist and create new dataframe with transaction record\n",
        "try:\n",
        "  del df_spark\n",
        "  print(\"df_spark is deleted\")\n",
        "except:\n",
        "  pass\n",
        "print(f\"Creating dataframe from input file-{local_file_path}\")\n",
        "df_spark = spark.read.csv(\"transactionrecord.gz\", header=True, inferSchema=True)\n",
        "# df_spark=spark.read.csv(\"transactionrecord.gz\", header=True, inferSchema=True)\n",
        "# check input dataframe schema\n",
        "print(\"schema of dataframe\")\n",
        "df_spark.printSchema()\n",
        "#check sample observations\n",
        "print(\"Check Sample observation\")\n",
        "df_spark.show(2)"
      ],
      "metadata": {
        "colab": {
          "base_uri": "https://localhost:8080/"
        },
        "id": "B_0hWxOfGH9e",
        "outputId": "e09c6a4f-9d08-4833-c7a6-2893c24d8496"
      },
      "execution_count": null,
      "outputs": [
        {
          "output_type": "stream",
          "name": "stdout",
          "text": [
            "Creating dataframe from input file-transactionrecord.gz\n",
            "schema of dataframe\n",
            "root\n",
            " |-- TransactionNo: string (nullable = true)\n",
            " |-- Date: string (nullable = true)\n",
            " |-- ProductNo: string (nullable = true)\n",
            " |-- ProductName: string (nullable = true)\n",
            " |-- Product_category: string (nullable = true)\n",
            " |-- Price: double (nullable = true)\n",
            " |-- Quantity: integer (nullable = true)\n",
            " |-- CustomerNo: integer (nullable = true)\n",
            " |-- Country: string (nullable = true)\n",
            "\n",
            "Check Sample observation\n",
            "+-------------+---------+---------+--------------------+----------------+-----+--------+----------+--------------+\n",
            "|TransactionNo|     Date|ProductNo|         ProductName|Product_category|Price|Quantity|CustomerNo|       Country|\n",
            "+-------------+---------+---------+--------------------+----------------+-----+--------+----------+--------------+\n",
            "|       581482|12/9/2019|    22485|Set Of 2 Wooden M...|             0ca|21.47|      12|     17490|United Kingdom|\n",
            "|       581475|12/9/2019|    22596|Christmas Star Wi...|             0ca|10.65|      36|     13069|United Kingdom|\n",
            "+-------------+---------+---------+--------------------+----------------+-----+--------+----------+--------------+\n",
            "only showing top 2 rows\n",
            "\n"
          ]
        }
      ]
    },
    {
      "cell_type": "markdown",
      "source": [
        "**Question 1.1**"
      ],
      "metadata": {
        "id": "-YVtnGK3GbYz"
      }
    },
    {
      "cell_type": "markdown",
      "source": [
        "**Answer 1.1.1**"
      ],
      "metadata": {
        "id": "TY044QB6GeKq"
      }
    },
    {
      "cell_type": "code",
      "source": [
        "# replace \"NA\" values in CustomerNo with -1\n",
        "# check the columns with values \"NA\"\n",
        "df_spark = df_spark.withColumn(\"CustomerNo\", when(col(\"CustomerNO\")=='NA',-1).otherwise(col(\"CustomerNo\")))\n",
        "# checking dataframe after transformation\n",
        "df_spark.filter(df_spark.CustomerNo== -1).show(2)"
      ],
      "metadata": {
        "colab": {
          "base_uri": "https://localhost:8080/"
        },
        "id": "cZcfsxxTGSbL",
        "outputId": "6badde89-a935-4118-9b66-50707465322b"
      },
      "execution_count": null,
      "outputs": [
        {
          "output_type": "stream",
          "name": "stdout",
          "text": [
            "+-------------+---------+---------+--------------------+----------------+-----+--------+----------+--------------+\n",
            "|TransactionNo|     Date|ProductNo|         ProductName|Product_category|Price|Quantity|CustomerNo|       Country|\n",
            "+-------------+---------+---------+--------------------+----------------+-----+--------+----------+--------------+\n",
            "|      C581406|12/8/2019|   46000M|Polyester Filler ...|             0ca| 6.19|    -240|        -1|United Kingdom|\n",
            "|      C581406|12/8/2019|   46000S|Polyester Filler ...|             0ca| 6.19|    -300|        -1|United Kingdom|\n",
            "+-------------+---------+---------+--------------------+----------------+-----+--------+----------+--------------+\n",
            "only showing top 2 rows\n",
            "\n"
          ]
        }
      ]
    },
    {
      "cell_type": "markdown",
      "source": [
        "**Answer 1.1.2**"
      ],
      "metadata": {
        "id": "VXPdpmayGi-h"
      }
    },
    {
      "cell_type": "code",
      "source": [
        "# check productName values\n",
        "print(\"Check product name column before creating columns\")\n",
        "df_spark.select(\"ProductName\").distinct().show(2,truncate=False)\n",
        "# create productName_process by using only alphabates\n",
        "df_spark = df_spark.withColumn(\"productName_process\", regexp_replace(col(\"ProductName\"), r'(\\d+)', \"\"))\n",
        "df_spark.select(\"ProductName\",\"productName_process\").show(5,truncate=False)"
      ],
      "metadata": {
        "colab": {
          "base_uri": "https://localhost:8080/"
        },
        "id": "rp3A8XO5GgaG",
        "outputId": "b587f387-7f9f-4212-bc09-1b1e8bc23be6"
      },
      "execution_count": null,
      "outputs": [
        {
          "output_type": "stream",
          "name": "stdout",
          "text": [
            "Check product name column before creating columns\n",
            "+---------------------------------+\n",
            "|ProductName                      |\n",
            "+---------------------------------+\n",
            "|Parisienne Sewing Box            |\n",
            "|Pack Of 12 50'S Christmas Tissues|\n",
            "+---------------------------------+\n",
            "only showing top 2 rows\n",
            "\n",
            "+-----------------------------------+-----------------------------------+\n",
            "|ProductName                        |productName_process                |\n",
            "+-----------------------------------+-----------------------------------+\n",
            "|Set Of 2 Wooden Market Crates      |Set Of  Wooden Market Crates       |\n",
            "|Christmas Star Wish List Chalkboard|Christmas Star Wish List Chalkboard|\n",
            "|Storage Tin Vintage Leaf           |Storage Tin Vintage Leaf           |\n",
            "|Tree T-Light Holder Willie Winkie  |Tree T-Light Holder Willie Winkie  |\n",
            "|Set Of 4 Knick Knack Tins Poppies  |Set Of  Knick Knack Tins Poppies   |\n",
            "+-----------------------------------+-----------------------------------+\n",
            "only showing top 5 rows\n",
            "\n"
          ]
        }
      ]
    },
    {
      "cell_type": "markdown",
      "source": [
        "**Question 1.2**"
      ],
      "metadata": {
        "id": "9waLNhm9GpIL"
      }
    },
    {
      "cell_type": "markdown",
      "source": [
        "**Answer 1.2.1**"
      ],
      "metadata": {
        "id": "mJbDjRYtGt-x"
      }
    },
    {
      "cell_type": "code",
      "source": [
        "# create new column Revenue using price and quantity\n",
        "df_spark= df_spark.withColumn(\"Revenue\", (col(\"Price\")* col(\"Quantity\")).cast(FloatType()))\n",
        "df_spark.show(5)"
      ],
      "metadata": {
        "colab": {
          "base_uri": "https://localhost:8080/"
        },
        "id": "CxMtEJlsGmAX",
        "outputId": "5a39d2cd-a068-4842-ff12-48e700072b63"
      },
      "execution_count": null,
      "outputs": [
        {
          "output_type": "stream",
          "name": "stdout",
          "text": [
            "+-------------+---------+---------+--------------------+----------------+-----+--------+----------+--------------+--------------------+-------+\n",
            "|TransactionNo|     Date|ProductNo|         ProductName|Product_category|Price|Quantity|CustomerNo|       Country| productName_process|Revenue|\n",
            "+-------------+---------+---------+--------------------+----------------+-----+--------+----------+--------------+--------------------+-------+\n",
            "|       581482|12/9/2019|    22485|Set Of 2 Wooden M...|             0ca|21.47|      12|     17490|United Kingdom|Set Of  Wooden Ma...| 257.64|\n",
            "|       581475|12/9/2019|    22596|Christmas Star Wi...|             0ca|10.65|      36|     13069|United Kingdom|Christmas Star Wi...|  383.4|\n",
            "|       581475|12/9/2019|    23235|Storage Tin Vinta...|             0ca|11.53|      12|     13069|United Kingdom|Storage Tin Vinta...| 138.36|\n",
            "|       581475|12/9/2019|    23272|Tree T-Light Hold...|             0ca|10.65|      12|     13069|United Kingdom|Tree T-Light Hold...|  127.8|\n",
            "|       581475|12/9/2019|    23239|Set Of 4 Knick Kn...|             0ca|11.94|       6|     13069|United Kingdom|Set Of  Knick Kna...|  71.64|\n",
            "+-------------+---------+---------+--------------------+----------------+-----+--------+----------+--------------+--------------------+-------+\n",
            "only showing top 5 rows\n",
            "\n"
          ]
        }
      ]
    },
    {
      "cell_type": "markdown",
      "source": [
        "**Answer 1.2.2**"
      ],
      "metadata": {
        "id": "S339hi5lGyyv"
      }
    },
    {
      "cell_type": "code",
      "source": [
        "#convert spark dataframe to pandas dataframe\n",
        "df=df_spark.toPandas()\n",
        "#create transaction_date date variable with date format\n",
        "df['transaction_date'] = pd.to_datetime(df['Date'])\n",
        "df.drop(columns=['Date'])\n",
        "# check first 5 observations\n",
        "df.head()"
      ],
      "metadata": {
        "colab": {
          "base_uri": "https://localhost:8080/",
          "height": 417
        },
        "id": "NVfbpQ0iGoOt",
        "outputId": "8b2d68ae-7867-48bb-b1a6-fa4bed7a7430"
      },
      "execution_count": null,
      "outputs": [
        {
          "output_type": "execute_result",
          "data": {
            "text/plain": [
              "  TransactionNo       Date ProductNo                          ProductName  \\\n",
              "0        581482  12/9/2019     22485        Set Of 2 Wooden Market Crates   \n",
              "1        581475  12/9/2019     22596  Christmas Star Wish List Chalkboard   \n",
              "2        581475  12/9/2019     23235             Storage Tin Vintage Leaf   \n",
              "3        581475  12/9/2019     23272    Tree T-Light Holder Willie Winkie   \n",
              "4        581475  12/9/2019     23239    Set Of 4 Knick Knack Tins Poppies   \n",
              "\n",
              "  Product_category  Price  Quantity  CustomerNo         Country  \\\n",
              "0              0ca  21.47        12       17490  United Kingdom   \n",
              "1              0ca  10.65        36       13069  United Kingdom   \n",
              "2              0ca  11.53        12       13069  United Kingdom   \n",
              "3              0ca  10.65        12       13069  United Kingdom   \n",
              "4              0ca  11.94         6       13069  United Kingdom   \n",
              "\n",
              "                   productName_process  Revenue transaction_date  \n",
              "0         Set Of  Wooden Market Crates   257.64       2019-12-09  \n",
              "1  Christmas Star Wish List Chalkboard   383.40       2019-12-09  \n",
              "2             Storage Tin Vintage Leaf   138.36       2019-12-09  \n",
              "3    Tree T-Light Holder Willie Winkie   127.80       2019-12-09  \n",
              "4     Set Of  Knick Knack Tins Poppies    71.64       2019-12-09  "
            ],
            "text/html": [
              "\n",
              "  <div id=\"df-c34917ac-341f-40ae-8e16-75c90274a156\" class=\"colab-df-container\">\n",
              "    <div>\n",
              "<style scoped>\n",
              "    .dataframe tbody tr th:only-of-type {\n",
              "        vertical-align: middle;\n",
              "    }\n",
              "\n",
              "    .dataframe tbody tr th {\n",
              "        vertical-align: top;\n",
              "    }\n",
              "\n",
              "    .dataframe thead th {\n",
              "        text-align: right;\n",
              "    }\n",
              "</style>\n",
              "<table border=\"1\" class=\"dataframe\">\n",
              "  <thead>\n",
              "    <tr style=\"text-align: right;\">\n",
              "      <th></th>\n",
              "      <th>TransactionNo</th>\n",
              "      <th>Date</th>\n",
              "      <th>ProductNo</th>\n",
              "      <th>ProductName</th>\n",
              "      <th>Product_category</th>\n",
              "      <th>Price</th>\n",
              "      <th>Quantity</th>\n",
              "      <th>CustomerNo</th>\n",
              "      <th>Country</th>\n",
              "      <th>productName_process</th>\n",
              "      <th>Revenue</th>\n",
              "      <th>transaction_date</th>\n",
              "    </tr>\n",
              "  </thead>\n",
              "  <tbody>\n",
              "    <tr>\n",
              "      <th>0</th>\n",
              "      <td>581482</td>\n",
              "      <td>12/9/2019</td>\n",
              "      <td>22485</td>\n",
              "      <td>Set Of 2 Wooden Market Crates</td>\n",
              "      <td>0ca</td>\n",
              "      <td>21.47</td>\n",
              "      <td>12</td>\n",
              "      <td>17490</td>\n",
              "      <td>United Kingdom</td>\n",
              "      <td>Set Of  Wooden Market Crates</td>\n",
              "      <td>257.64</td>\n",
              "      <td>2019-12-09</td>\n",
              "    </tr>\n",
              "    <tr>\n",
              "      <th>1</th>\n",
              "      <td>581475</td>\n",
              "      <td>12/9/2019</td>\n",
              "      <td>22596</td>\n",
              "      <td>Christmas Star Wish List Chalkboard</td>\n",
              "      <td>0ca</td>\n",
              "      <td>10.65</td>\n",
              "      <td>36</td>\n",
              "      <td>13069</td>\n",
              "      <td>United Kingdom</td>\n",
              "      <td>Christmas Star Wish List Chalkboard</td>\n",
              "      <td>383.40</td>\n",
              "      <td>2019-12-09</td>\n",
              "    </tr>\n",
              "    <tr>\n",
              "      <th>2</th>\n",
              "      <td>581475</td>\n",
              "      <td>12/9/2019</td>\n",
              "      <td>23235</td>\n",
              "      <td>Storage Tin Vintage Leaf</td>\n",
              "      <td>0ca</td>\n",
              "      <td>11.53</td>\n",
              "      <td>12</td>\n",
              "      <td>13069</td>\n",
              "      <td>United Kingdom</td>\n",
              "      <td>Storage Tin Vintage Leaf</td>\n",
              "      <td>138.36</td>\n",
              "      <td>2019-12-09</td>\n",
              "    </tr>\n",
              "    <tr>\n",
              "      <th>3</th>\n",
              "      <td>581475</td>\n",
              "      <td>12/9/2019</td>\n",
              "      <td>23272</td>\n",
              "      <td>Tree T-Light Holder Willie Winkie</td>\n",
              "      <td>0ca</td>\n",
              "      <td>10.65</td>\n",
              "      <td>12</td>\n",
              "      <td>13069</td>\n",
              "      <td>United Kingdom</td>\n",
              "      <td>Tree T-Light Holder Willie Winkie</td>\n",
              "      <td>127.80</td>\n",
              "      <td>2019-12-09</td>\n",
              "    </tr>\n",
              "    <tr>\n",
              "      <th>4</th>\n",
              "      <td>581475</td>\n",
              "      <td>12/9/2019</td>\n",
              "      <td>23239</td>\n",
              "      <td>Set Of 4 Knick Knack Tins Poppies</td>\n",
              "      <td>0ca</td>\n",
              "      <td>11.94</td>\n",
              "      <td>6</td>\n",
              "      <td>13069</td>\n",
              "      <td>United Kingdom</td>\n",
              "      <td>Set Of  Knick Knack Tins Poppies</td>\n",
              "      <td>71.64</td>\n",
              "      <td>2019-12-09</td>\n",
              "    </tr>\n",
              "  </tbody>\n",
              "</table>\n",
              "</div>\n",
              "    <div class=\"colab-df-buttons\">\n",
              "\n",
              "  <div class=\"colab-df-container\">\n",
              "    <button class=\"colab-df-convert\" onclick=\"convertToInteractive('df-c34917ac-341f-40ae-8e16-75c90274a156')\"\n",
              "            title=\"Convert this dataframe to an interactive table.\"\n",
              "            style=\"display:none;\">\n",
              "\n",
              "  <svg xmlns=\"http://www.w3.org/2000/svg\" height=\"24px\" viewBox=\"0 -960 960 960\">\n",
              "    <path d=\"M120-120v-720h720v720H120Zm60-500h600v-160H180v160Zm220 220h160v-160H400v160Zm0 220h160v-160H400v160ZM180-400h160v-160H180v160Zm440 0h160v-160H620v160ZM180-180h160v-160H180v160Zm440 0h160v-160H620v160Z\"/>\n",
              "  </svg>\n",
              "    </button>\n",
              "\n",
              "  <style>\n",
              "    .colab-df-container {\n",
              "      display:flex;\n",
              "      gap: 12px;\n",
              "    }\n",
              "\n",
              "    .colab-df-convert {\n",
              "      background-color: #E8F0FE;\n",
              "      border: none;\n",
              "      border-radius: 50%;\n",
              "      cursor: pointer;\n",
              "      display: none;\n",
              "      fill: #1967D2;\n",
              "      height: 32px;\n",
              "      padding: 0 0 0 0;\n",
              "      width: 32px;\n",
              "    }\n",
              "\n",
              "    .colab-df-convert:hover {\n",
              "      background-color: #E2EBFA;\n",
              "      box-shadow: 0px 1px 2px rgba(60, 64, 67, 0.3), 0px 1px 3px 1px rgba(60, 64, 67, 0.15);\n",
              "      fill: #174EA6;\n",
              "    }\n",
              "\n",
              "    .colab-df-buttons div {\n",
              "      margin-bottom: 4px;\n",
              "    }\n",
              "\n",
              "    [theme=dark] .colab-df-convert {\n",
              "      background-color: #3B4455;\n",
              "      fill: #D2E3FC;\n",
              "    }\n",
              "\n",
              "    [theme=dark] .colab-df-convert:hover {\n",
              "      background-color: #434B5C;\n",
              "      box-shadow: 0px 1px 3px 1px rgba(0, 0, 0, 0.15);\n",
              "      filter: drop-shadow(0px 1px 2px rgba(0, 0, 0, 0.3));\n",
              "      fill: #FFFFFF;\n",
              "    }\n",
              "  </style>\n",
              "\n",
              "    <script>\n",
              "      const buttonEl =\n",
              "        document.querySelector('#df-c34917ac-341f-40ae-8e16-75c90274a156 button.colab-df-convert');\n",
              "      buttonEl.style.display =\n",
              "        google.colab.kernel.accessAllowed ? 'block' : 'none';\n",
              "\n",
              "      async function convertToInteractive(key) {\n",
              "        const element = document.querySelector('#df-c34917ac-341f-40ae-8e16-75c90274a156');\n",
              "        const dataTable =\n",
              "          await google.colab.kernel.invokeFunction('convertToInteractive',\n",
              "                                                    [key], {});\n",
              "        if (!dataTable) return;\n",
              "\n",
              "        const docLinkHtml = 'Like what you see? Visit the ' +\n",
              "          '<a target=\"_blank\" href=https://colab.research.google.com/notebooks/data_table.ipynb>data table notebook</a>'\n",
              "          + ' to learn more about interactive tables.';\n",
              "        element.innerHTML = '';\n",
              "        dataTable['output_type'] = 'display_data';\n",
              "        await google.colab.output.renderOutput(dataTable, element);\n",
              "        const docLink = document.createElement('div');\n",
              "        docLink.innerHTML = docLinkHtml;\n",
              "        element.appendChild(docLink);\n",
              "      }\n",
              "    </script>\n",
              "  </div>\n",
              "\n",
              "\n",
              "<div id=\"df-4fc04bcb-5ad7-4834-8735-74c43293f8b1\">\n",
              "  <button class=\"colab-df-quickchart\" onclick=\"quickchart('df-4fc04bcb-5ad7-4834-8735-74c43293f8b1')\"\n",
              "            title=\"Suggest charts\"\n",
              "            style=\"display:none;\">\n",
              "\n",
              "<svg xmlns=\"http://www.w3.org/2000/svg\" height=\"24px\"viewBox=\"0 0 24 24\"\n",
              "     width=\"24px\">\n",
              "    <g>\n",
              "        <path d=\"M19 3H5c-1.1 0-2 .9-2 2v14c0 1.1.9 2 2 2h14c1.1 0 2-.9 2-2V5c0-1.1-.9-2-2-2zM9 17H7v-7h2v7zm4 0h-2V7h2v10zm4 0h-2v-4h2v4z\"/>\n",
              "    </g>\n",
              "</svg>\n",
              "  </button>\n",
              "\n",
              "<style>\n",
              "  .colab-df-quickchart {\n",
              "      --bg-color: #E8F0FE;\n",
              "      --fill-color: #1967D2;\n",
              "      --hover-bg-color: #E2EBFA;\n",
              "      --hover-fill-color: #174EA6;\n",
              "      --disabled-fill-color: #AAA;\n",
              "      --disabled-bg-color: #DDD;\n",
              "  }\n",
              "\n",
              "  [theme=dark] .colab-df-quickchart {\n",
              "      --bg-color: #3B4455;\n",
              "      --fill-color: #D2E3FC;\n",
              "      --hover-bg-color: #434B5C;\n",
              "      --hover-fill-color: #FFFFFF;\n",
              "      --disabled-bg-color: #3B4455;\n",
              "      --disabled-fill-color: #666;\n",
              "  }\n",
              "\n",
              "  .colab-df-quickchart {\n",
              "    background-color: var(--bg-color);\n",
              "    border: none;\n",
              "    border-radius: 50%;\n",
              "    cursor: pointer;\n",
              "    display: none;\n",
              "    fill: var(--fill-color);\n",
              "    height: 32px;\n",
              "    padding: 0;\n",
              "    width: 32px;\n",
              "  }\n",
              "\n",
              "  .colab-df-quickchart:hover {\n",
              "    background-color: var(--hover-bg-color);\n",
              "    box-shadow: 0 1px 2px rgba(60, 64, 67, 0.3), 0 1px 3px 1px rgba(60, 64, 67, 0.15);\n",
              "    fill: var(--button-hover-fill-color);\n",
              "  }\n",
              "\n",
              "  .colab-df-quickchart-complete:disabled,\n",
              "  .colab-df-quickchart-complete:disabled:hover {\n",
              "    background-color: var(--disabled-bg-color);\n",
              "    fill: var(--disabled-fill-color);\n",
              "    box-shadow: none;\n",
              "  }\n",
              "\n",
              "  .colab-df-spinner {\n",
              "    border: 2px solid var(--fill-color);\n",
              "    border-color: transparent;\n",
              "    border-bottom-color: var(--fill-color);\n",
              "    animation:\n",
              "      spin 1s steps(1) infinite;\n",
              "  }\n",
              "\n",
              "  @keyframes spin {\n",
              "    0% {\n",
              "      border-color: transparent;\n",
              "      border-bottom-color: var(--fill-color);\n",
              "      border-left-color: var(--fill-color);\n",
              "    }\n",
              "    20% {\n",
              "      border-color: transparent;\n",
              "      border-left-color: var(--fill-color);\n",
              "      border-top-color: var(--fill-color);\n",
              "    }\n",
              "    30% {\n",
              "      border-color: transparent;\n",
              "      border-left-color: var(--fill-color);\n",
              "      border-top-color: var(--fill-color);\n",
              "      border-right-color: var(--fill-color);\n",
              "    }\n",
              "    40% {\n",
              "      border-color: transparent;\n",
              "      border-right-color: var(--fill-color);\n",
              "      border-top-color: var(--fill-color);\n",
              "    }\n",
              "    60% {\n",
              "      border-color: transparent;\n",
              "      border-right-color: var(--fill-color);\n",
              "    }\n",
              "    80% {\n",
              "      border-color: transparent;\n",
              "      border-right-color: var(--fill-color);\n",
              "      border-bottom-color: var(--fill-color);\n",
              "    }\n",
              "    90% {\n",
              "      border-color: transparent;\n",
              "      border-bottom-color: var(--fill-color);\n",
              "    }\n",
              "  }\n",
              "</style>\n",
              "\n",
              "  <script>\n",
              "    async function quickchart(key) {\n",
              "      const quickchartButtonEl =\n",
              "        document.querySelector('#' + key + ' button');\n",
              "      quickchartButtonEl.disabled = true;  // To prevent multiple clicks.\n",
              "      quickchartButtonEl.classList.add('colab-df-spinner');\n",
              "      try {\n",
              "        const charts = await google.colab.kernel.invokeFunction(\n",
              "            'suggestCharts', [key], {});\n",
              "      } catch (error) {\n",
              "        console.error('Error during call to suggestCharts:', error);\n",
              "      }\n",
              "      quickchartButtonEl.classList.remove('colab-df-spinner');\n",
              "      quickchartButtonEl.classList.add('colab-df-quickchart-complete');\n",
              "    }\n",
              "    (() => {\n",
              "      let quickchartButtonEl =\n",
              "        document.querySelector('#df-4fc04bcb-5ad7-4834-8735-74c43293f8b1 button');\n",
              "      quickchartButtonEl.style.display =\n",
              "        google.colab.kernel.accessAllowed ? 'block' : 'none';\n",
              "    })();\n",
              "  </script>\n",
              "</div>\n",
              "\n",
              "    </div>\n",
              "  </div>\n"
            ],
            "application/vnd.google.colaboratory.intrinsic+json": {
              "type": "dataframe",
              "variable_name": "df"
            }
          },
          "metadata": {},
          "execution_count": 10
        }
      ]
    },
    {
      "cell_type": "markdown",
      "source": [
        "**Answer 1.2.3**"
      ],
      "metadata": {
        "id": "C75tlp3lG3Ow"
      }
    },
    {
      "cell_type": "code",
      "source": [
        "#Plot the sum of revenue on transaction_date in a line plot\n",
        "df_group=df.groupby(['transaction_date'],as_index=False)['Revenue'].sum()\n",
        "# plot the line plot\n",
        "fig,ax=plt.subplots(figsize=(12,5))\n",
        "ax=sns.lineplot(data=df_group, x='transaction_date',y='Revenue')\n",
        "ax.set_title(\"Total Revenue by Transaction Date\")\n",
        "ax.set_ylabel(\"Revenue (Millions)\")  # Set y-axis label\n",
        "ax.yaxis.set_major_formatter(lambda x, pos: f'{x / 1000000:.1f}M')\n",
        "plt.show()"
      ],
      "metadata": {
        "colab": {
          "base_uri": "https://localhost:8080/",
          "height": 487
        },
        "id": "3Rub4K-XG0sH",
        "outputId": "337439a4-0d82-43aa-96bf-fcc3ba106b1e"
      },
      "execution_count": null,
      "outputs": [
        {
          "output_type": "display_data",
          "data": {
            "text/plain": [
              "<Figure size 1200x500 with 1 Axes>"
            ],
            "image/png": "[encoded data removed]"
          },
          "metadata": {}
        }
      ]
    },
    {
      "cell_type": "markdown",
      "source": [
        "**Summary**\n",
        "- Data shows increasing trend\n",
        "- Daily shows high variations, needs more investigation to check if this variation is due to weekends, holidays etc\n"
      ],
      "metadata": {
        "id": "-SC0shePG8Ye"
      }
    },
    {
      "cell_type": "markdown",
      "source": [
        "**Question 1.3**"
      ],
      "metadata": {
        "id": "LAfyEWWjHAN7"
      }
    },
    {
      "cell_type": "markdown",
      "source": [
        "**Answer 1.3.1**"
      ],
      "metadata": {
        "id": "DQUiR5oFHCrE"
      }
    },
    {
      "cell_type": "code",
      "source": [
        "#create variable day of week\n",
        "df['day_of_week']=df['transaction_date'].dt.dayofweek\n",
        "#average revenue by day of week\n",
        "df_avg_revenue=df.groupby(['day_of_week'],as_index=False)['Revenue'].mean()\n",
        "#naming day of week 0-Monday to 6- Sunday\n",
        "day_names = [\n",
        "    \"Monday\",\n",
        "    \"Tuesday\",\n",
        "    \"Wednesday\",\n",
        "    \"Thursday\",\n",
        "    \"Friday\",\n",
        "    \"Saturday\",\n",
        "    \"Sunday\",\n",
        "]\n",
        "# mapping weekday name\n",
        "df_avg_revenue[\"day_of_week_name\"] = df_avg_revenue['day_of_week'].map(lambda x: day_names[x])\n",
        "\n",
        "# #Plot the sum of revenue on transaction_date in a line plot\n",
        "# plot the line plot\n",
        "fig,ax=plt.subplots(figsize=(12,5))\n",
        "ax=sns.lineplot(data=df_avg_revenue, x='day_of_week_name',y='Revenue',sort=True)\n",
        "ax.set_title(\"Average Revenue by day of week\")\n",
        "ax.set_ylabel(\"Average Revenue\")  # Set y-axis label\n",
        "ax.set_xlabel(\"Day of Week\")\n",
        "plt.show()\n"
      ],
      "metadata": {
        "colab": {
          "base_uri": "https://localhost:8080/",
          "height": 487
        },
        "id": "dv3ZRvKTG5YS",
        "outputId": "d63b309c-7f86-406f-d1d6-2ac104b8280e"
      },
      "execution_count": null,
      "outputs": [
        {
          "output_type": "display_data",
          "data": {
            "text/plain": [
              "<Figure size 1200x500 with 1 Axes>"
            ],
            "image/png": "[encoded data removed]"
          },
          "metadata": {}
        }
      ]
    },
    {
      "cell_type": "markdown",
      "source": [
        "**Answer 1.3.2**"
      ],
      "metadata": {
        "id": "qly8WCEiSZT8"
      }
    },
    {
      "cell_type": "code",
      "source": [
        "df.info()"
      ],
      "metadata": {
        "colab": {
          "base_uri": "https://localhost:8080/"
        },
        "id": "IXQVnbguT0Wb",
        "outputId": "bcd5a7b6-61c2-49da-e741-2102439a0e3d"
      },
      "execution_count": null,
      "outputs": [
        {
          "output_type": "stream",
          "name": "stdout",
          "text": [
            "<class 'pandas.core.frame.DataFrame'>\n",
            "RangeIndex: 536350 entries, 0 to 536349\n",
            "Data columns (total 13 columns):\n",
            " #   Column               Non-Null Count   Dtype         \n",
            "---  ------               --------------   -----         \n",
            " 0   TransactionNo        536350 non-null  object        \n",
            " 1   Date                 536350 non-null  object        \n",
            " 2   ProductNo            536350 non-null  object        \n",
            " 3   ProductName          536350 non-null  object        \n",
            " 4   Product_category     536350 non-null  object        \n",
            " 5   Price                536350 non-null  float64       \n",
            " 6   Quantity             536350 non-null  int32         \n",
            " 7   CustomerNo           536350 non-null  int32         \n",
            " 8   Country              536350 non-null  object        \n",
            " 9   productName_process  536350 non-null  object        \n",
            " 10  Revenue              536350 non-null  float32       \n",
            " 11  transaction_date     536350 non-null  datetime64[ns]\n",
            " 12  day_of_week          536350 non-null  int32         \n",
            "dtypes: datetime64[ns](1), float32(1), float64(1), int32(3), object(7)\n",
            "memory usage: 45.0+ MB\n"
          ]
        }
      ]
    },
    {
      "cell_type": "code",
      "source": [
        "#find the max revenue day of week\n",
        "max_rev_dayofweek=df_avg_revenue.loc[df_avg_revenue['Revenue'].idxmax()]['day_of_week']\n",
        "# Filter the original dataframe (df) for transactions on that workday\n",
        "df_max_rev_workday = df[df['day_of_week'] == max_rev_dayofweek]\n",
        "\n",
        "# Find the product with the highest revenue on that workday\n",
        "product_with_max_rev = df_max_rev_workday.groupby('productName_process')['Revenue'].sum().idxmax()\n",
        "\n",
        "# Find the product with the highest sales volume (sum of quantity) on that workday\n",
        "product_with_max_volume = df_max_rev_workday.groupby('productName_process')['Quantity'].sum().idxmax()\n",
        "print(\"**********Summary***********************\")\n",
        "print( f\"The day of week with highest average revenue is: {day_names[max_rev_dayofweek]}\")\n",
        "print( f\"Product with maximum revenue: {product_with_max_rev}\")\n",
        "print( f\"Product with maximum sales volume: {product_with_max_volume}\")"
      ],
      "metadata": {
        "colab": {
          "base_uri": "https://localhost:8080/"
        },
        "id": "lVYMP4uqSe4L",
        "outputId": "550333bc-62f4-463f-ceb8-f2fb18170cd2"
      },
      "execution_count": null,
      "outputs": [
        {
          "output_type": "stream",
          "name": "stdout",
          "text": [
            "**********Summary***********************\n",
            "The day of week with highest average revenue is: Sunday\n",
            "Product with maximum revenue: World War  Gliders Asstd Designs\n",
            "Product with maximum sales volume: World War  Gliders Asstd Designs\n"
          ]
        }
      ]
    },
    {
      "cell_type": "markdown",
      "source": [
        "**Answer 1.3.3**"
      ],
      "metadata": {
        "id": "LejvFnIMWCMH"
      }
    },
    {
      "cell_type": "code",
      "source": [
        "# Find top products with highest revenue\n",
        "top_5_max_rev_products=df.groupby(['productName_process'],as_index=False)['Revenue'].sum().sort_values(by='Revenue',ascending=False).head(5)\n",
        "# Find top products with highest volume\n",
        "top_5_max_volume_products=df.groupby(['productName_process'],as_index=False)['Quantity'].sum().sort_values(by='Quantity',ascending=False).head(5)\n"
      ],
      "metadata": {
        "id": "zF2w4y4pO1tZ"
      },
      "execution_count": null,
      "outputs": []
    },
    {
      "cell_type": "code",
      "source": [
        "# dx.bar(data=top_5_max_rev_products, x='productName_process',y='Revenue',x_textwrap=10)"
      ],
      "metadata": {
        "id": "aS3xiXCjWQ1m"
      },
      "execution_count": null,
      "outputs": []
    },
    {
      "cell_type": "code",
      "source": [
        "# creating test wrap function as labels are not dispalyed properly by default in bar plot\n",
        "def wrap_labels(ax, width, break_long_words=False):\n",
        "  labels = []\n",
        "  for label in ax.get_xticklabels():\n",
        "    text = label.get_text()\n",
        "    labels.append(textwrap.fill(text, width=width,\n",
        "                                break_long_words=break_long_words))\n",
        "  ax.set_xticklabels(labels, rotation=0, ha='right')\n",
        "\n",
        "\n",
        "# Example usage with your existing plot:\n",
        "fig, ax = plt.subplots(figsize=(10, 4))\n",
        "ax = sns.barplot(data=top_5_max_rev_products, x='productName_process',\n",
        "                 y='Revenue')\n",
        "wrap_labels(ax, width=10)\n",
        "ax.set_title(\"Top 5 Products with Highest Revenue\")\n",
        "ax.set_ylabel(\"Revenue\")\n",
        "plt.show()\n",
        "\n",
        "# Example usage with your existing plot:\n",
        "fig, ax = plt.subplots(figsize=(10, 4))\n",
        "ax = sns.barplot(data=top_5_max_volume_products, x='productName_process',\n",
        "                 y='Quantity')\n",
        "wrap_labels(ax, width=10)\n",
        "ax.set_title(\"Top 5 Products with Highest Volume\")\n",
        "ax.set_ylabel(\"Volume\")\n",
        "plt.show()\n"
      ],
      "metadata": {
        "colab": {
          "base_uri": "https://localhost:8080/",
          "height": 917
        },
        "id": "Q9wdbfPpW4Tj",
        "outputId": "cc306b06-3627-46ac-f0a9-2221dfa69e9f"
      },
      "execution_count": null,
      "outputs": [
        {
          "output_type": "display_data",
          "data": {
            "text/plain": [
              "<Figure size 1000x400 with 1 Axes>"
            ],
            "image/png": "[encoded data removed]"
          },
          "metadata": {}
        },
        {
          "output_type": "display_data",
          "data": {
            "text/plain": [
              "<Figure size 1000x400 with 1 Axes>"
            ],
            "image/png": "[encoded data removed]"
          },
          "metadata": {}
        }
      ]
    },
    {
      "cell_type": "markdown",
      "source": [
        "**Answer 1.4**"
      ],
      "metadata": {
        "id": "F9z0Yc7NIIPG"
      }
    },
    {
      "cell_type": "code",
      "source": [
        "country_wise_revenue=df.groupby(['Country'],as_index=False)['Revenue'].sum().sort_values(by='Revenue',ascending=False)\n",
        "max_country_val=country_wise_revenue.loc[country_wise_revenue['Revenue'].idxmax()]['Country']\n",
        "# Filter the original dataframe (df) for transactions for that country\n",
        "df_max_rev_workday = df[df['Country'] == max_country_val]\n",
        "df_max_rev_workday.loc[:, 'Month'] = df_max_rev_workday['transaction_date'].dt.month\n",
        "country_wise_revenue_mth=df_max_rev_workday.groupby(['Month'],as_index=False)['Revenue'].sum().sort_values(by='Revenue',ascending=False).head(1)\n",
        "max_country_mth_val=country_wise_revenue_mth.loc[country_wise_revenue_mth['Revenue'].idxmax()]['Month']\n",
        "print(f\"The country with the highest revenue is: {max_country_val}\")\n",
        "print(f\"The month with the highest revenue in that country is: {max_country_mth_val}\")"
      ],
      "metadata": {
        "colab": {
          "base_uri": "https://localhost:8080/"
        },
        "id": "B5ADLndRIPJ9",
        "outputId": "8016ffd8-1947-4694-9824-12ccf33b0a0b"
      },
      "execution_count": null,
      "outputs": [
        {
          "output_type": "stream",
          "name": "stdout",
          "text": [
            "The country with the highest revenue is: United Kingdom\n",
            "The month with the highest revenue in that country is: 11.0\n"
          ]
        }
      ]
    },
    {
      "cell_type": "markdown",
      "source": [
        "**Answer 1.5**"
      ],
      "metadata": {
        "id": "zEGX-D_eNXQO"
      }
    },
    {
      "cell_type": "code",
      "source": [
        "# remove records with quantity > 0\n",
        "print(\"Shape of data before filter\",format(df.shape))\n",
        "df_pos_quantity= df[df['Quantity']>0]\n",
        "print(\"Number of records with negative quantity\",format(df.shape[0]-df_pos_quantity.shape[0]))\n",
        "\n",
        "\n",
        "# find cusomter with high distinct transactions\n",
        "transac_freq_cust=df_pos_quantity.groupby(['CustomerNo'],as_index=False)['TransactionNo'].nunique().sort_values(by='TransactionNo',ascending=False)\n",
        "# Customer with maximum transaction\n",
        "cust_with_high_trans=transac_freq_cust.loc[transac_freq_cust['TransactionNo'].idxmax()]['CustomerNo']\n",
        "print(f\"Customer with maximum transaction is:{cust_with_high_trans}\")\n",
        "\n",
        "\n",
        "# Filter the original dataframe (df) for transactions for this customer\n",
        "df_max_trans_cust = df_pos_quantity[df_pos_quantity['CustomerNo'] == cust_with_high_trans]\n",
        "prod_with_max_qunt=df_max_trans_cust.groupby(['productName_process'],as_index=False)['Quantity'].sum().sort_values(by='Quantity', ascending=False)\n",
        "prod_with_max_qunt_val=prod_with_max_qunt.loc[prod_with_max_qunt['Quantity'].idxmax()]['productName_process']\n",
        "print(f\"The most frequent product bought by customer {cust_with_high_trans} is {prod_with_max_qunt_val}\")"
      ],
      "metadata": {
        "colab": {
          "base_uri": "https://localhost:8080/"
        },
        "id": "tOKFLMpQDZoh",
        "outputId": "5b016af7-ac5c-4970-e3a9-da42bd21ba1c"
      },
      "execution_count": null,
      "outputs": [
        {
          "output_type": "stream",
          "name": "stdout",
          "text": [
            "Shape of data before filter (536350, 13)\n",
            "Number of records with negative quantity 8585\n",
            "Customer with maximum transaction is:12748\n",
            "The most frequent product bought by customer 12748 is Victorian Metal Postcard Spring\n"
          ]
        }
      ]
    },
    {
      "cell_type": "code",
      "source": [
        "df_pos_quantity.head()"
      ],
      "metadata": {
        "colab": {
          "base_uri": "https://localhost:8080/",
          "height": 417
        },
        "id": "2fVRqU-6F1Js",
        "outputId": "357a5410-9be4-4435-db92-c2e8072e0cba"
      },
      "execution_count": null,
      "outputs": [
        {
          "output_type": "execute_result",
          "data": {
            "text/plain": [
              "  TransactionNo       Date ProductNo                          ProductName  \\\n",
              "0        581482  12/9/2019     22485        Set Of 2 Wooden Market Crates   \n",
              "1        581475  12/9/2019     22596  Christmas Star Wish List Chalkboard   \n",
              "2        581475  12/9/2019     23235             Storage Tin Vintage Leaf   \n",
              "3        581475  12/9/2019     23272    Tree T-Light Holder Willie Winkie   \n",
              "4        581475  12/9/2019     23239    Set Of 4 Knick Knack Tins Poppies   \n",
              "\n",
              "  Product_category  Price  Quantity  CustomerNo         Country  \\\n",
              "0              0ca  21.47        12       17490  United Kingdom   \n",
              "1              0ca  10.65        36       13069  United Kingdom   \n",
              "2              0ca  11.53        12       13069  United Kingdom   \n",
              "3              0ca  10.65        12       13069  United Kingdom   \n",
              "4              0ca  11.94         6       13069  United Kingdom   \n",
              "\n",
              "                   productName_process  Revenue transaction_date  day_of_week  \n",
              "0         Set Of  Wooden Market Crates   257.64       2019-12-09            0  \n",
              "1  Christmas Star Wish List Chalkboard   383.40       2019-12-09            0  \n",
              "2             Storage Tin Vintage Leaf   138.36       2019-12-09            0  \n",
              "3    Tree T-Light Holder Willie Winkie   127.80       2019-12-09            0  \n",
              "4     Set Of  Knick Knack Tins Poppies    71.64       2019-12-09            0  "
            ],
            "text/html": [
              "\n",
              "  <div id=\"df-6223c2c0-a9ea-4d96-b114-acb594c9b886\" class=\"colab-df-container\">\n",
              "    <div>\n",
              "<style scoped>\n",
              "    .dataframe tbody tr th:only-of-type {\n",
              "        vertical-align: middle;\n",
              "    }\n",
              "\n",
              "    .dataframe tbody tr th {\n",
              "        vertical-align: top;\n",
              "    }\n",
              "\n",
              "    .dataframe thead th {\n",
              "        text-align: right;\n",
              "    }\n",
              "</style>\n",
              "<table border=\"1\" class=\"dataframe\">\n",
              "  <thead>\n",
              "    <tr style=\"text-align: right;\">\n",
              "      <th></th>\n",
              "      <th>TransactionNo</th>\n",
              "      <th>Date</th>\n",
              "      <th>ProductNo</th>\n",
              "      <th>ProductName</th>\n",
              "      <th>Product_category</th>\n",
              "      <th>Price</th>\n",
              "      <th>Quantity</th>\n",
              "      <th>CustomerNo</th>\n",
              "      <th>Country</th>\n",
              "      <th>productName_process</th>\n",
              "      <th>Revenue</th>\n",
              "      <th>transaction_date</th>\n",
              "      <th>day_of_week</th>\n",
              "    </tr>\n",
              "  </thead>\n",
              "  <tbody>\n",
              "    <tr>\n",
              "      <th>0</th>\n",
              "      <td>581482</td>\n",
              "      <td>12/9/2019</td>\n",
              "      <td>22485</td>\n",
              "      <td>Set Of 2 Wooden Market Crates</td>\n",
              "      <td>0ca</td>\n",
              "      <td>21.47</td>\n",
              "      <td>12</td>\n",
              "      <td>17490</td>\n",
              "      <td>United Kingdom</td>\n",
              "      <td>Set Of  Wooden Market Crates</td>\n",
              "      <td>257.64</td>\n",
              "      <td>2019-12-09</td>\n",
              "      <td>0</td>\n",
              "    </tr>\n",
              "    <tr>\n",
              "      <th>1</th>\n",
              "      <td>581475</td>\n",
              "      <td>12/9/2019</td>\n",
              "      <td>22596</td>\n",
              "      <td>Christmas Star Wish List Chalkboard</td>\n",
              "      <td>0ca</td>\n",
              "      <td>10.65</td>\n",
              "      <td>36</td>\n",
              "      <td>13069</td>\n",
              "      <td>United Kingdom</td>\n",
              "      <td>Christmas Star Wish List Chalkboard</td>\n",
              "      <td>383.40</td>\n",
              "      <td>2019-12-09</td>\n",
              "      <td>0</td>\n",
              "    </tr>\n",
              "    <tr>\n",
              "      <th>2</th>\n",
              "      <td>581475</td>\n",
              "      <td>12/9/2019</td>\n",
              "      <td>23235</td>\n",
              "      <td>Storage Tin Vintage Leaf</td>\n",
              "      <td>0ca</td>\n",
              "      <td>11.53</td>\n",
              "      <td>12</td>\n",
              "      <td>13069</td>\n",
              "      <td>United Kingdom</td>\n",
              "      <td>Storage Tin Vintage Leaf</td>\n",
              "      <td>138.36</td>\n",
              "      <td>2019-12-09</td>\n",
              "      <td>0</td>\n",
              "    </tr>\n",
              "    <tr>\n",
              "      <th>3</th>\n",
              "      <td>581475</td>\n",
              "      <td>12/9/2019</td>\n",
              "      <td>23272</td>\n",
              "      <td>Tree T-Light Holder Willie Winkie</td>\n",
              "      <td>0ca</td>\n",
              "      <td>10.65</td>\n",
              "      <td>12</td>\n",
              "      <td>13069</td>\n",
              "      <td>United Kingdom</td>\n",
              "      <td>Tree T-Light Holder Willie Winkie</td>\n",
              "      <td>127.80</td>\n",
              "      <td>2019-12-09</td>\n",
              "      <td>0</td>\n",
              "    </tr>\n",
              "    <tr>\n",
              "      <th>4</th>\n",
              "      <td>581475</td>\n",
              "      <td>12/9/2019</td>\n",
              "      <td>23239</td>\n",
              "      <td>Set Of 4 Knick Knack Tins Poppies</td>\n",
              "      <td>0ca</td>\n",
              "      <td>11.94</td>\n",
              "      <td>6</td>\n",
              "      <td>13069</td>\n",
              "      <td>United Kingdom</td>\n",
              "      <td>Set Of  Knick Knack Tins Poppies</td>\n",
              "      <td>71.64</td>\n",
              "      <td>2019-12-09</td>\n",
              "      <td>0</td>\n",
              "    </tr>\n",
              "  </tbody>\n",
              "</table>\n",
              "</div>\n",
              "    <div class=\"colab-df-buttons\">\n",
              "\n",
              "  <div class=\"colab-df-container\">\n",
              "    <button class=\"colab-df-convert\" onclick=\"convertToInteractive('df-6223c2c0-a9ea-4d96-b114-acb594c9b886')\"\n",
              "            title=\"Convert this dataframe to an interactive table.\"\n",
              "            style=\"display:none;\">\n",
              "\n",
              "  <svg xmlns=\"http://www.w3.org/2000/svg\" height=\"24px\" viewBox=\"0 -960 960 960\">\n",
              "    <path d=\"M120-120v-720h720v720H120Zm60-500h600v-160H180v160Zm220 220h160v-160H400v160Zm0 220h160v-160H400v160ZM180-400h160v-160H180v160Zm440 0h160v-160H620v160ZM180-180h160v-160H180v160Zm440 0h160v-160H620v160Z\"/>\n",
              "  </svg>\n",
              "    </button>\n",
              "\n",
              "  <style>\n",
              "    .colab-df-container {\n",
              "      display:flex;\n",
              "      gap: 12px;\n",
              "    }\n",
              "\n",
              "    .colab-df-convert {\n",
              "      background-color: #E8F0FE;\n",
              "      border: none;\n",
              "      border-radius: 50%;\n",
              "      cursor: pointer;\n",
              "      display: none;\n",
              "      fill: #1967D2;\n",
              "      height: 32px;\n",
              "      padding: 0 0 0 0;\n",
              "      width: 32px;\n",
              "    }\n",
              "\n",
              "    .colab-df-convert:hover {\n",
              "      background-color: #E2EBFA;\n",
              "      box-shadow: 0px 1px 2px rgba(60, 64, 67, 0.3), 0px 1px 3px 1px rgba(60, 64, 67, 0.15);\n",
              "      fill: #174EA6;\n",
              "    }\n",
              "\n",
              "    .colab-df-buttons div {\n",
              "      margin-bottom: 4px;\n",
              "    }\n",
              "\n",
              "    [theme=dark] .colab-df-convert {\n",
              "      background-color: #3B4455;\n",
              "      fill: #D2E3FC;\n",
              "    }\n",
              "\n",
              "    [theme=dark] .colab-df-convert:hover {\n",
              "      background-color: #434B5C;\n",
              "      box-shadow: 0px 1px 3px 1px rgba(0, 0, 0, 0.15);\n",
              "      filter: drop-shadow(0px 1px 2px rgba(0, 0, 0, 0.3));\n",
              "      fill: #FFFFFF;\n",
              "    }\n",
              "  </style>\n",
              "\n",
              "    <script>\n",
              "      const buttonEl =\n",
              "        document.querySelector('#df-6223c2c0-a9ea-4d96-b114-acb594c9b886 button.colab-df-convert');\n",
              "      buttonEl.style.display =\n",
              "        google.colab.kernel.accessAllowed ? 'block' : 'none';\n",
              "\n",
              "      async function convertToInteractive(key) {\n",
              "        const element = document.querySelector('#df-6223c2c0-a9ea-4d96-b114-acb594c9b886');\n",
              "        const dataTable =\n",
              "          await google.colab.kernel.invokeFunction('convertToInteractive',\n",
              "                                                    [key], {});\n",
              "        if (!dataTable) return;\n",
              "\n",
              "        const docLinkHtml = 'Like what you see? Visit the ' +\n",
              "          '<a target=\"_blank\" href=https://colab.research.google.com/notebooks/data_table.ipynb>data table notebook</a>'\n",
              "          + ' to learn more about interactive tables.';\n",
              "        element.innerHTML = '';\n",
              "        dataTable['output_type'] = 'display_data';\n",
              "        await google.colab.output.renderOutput(dataTable, element);\n",
              "        const docLink = document.createElement('div');\n",
              "        docLink.innerHTML = docLinkHtml;\n",
              "        element.appendChild(docLink);\n",
              "      }\n",
              "    </script>\n",
              "  </div>\n",
              "\n",
              "\n",
              "<div id=\"df-9e626fba-38ca-44a4-967b-e37075ae80f3\">\n",
              "  <button class=\"colab-df-quickchart\" onclick=\"quickchart('df-9e626fba-38ca-44a4-967b-e37075ae80f3')\"\n",
              "            title=\"Suggest charts\"\n",
              "            style=\"display:none;\">\n",
              "\n",
              "<svg xmlns=\"http://www.w3.org/2000/svg\" height=\"24px\"viewBox=\"0 0 24 24\"\n",
              "     width=\"24px\">\n",
              "    <g>\n",
              "        <path d=\"M19 3H5c-1.1 0-2 .9-2 2v14c0 1.1.9 2 2 2h14c1.1 0 2-.9 2-2V5c0-1.1-.9-2-2-2zM9 17H7v-7h2v7zm4 0h-2V7h2v10zm4 0h-2v-4h2v4z\"/>\n",
              "    </g>\n",
              "</svg>\n",
              "  </button>\n",
              "\n",
              "<style>\n",
              "  .colab-df-quickchart {\n",
              "      --bg-color: #E8F0FE;\n",
              "      --fill-color: #1967D2;\n",
              "      --hover-bg-color: #E2EBFA;\n",
              "      --hover-fill-color: #174EA6;\n",
              "      --disabled-fill-color: #AAA;\n",
              "      --disabled-bg-color: #DDD;\n",
              "  }\n",
              "\n",
              "  [theme=dark] .colab-df-quickchart {\n",
              "      --bg-color: #3B4455;\n",
              "      --fill-color: #D2E3FC;\n",
              "      --hover-bg-color: #434B5C;\n",
              "      --hover-fill-color: #FFFFFF;\n",
              "      --disabled-bg-color: #3B4455;\n",
              "      --disabled-fill-color: #666;\n",
              "  }\n",
              "\n",
              "  .colab-df-quickchart {\n",
              "    background-color: var(--bg-color);\n",
              "    border: none;\n",
              "    border-radius: 50%;\n",
              "    cursor: pointer;\n",
              "    display: none;\n",
              "    fill: var(--fill-color);\n",
              "    height: 32px;\n",
              "    padding: 0;\n",
              "    width: 32px;\n",
              "  }\n",
              "\n",
              "  .colab-df-quickchart:hover {\n",
              "    background-color: var(--hover-bg-color);\n",
              "    box-shadow: 0 1px 2px rgba(60, 64, 67, 0.3), 0 1px 3px 1px rgba(60, 64, 67, 0.15);\n",
              "    fill: var(--button-hover-fill-color);\n",
              "  }\n",
              "\n",
              "  .colab-df-quickchart-complete:disabled,\n",
              "  .colab-df-quickchart-complete:disabled:hover {\n",
              "    background-color: var(--disabled-bg-color);\n",
              "    fill: var(--disabled-fill-color);\n",
              "    box-shadow: none;\n",
              "  }\n",
              "\n",
              "  .colab-df-spinner {\n",
              "    border: 2px solid var(--fill-color);\n",
              "    border-color: transparent;\n",
              "    border-bottom-color: var(--fill-color);\n",
              "    animation:\n",
              "      spin 1s steps(1) infinite;\n",
              "  }\n",
              "\n",
              "  @keyframes spin {\n",
              "    0% {\n",
              "      border-color: transparent;\n",
              "      border-bottom-color: var(--fill-color);\n",
              "      border-left-color: var(--fill-color);\n",
              "    }\n",
              "    20% {\n",
              "      border-color: transparent;\n",
              "      border-left-color: var(--fill-color);\n",
              "      border-top-color: var(--fill-color);\n",
              "    }\n",
              "    30% {\n",
              "      border-color: transparent;\n",
              "      border-left-color: var(--fill-color);\n",
              "      border-top-color: var(--fill-color);\n",
              "      border-right-color: var(--fill-color);\n",
              "    }\n",
              "    40% {\n",
              "      border-color: transparent;\n",
              "      border-right-color: var(--fill-color);\n",
              "      border-top-color: var(--fill-color);\n",
              "    }\n",
              "    60% {\n",
              "      border-color: transparent;\n",
              "      border-right-color: var(--fill-color);\n",
              "    }\n",
              "    80% {\n",
              "      border-color: transparent;\n",
              "      border-right-color: var(--fill-color);\n",
              "      border-bottom-color: var(--fill-color);\n",
              "    }\n",
              "    90% {\n",
              "      border-color: transparent;\n",
              "      border-bottom-color: var(--fill-color);\n",
              "    }\n",
              "  }\n",
              "</style>\n",
              "\n",
              "  <script>\n",
              "    async function quickchart(key) {\n",
              "      const quickchartButtonEl =\n",
              "        document.querySelector('#' + key + ' button');\n",
              "      quickchartButtonEl.disabled = true;  // To prevent multiple clicks.\n",
              "      quickchartButtonEl.classList.add('colab-df-spinner');\n",
              "      try {\n",
              "        const charts = await google.colab.kernel.invokeFunction(\n",
              "            'suggestCharts', [key], {});\n",
              "      } catch (error) {\n",
              "        console.error('Error during call to suggestCharts:', error);\n",
              "      }\n",
              "      quickchartButtonEl.classList.remove('colab-df-spinner');\n",
              "      quickchartButtonEl.classList.add('colab-df-quickchart-complete');\n",
              "    }\n",
              "    (() => {\n",
              "      let quickchartButtonEl =\n",
              "        document.querySelector('#df-9e626fba-38ca-44a4-967b-e37075ae80f3 button');\n",
              "      quickchartButtonEl.style.display =\n",
              "        google.colab.kernel.accessAllowed ? 'block' : 'none';\n",
              "    })();\n",
              "  </script>\n",
              "</div>\n",
              "\n",
              "    </div>\n",
              "  </div>\n"
            ],
            "application/vnd.google.colaboratory.intrinsic+json": {
              "type": "dataframe",
              "variable_name": "df_pos_quantity"
            }
          },
          "metadata": {},
          "execution_count": 20
        }
      ]
    },
    {
      "cell_type": "markdown",
      "source": [
        "## Market Basket Analysis"
      ],
      "metadata": {
        "id": "BrMrhzVFTD9n"
      }
    },
    {
      "cell_type": "markdown",
      "source": [
        "**Answer 1.6.1**"
      ],
      "metadata": {
        "id": "L_040VyZVrYW"
      }
    },
    {
      "cell_type": "code",
      "source": [
        "# Group by the transactionNo and aggregate the category of product (column product_category) into\n",
        "# list on transactionNo level. Similarly, group and aggregate name of product (column\n",
        "# productName_process) into list on transactionNo level."
      ],
      "metadata": {
        "id": "T_9XUd-vGAzk"
      },
      "execution_count": null,
      "outputs": []
    },
    {
      "cell_type": "code",
      "source": [
        "df_1=df_pos_quantity.groupby(['TransactionNo'],as_index=False)['Product_category'].agg(list)\n",
        "t2=df_pos_quantity.groupby(['TransactionNo'],as_index=False)['productName_process'].agg(list)"
      ],
      "metadata": {
        "id": "ZIW6m4NiN9iH"
      },
      "execution_count": null,
      "outputs": []
    },
    {
      "cell_type": "markdown",
      "source": [
        "**Answer 1.6.2**"
      ],
      "metadata": {
        "id": "a-gLzqTQVucD"
      }
    },
    {
      "cell_type": "code",
      "source": [
        "# Remove duplicates in Product category list\n",
        "df_1['Product_category']=df_1['Product_category'].apply(lambda x: list(set(x)))\n",
        "\n"
      ],
      "metadata": {
        "id": "nqkcNjcYUucv"
      },
      "execution_count": null,
      "outputs": []
    },
    {
      "cell_type": "markdown",
      "source": [
        "**Answer 1.7.1**"
      ],
      "metadata": {
        "id": "62JwLjpAUEK6"
      }
    },
    {
      "cell_type": "code",
      "source": [
        "df_1['Prod_len']=df_1['Product_category'].apply(lambda x: len(x))\n",
        "df_1.head()\n"
      ],
      "metadata": {
        "colab": {
          "base_uri": "https://localhost:8080/",
          "height": 206
        },
        "id": "voD1dBVWgiJt",
        "outputId": "07241a1a-b4ee-4f9c-84f1-03981fb4a768"
      },
      "execution_count": null,
      "outputs": [
        {
          "output_type": "execute_result",
          "data": {
            "text/plain": [
              "  TransactionNo Product_category  Prod_len\n",
              "0        536365            [0ca]         1\n",
              "1        536366            [0ca]         1\n",
              "2        536367            [0ca]         1\n",
              "3        536368            [0ca]         1\n",
              "4        536369            [0ca]         1"
            ],
            "text/html": [
              "\n",
              "  <div id=\"df-5c36351f-7d54-4469-85d5-50288d066df1\" class=\"colab-df-container\">\n",
              "    <div>\n",
              "<style scoped>\n",
              "    .dataframe tbody tr th:only-of-type {\n",
              "        vertical-align: middle;\n",
              "    }\n",
              "\n",
              "    .dataframe tbody tr th {\n",
              "        vertical-align: top;\n",
              "    }\n",
              "\n",
              "    .dataframe thead th {\n",
              "        text-align: right;\n",
              "    }\n",
              "</style>\n",
              "<table border=\"1\" class=\"dataframe\">\n",
              "  <thead>\n",
              "    <tr style=\"text-align: right;\">\n",
              "      <th></th>\n",
              "      <th>TransactionNo</th>\n",
              "      <th>Product_category</th>\n",
              "      <th>Prod_len</th>\n",
              "    </tr>\n",
              "  </thead>\n",
              "  <tbody>\n",
              "    <tr>\n",
              "      <th>0</th>\n",
              "      <td>536365</td>\n",
              "      <td>[0ca]</td>\n",
              "      <td>1</td>\n",
              "    </tr>\n",
              "    <tr>\n",
              "      <th>1</th>\n",
              "      <td>536366</td>\n",
              "      <td>[0ca]</td>\n",
              "      <td>1</td>\n",
              "    </tr>\n",
              "    <tr>\n",
              "      <th>2</th>\n",
              "      <td>536367</td>\n",
              "      <td>[0ca]</td>\n",
              "      <td>1</td>\n",
              "    </tr>\n",
              "    <tr>\n",
              "      <th>3</th>\n",
              "      <td>536368</td>\n",
              "      <td>[0ca]</td>\n",
              "      <td>1</td>\n",
              "    </tr>\n",
              "    <tr>\n",
              "      <th>4</th>\n",
              "      <td>536369</td>\n",
              "      <td>[0ca]</td>\n",
              "      <td>1</td>\n",
              "    </tr>\n",
              "  </tbody>\n",
              "</table>\n",
              "</div>\n",
              "    <div class=\"colab-df-buttons\">\n",
              "\n",
              "  <div class=\"colab-df-container\">\n",
              "    <button class=\"colab-df-convert\" onclick=\"convertToInteractive('df-5c36351f-7d54-4469-85d5-50288d066df1')\"\n",
              "            title=\"Convert this dataframe to an interactive table.\"\n",
              "            style=\"display:none;\">\n",
              "\n",
              "  <svg xmlns=\"http://www.w3.org/2000/svg\" height=\"24px\" viewBox=\"0 -960 960 960\">\n",
              "    <path d=\"M120-120v-720h720v720H120Zm60-500h600v-160H180v160Zm220 220h160v-160H400v160Zm0 220h160v-160H400v160ZM180-400h160v-160H180v160Zm440 0h160v-160H620v160ZM180-180h160v-160H180v160Zm440 0h160v-160H620v160Z\"/>\n",
              "  </svg>\n",
              "    </button>\n",
              "\n",
              "  <style>\n",
              "    .colab-df-container {\n",
              "      display:flex;\n",
              "      gap: 12px;\n",
              "    }\n",
              "\n",
              "    .colab-df-convert {\n",
              "      background-color: #E8F0FE;\n",
              "      border: none;\n",
              "      border-radius: 50%;\n",
              "      cursor: pointer;\n",
              "      display: none;\n",
              "      fill: #1967D2;\n",
              "      height: 32px;\n",
              "      padding: 0 0 0 0;\n",
              "      width: 32px;\n",
              "    }\n",
              "\n",
              "    .colab-df-convert:hover {\n",
              "      background-color: #E2EBFA;\n",
              "      box-shadow: 0px 1px 2px rgba(60, 64, 67, 0.3), 0px 1px 3px 1px rgba(60, 64, 67, 0.15);\n",
              "      fill: #174EA6;\n",
              "    }\n",
              "\n",
              "    .colab-df-buttons div {\n",
              "      margin-bottom: 4px;\n",
              "    }\n",
              "\n",
              "    [theme=dark] .colab-df-convert {\n",
              "      background-color: #3B4455;\n",
              "      fill: #D2E3FC;\n",
              "    }\n",
              "\n",
              "    [theme=dark] .colab-df-convert:hover {\n",
              "      background-color: #434B5C;\n",
              "      box-shadow: 0px 1px 3px 1px rgba(0, 0, 0, 0.15);\n",
              "      filter: drop-shadow(0px 1px 2px rgba(0, 0, 0, 0.3));\n",
              "      fill: #FFFFFF;\n",
              "    }\n",
              "  </style>\n",
              "\n",
              "    <script>\n",
              "      const buttonEl =\n",
              "        document.querySelector('#df-5c36351f-7d54-4469-85d5-50288d066df1 button.colab-df-convert');\n",
              "      buttonEl.style.display =\n",
              "        google.colab.kernel.accessAllowed ? 'block' : 'none';\n",
              "\n",
              "      async function convertToInteractive(key) {\n",
              "        const element = document.querySelector('#df-5c36351f-7d54-4469-85d5-50288d066df1');\n",
              "        const dataTable =\n",
              "          await google.colab.kernel.invokeFunction('convertToInteractive',\n",
              "                                                    [key], {});\n",
              "        if (!dataTable) return;\n",
              "\n",
              "        const docLinkHtml = 'Like what you see? Visit the ' +\n",
              "          '<a target=\"_blank\" href=https://colab.research.google.com/notebooks/data_table.ipynb>data table notebook</a>'\n",
              "          + ' to learn more about interactive tables.';\n",
              "        element.innerHTML = '';\n",
              "        dataTable['output_type'] = 'display_data';\n",
              "        await google.colab.output.renderOutput(dataTable, element);\n",
              "        const docLink = document.createElement('div');\n",
              "        docLink.innerHTML = docLinkHtml;\n",
              "        element.appendChild(docLink);\n",
              "      }\n",
              "    </script>\n",
              "  </div>\n",
              "\n",
              "\n",
              "<div id=\"df-e3f770f3-4c45-4afc-b65e-1fdec672356d\">\n",
              "  <button class=\"colab-df-quickchart\" onclick=\"quickchart('df-e3f770f3-4c45-4afc-b65e-1fdec672356d')\"\n",
              "            title=\"Suggest charts\"\n",
              "            style=\"display:none;\">\n",
              "\n",
              "<svg xmlns=\"http://www.w3.org/2000/svg\" height=\"24px\"viewBox=\"0 0 24 24\"\n",
              "     width=\"24px\">\n",
              "    <g>\n",
              "        <path d=\"M19 3H5c-1.1 0-2 .9-2 2v14c0 1.1.9 2 2 2h14c1.1 0 2-.9 2-2V5c0-1.1-.9-2-2-2zM9 17H7v-7h2v7zm4 0h-2V7h2v10zm4 0h-2v-4h2v4z\"/>\n",
              "    </g>\n",
              "</svg>\n",
              "  </button>\n",
              "\n",
              "<style>\n",
              "  .colab-df-quickchart {\n",
              "      --bg-color: #E8F0FE;\n",
              "      --fill-color: #1967D2;\n",
              "      --hover-bg-color: #E2EBFA;\n",
              "      --hover-fill-color: #174EA6;\n",
              "      --disabled-fill-color: #AAA;\n",
              "      --disabled-bg-color: #DDD;\n",
              "  }\n",
              "\n",
              "  [theme=dark] .colab-df-quickchart {\n",
              "      --bg-color: #3B4455;\n",
              "      --fill-color: #D2E3FC;\n",
              "      --hover-bg-color: #434B5C;\n",
              "      --hover-fill-color: #FFFFFF;\n",
              "      --disabled-bg-color: #3B4455;\n",
              "      --disabled-fill-color: #666;\n",
              "  }\n",
              "\n",
              "  .colab-df-quickchart {\n",
              "    background-color: var(--bg-color);\n",
              "    border: none;\n",
              "    border-radius: 50%;\n",
              "    cursor: pointer;\n",
              "    display: none;\n",
              "    fill: var(--fill-color);\n",
              "    height: 32px;\n",
              "    padding: 0;\n",
              "    width: 32px;\n",
              "  }\n",
              "\n",
              "  .colab-df-quickchart:hover {\n",
              "    background-color: var(--hover-bg-color);\n",
              "    box-shadow: 0 1px 2px rgba(60, 64, 67, 0.3), 0 1px 3px 1px rgba(60, 64, 67, 0.15);\n",
              "    fill: var(--button-hover-fill-color);\n",
              "  }\n",
              "\n",
              "  .colab-df-quickchart-complete:disabled,\n",
              "  .colab-df-quickchart-complete:disabled:hover {\n",
              "    background-color: var(--disabled-bg-color);\n",
              "    fill: var(--disabled-fill-color);\n",
              "    box-shadow: none;\n",
              "  }\n",
              "\n",
              "  .colab-df-spinner {\n",
              "    border: 2px solid var(--fill-color);\n",
              "    border-color: transparent;\n",
              "    border-bottom-color: var(--fill-color);\n",
              "    animation:\n",
              "      spin 1s steps(1) infinite;\n",
              "  }\n",
              "\n",
              "  @keyframes spin {\n",
              "    0% {\n",
              "      border-color: transparent;\n",
              "      border-bottom-color: var(--fill-color);\n",
              "      border-left-color: var(--fill-color);\n",
              "    }\n",
              "    20% {\n",
              "      border-color: transparent;\n",
              "      border-left-color: var(--fill-color);\n",
              "      border-top-color: var(--fill-color);\n",
              "    }\n",
              "    30% {\n",
              "      border-color: transparent;\n",
              "      border-left-color: var(--fill-color);\n",
              "      border-top-color: var(--fill-color);\n",
              "      border-right-color: var(--fill-color);\n",
              "    }\n",
              "    40% {\n",
              "      border-color: transparent;\n",
              "      border-right-color: var(--fill-color);\n",
              "      border-top-color: var(--fill-color);\n",
              "    }\n",
              "    60% {\n",
              "      border-color: transparent;\n",
              "      border-right-color: var(--fill-color);\n",
              "    }\n",
              "    80% {\n",
              "      border-color: transparent;\n",
              "      border-right-color: var(--fill-color);\n",
              "      border-bottom-color: var(--fill-color);\n",
              "    }\n",
              "    90% {\n",
              "      border-color: transparent;\n",
              "      border-bottom-color: var(--fill-color);\n",
              "    }\n",
              "  }\n",
              "</style>\n",
              "\n",
              "  <script>\n",
              "    async function quickchart(key) {\n",
              "      const quickchartButtonEl =\n",
              "        document.querySelector('#' + key + ' button');\n",
              "      quickchartButtonEl.disabled = true;  // To prevent multiple clicks.\n",
              "      quickchartButtonEl.classList.add('colab-df-spinner');\n",
              "      try {\n",
              "        const charts = await google.colab.kernel.invokeFunction(\n",
              "            'suggestCharts', [key], {});\n",
              "      } catch (error) {\n",
              "        console.error('Error during call to suggestCharts:', error);\n",
              "      }\n",
              "      quickchartButtonEl.classList.remove('colab-df-spinner');\n",
              "      quickchartButtonEl.classList.add('colab-df-quickchart-complete');\n",
              "    }\n",
              "    (() => {\n",
              "      let quickchartButtonEl =\n",
              "        document.querySelector('#df-e3f770f3-4c45-4afc-b65e-1fdec672356d button');\n",
              "      quickchartButtonEl.style.display =\n",
              "        google.colab.kernel.accessAllowed ? 'block' : 'none';\n",
              "    })();\n",
              "  </script>\n",
              "</div>\n",
              "\n",
              "    </div>\n",
              "  </div>\n"
            ],
            "application/vnd.google.colaboratory.intrinsic+json": {
              "type": "dataframe",
              "variable_name": "df_1",
              "summary": "{\n  \"name\": \"df_1\",\n  \"rows\": 19790,\n  \"fields\": [\n    {\n      \"column\": \"TransactionNo\",\n      \"properties\": {\n        \"dtype\": \"string\",\n        \"num_unique_values\": 19790,\n        \"samples\": [\n          \"544460\",\n          \"576063\",\n          \"548324\"\n        ],\n        \"semantic_type\": \"\",\n        \"description\": \"\"\n      }\n    },\n    {\n      \"column\": \"Product_category\",\n      \"properties\": {\n        \"dtype\": \"object\",\n        \"semantic_type\": \"\",\n        \"description\": \"\"\n      }\n    },\n    {\n      \"column\": \"Prod_len\",\n      \"properties\": {\n        \"dtype\": \"number\",\n        \"std\": 0,\n        \"min\": 1,\n        \"max\": 5,\n        \"num_unique_values\": 5,\n        \"samples\": [\n          2,\n          5,\n          3\n        ],\n        \"semantic_type\": \"\",\n        \"description\": \"\"\n      }\n    }\n  ]\n}"
            }
          },
          "metadata": {},
          "execution_count": 24
        }
      ]
    },
    {
      "cell_type": "markdown",
      "source": [
        "**Answer 1.7.2**"
      ],
      "metadata": {
        "id": "WNr6JqyGjAif"
      }
    },
    {
      "cell_type": "code",
      "source": [
        "df_w=pd.DataFrame()\n",
        "def data_processing(df,maxlength =3,min_length=1):\n",
        "  df_w=df[df['Prod_len']<=maxlength]\n",
        "  df_w=df_w[df_w['Prod_len']>=min_length]\n",
        "  df_w['path'] = df_w['Product_category'].apply(lambda x: ' > '.join(x))\n",
        "  df_w['path'] = str('start > ')+df_w['path'].apply(lambda x: str(x).replace(\",\", \" > \")) + str(\" > conversion\")\n",
        "\n",
        "  return df_w\n",
        "\n",
        "df_2=data_processing(df_1,maxlength =5,min_length=2)\n",
        "df_2.head(10)\n",
        "\n",
        "# # df_1['path'] = df_1['Product_category'].apply(lambda x: ' > '.join(x))\n",
        "# # df_1['path'] = str('start > ')+df_1['path'].apply(lambda x: str(x).replace(\",\", \" > \")) + str(\" > conversion\")\n",
        "# # df_1.head()"
      ],
      "metadata": {
        "colab": {
          "base_uri": "https://localhost:8080/",
          "height": 363
        },
        "id": "i7vHdNmHiRU1",
        "outputId": "f784b305-1dce-4b73-f202-4c7170530c0b"
      },
      "execution_count": null,
      "outputs": [
        {
          "output_type": "execute_result",
          "data": {
            "text/plain": [
              "   TransactionNo Product_category  Prod_len  \\\n",
              "13        536378       [1ca, 0ca]         2   \n",
              "27        536395       [1ca, 0ca]         2   \n",
              "36        536404  [1ca, 0ca, 4ca]         3   \n",
              "40        536408       [1ca, 0ca]         2   \n",
              "42        536412       [0ca, 4ca]         2   \n",
              "43        536415       [1ca, 0ca]         2   \n",
              "52        536464       [1ca, 0ca]         2   \n",
              "72        536532       [1ca, 0ca]         2   \n",
              "82        536542       [0ca, 4ca]         2   \n",
              "83        536544  [1ca, 0ca, 4ca]         3   \n",
              "\n",
              "                                    path  \n",
              "13        start > 1ca > 0ca > conversion  \n",
              "27        start > 1ca > 0ca > conversion  \n",
              "36  start > 1ca > 0ca > 4ca > conversion  \n",
              "40        start > 1ca > 0ca > conversion  \n",
              "42        start > 0ca > 4ca > conversion  \n",
              "43        start > 1ca > 0ca > conversion  \n",
              "52        start > 1ca > 0ca > conversion  \n",
              "72        start > 1ca > 0ca > conversion  \n",
              "82        start > 0ca > 4ca > conversion  \n",
              "83  start > 1ca > 0ca > 4ca > conversion  "
            ],
            "text/html": [
              "\n",
              "  <div id=\"df-246e83ca-0da7-4a98-80dc-00be75805275\" class=\"colab-df-container\">\n",
              "    <div>\n",
              "<style scoped>\n",
              "    .dataframe tbody tr th:only-of-type {\n",
              "        vertical-align: middle;\n",
              "    }\n",
              "\n",
              "    .dataframe tbody tr th {\n",
              "        vertical-align: top;\n",
              "    }\n",
              "\n",
              "    .dataframe thead th {\n",
              "        text-align: right;\n",
              "    }\n",
              "</style>\n",
              "<table border=\"1\" class=\"dataframe\">\n",
              "  <thead>\n",
              "    <tr style=\"text-align: right;\">\n",
              "      <th></th>\n",
              "      <th>TransactionNo</th>\n",
              "      <th>Product_category</th>\n",
              "      <th>Prod_len</th>\n",
              "      <th>path</th>\n",
              "    </tr>\n",
              "  </thead>\n",
              "  <tbody>\n",
              "    <tr>\n",
              "      <th>13</th>\n",
              "      <td>536378</td>\n",
              "      <td>[1ca, 0ca]</td>\n",
              "      <td>2</td>\n",
              "      <td>start &gt; 1ca &gt; 0ca &gt; conversion</td>\n",
              "    </tr>\n",
              "    <tr>\n",
              "      <th>27</th>\n",
              "      <td>536395</td>\n",
              "      <td>[1ca, 0ca]</td>\n",
              "      <td>2</td>\n",
              "      <td>start &gt; 1ca &gt; 0ca &gt; conversion</td>\n",
              "    </tr>\n",
              "    <tr>\n",
              "      <th>36</th>\n",
              "      <td>536404</td>\n",
              "      <td>[1ca, 0ca, 4ca]</td>\n",
              "      <td>3</td>\n",
              "      <td>start &gt; 1ca &gt; 0ca &gt; 4ca &gt; conversion</td>\n",
              "    </tr>\n",
              "    <tr>\n",
              "      <th>40</th>\n",
              "      <td>536408</td>\n",
              "      <td>[1ca, 0ca]</td>\n",
              "      <td>2</td>\n",
              "      <td>start &gt; 1ca &gt; 0ca &gt; conversion</td>\n",
              "    </tr>\n",
              "    <tr>\n",
              "      <th>42</th>\n",
              "      <td>536412</td>\n",
              "      <td>[0ca, 4ca]</td>\n",
              "      <td>2</td>\n",
              "      <td>start &gt; 0ca &gt; 4ca &gt; conversion</td>\n",
              "    </tr>\n",
              "    <tr>\n",
              "      <th>43</th>\n",
              "      <td>536415</td>\n",
              "      <td>[1ca, 0ca]</td>\n",
              "      <td>2</td>\n",
              "      <td>start &gt; 1ca &gt; 0ca &gt; conversion</td>\n",
              "    </tr>\n",
              "    <tr>\n",
              "      <th>52</th>\n",
              "      <td>536464</td>\n",
              "      <td>[1ca, 0ca]</td>\n",
              "      <td>2</td>\n",
              "      <td>start &gt; 1ca &gt; 0ca &gt; conversion</td>\n",
              "    </tr>\n",
              "    <tr>\n",
              "      <th>72</th>\n",
              "      <td>536532</td>\n",
              "      <td>[1ca, 0ca]</td>\n",
              "      <td>2</td>\n",
              "      <td>start &gt; 1ca &gt; 0ca &gt; conversion</td>\n",
              "    </tr>\n",
              "    <tr>\n",
              "      <th>82</th>\n",
              "      <td>536542</td>\n",
              "      <td>[0ca, 4ca]</td>\n",
              "      <td>2</td>\n",
              "      <td>start &gt; 0ca &gt; 4ca &gt; conversion</td>\n",
              "    </tr>\n",
              "    <tr>\n",
              "      <th>83</th>\n",
              "      <td>536544</td>\n",
              "      <td>[1ca, 0ca, 4ca]</td>\n",
              "      <td>3</td>\n",
              "      <td>start &gt; 1ca &gt; 0ca &gt; 4ca &gt; conversion</td>\n",
              "    </tr>\n",
              "  </tbody>\n",
              "</table>\n",
              "</div>\n",
              "    <div class=\"colab-df-buttons\">\n",
              "\n",
              "  <div class=\"colab-df-container\">\n",
              "    <button class=\"colab-df-convert\" onclick=\"convertToInteractive('df-246e83ca-0da7-4a98-80dc-00be75805275')\"\n",
              "            title=\"Convert this dataframe to an interactive table.\"\n",
              "            style=\"display:none;\">\n",
              "\n",
              "  <svg xmlns=\"http://www.w3.org/2000/svg\" height=\"24px\" viewBox=\"0 -960 960 960\">\n",
              "    <path d=\"M120-120v-720h720v720H120Zm60-500h600v-160H180v160Zm220 220h160v-160H400v160Zm0 220h160v-160H400v160ZM180-400h160v-160H180v160Zm440 0h160v-160H620v160ZM180-180h160v-160H180v160Zm440 0h160v-160H620v160Z\"/>\n",
              "  </svg>\n",
              "    </button>\n",
              "\n",
              "  <style>\n",
              "    .colab-df-container {\n",
              "      display:flex;\n",
              "      gap: 12px;\n",
              "    }\n",
              "\n",
              "    .colab-df-convert {\n",
              "      background-color: #E8F0FE;\n",
              "      border: none;\n",
              "      border-radius: 50%;\n",
              "      cursor: pointer;\n",
              "      display: none;\n",
              "      fill: #1967D2;\n",
              "      height: 32px;\n",
              "      padding: 0 0 0 0;\n",
              "      width: 32px;\n",
              "    }\n",
              "\n",
              "    .colab-df-convert:hover {\n",
              "      background-color: #E2EBFA;\n",
              "      box-shadow: 0px 1px 2px rgba(60, 64, 67, 0.3), 0px 1px 3px 1px rgba(60, 64, 67, 0.15);\n",
              "      fill: #174EA6;\n",
              "    }\n",
              "\n",
              "    .colab-df-buttons div {\n",
              "      margin-bottom: 4px;\n",
              "    }\n",
              "\n",
              "    [theme=dark] .colab-df-convert {\n",
              "      background-color: #3B4455;\n",
              "      fill: #D2E3FC;\n",
              "    }\n",
              "\n",
              "    [theme=dark] .colab-df-convert:hover {\n",
              "      background-color: #434B5C;\n",
              "      box-shadow: 0px 1px 3px 1px rgba(0, 0, 0, 0.15);\n",
              "      filter: drop-shadow(0px 1px 2px rgba(0, 0, 0, 0.3));\n",
              "      fill: #FFFFFF;\n",
              "    }\n",
              "  </style>\n",
              "\n",
              "    <script>\n",
              "      const buttonEl =\n",
              "        document.querySelector('#df-246e83ca-0da7-4a98-80dc-00be75805275 button.colab-df-convert');\n",
              "      buttonEl.style.display =\n",
              "        google.colab.kernel.accessAllowed ? 'block' : 'none';\n",
              "\n",
              "      async function convertToInteractive(key) {\n",
              "        const element = document.querySelector('#df-246e83ca-0da7-4a98-80dc-00be75805275');\n",
              "        const dataTable =\n",
              "          await google.colab.kernel.invokeFunction('convertToInteractive',\n",
              "                                                    [key], {});\n",
              "        if (!dataTable) return;\n",
              "\n",
              "        const docLinkHtml = 'Like what you see? Visit the ' +\n",
              "          '<a target=\"_blank\" href=https://colab.research.google.com/notebooks/data_table.ipynb>data table notebook</a>'\n",
              "          + ' to learn more about interactive tables.';\n",
              "        element.innerHTML = '';\n",
              "        dataTable['output_type'] = 'display_data';\n",
              "        await google.colab.output.renderOutput(dataTable, element);\n",
              "        const docLink = document.createElement('div');\n",
              "        docLink.innerHTML = docLinkHtml;\n",
              "        element.appendChild(docLink);\n",
              "      }\n",
              "    </script>\n",
              "  </div>\n",
              "\n",
              "\n",
              "<div id=\"df-f58d0ee7-d4d1-43ce-93a4-d85301289600\">\n",
              "  <button class=\"colab-df-quickchart\" onclick=\"quickchart('df-f58d0ee7-d4d1-43ce-93a4-d85301289600')\"\n",
              "            title=\"Suggest charts\"\n",
              "            style=\"display:none;\">\n",
              "\n",
              "<svg xmlns=\"http://www.w3.org/2000/svg\" height=\"24px\"viewBox=\"0 0 24 24\"\n",
              "     width=\"24px\">\n",
              "    <g>\n",
              "        <path d=\"M19 3H5c-1.1 0-2 .9-2 2v14c0 1.1.9 2 2 2h14c1.1 0 2-.9 2-2V5c0-1.1-.9-2-2-2zM9 17H7v-7h2v7zm4 0h-2V7h2v10zm4 0h-2v-4h2v4z\"/>\n",
              "    </g>\n",
              "</svg>\n",
              "  </button>\n",
              "\n",
              "<style>\n",
              "  .colab-df-quickchart {\n",
              "      --bg-color: #E8F0FE;\n",
              "      --fill-color: #1967D2;\n",
              "      --hover-bg-color: #E2EBFA;\n",
              "      --hover-fill-color: #174EA6;\n",
              "      --disabled-fill-color: #AAA;\n",
              "      --disabled-bg-color: #DDD;\n",
              "  }\n",
              "\n",
              "  [theme=dark] .colab-df-quickchart {\n",
              "      --bg-color: #3B4455;\n",
              "      --fill-color: #D2E3FC;\n",
              "      --hover-bg-color: #434B5C;\n",
              "      --hover-fill-color: #FFFFFF;\n",
              "      --disabled-bg-color: #3B4455;\n",
              "      --disabled-fill-color: #666;\n",
              "  }\n",
              "\n",
              "  .colab-df-quickchart {\n",
              "    background-color: var(--bg-color);\n",
              "    border: none;\n",
              "    border-radius: 50%;\n",
              "    cursor: pointer;\n",
              "    display: none;\n",
              "    fill: var(--fill-color);\n",
              "    height: 32px;\n",
              "    padding: 0;\n",
              "    width: 32px;\n",
              "  }\n",
              "\n",
              "  .colab-df-quickchart:hover {\n",
              "    background-color: var(--hover-bg-color);\n",
              "    box-shadow: 0 1px 2px rgba(60, 64, 67, 0.3), 0 1px 3px 1px rgba(60, 64, 67, 0.15);\n",
              "    fill: var(--button-hover-fill-color);\n",
              "  }\n",
              "\n",
              "  .colab-df-quickchart-complete:disabled,\n",
              "  .colab-df-quickchart-complete:disabled:hover {\n",
              "    background-color: var(--disabled-bg-color);\n",
              "    fill: var(--disabled-fill-color);\n",
              "    box-shadow: none;\n",
              "  }\n",
              "\n",
              "  .colab-df-spinner {\n",
              "    border: 2px solid var(--fill-color);\n",
              "    border-color: transparent;\n",
              "    border-bottom-color: var(--fill-color);\n",
              "    animation:\n",
              "      spin 1s steps(1) infinite;\n",
              "  }\n",
              "\n",
              "  @keyframes spin {\n",
              "    0% {\n",
              "      border-color: transparent;\n",
              "      border-bottom-color: var(--fill-color);\n",
              "      border-left-color: var(--fill-color);\n",
              "    }\n",
              "    20% {\n",
              "      border-color: transparent;\n",
              "      border-left-color: var(--fill-color);\n",
              "      border-top-color: var(--fill-color);\n",
              "    }\n",
              "    30% {\n",
              "      border-color: transparent;\n",
              "      border-left-color: var(--fill-color);\n",
              "      border-top-color: var(--fill-color);\n",
              "      border-right-color: var(--fill-color);\n",
              "    }\n",
              "    40% {\n",
              "      border-color: transparent;\n",
              "      border-right-color: var(--fill-color);\n",
              "      border-top-color: var(--fill-color);\n",
              "    }\n",
              "    60% {\n",
              "      border-color: transparent;\n",
              "      border-right-color: var(--fill-color);\n",
              "    }\n",
              "    80% {\n",
              "      border-color: transparent;\n",
              "      border-right-color: var(--fill-color);\n",
              "      border-bottom-color: var(--fill-color);\n",
              "    }\n",
              "    90% {\n",
              "      border-color: transparent;\n",
              "      border-bottom-color: var(--fill-color);\n",
              "    }\n",
              "  }\n",
              "</style>\n",
              "\n",
              "  <script>\n",
              "    async function quickchart(key) {\n",
              "      const quickchartButtonEl =\n",
              "        document.querySelector('#' + key + ' button');\n",
              "      quickchartButtonEl.disabled = true;  // To prevent multiple clicks.\n",
              "      quickchartButtonEl.classList.add('colab-df-spinner');\n",
              "      try {\n",
              "        const charts = await google.colab.kernel.invokeFunction(\n",
              "            'suggestCharts', [key], {});\n",
              "      } catch (error) {\n",
              "        console.error('Error during call to suggestCharts:', error);\n",
              "      }\n",
              "      quickchartButtonEl.classList.remove('colab-df-spinner');\n",
              "      quickchartButtonEl.classList.add('colab-df-quickchart-complete');\n",
              "    }\n",
              "    (() => {\n",
              "      let quickchartButtonEl =\n",
              "        document.querySelector('#df-f58d0ee7-d4d1-43ce-93a4-d85301289600 button');\n",
              "      quickchartButtonEl.style.display =\n",
              "        google.colab.kernel.accessAllowed ? 'block' : 'none';\n",
              "    })();\n",
              "  </script>\n",
              "</div>\n",
              "\n",
              "    </div>\n",
              "  </div>\n"
            ],
            "application/vnd.google.colaboratory.intrinsic+json": {
              "type": "dataframe",
              "summary": "{\n  \"name\": \"# # df_1\",\n  \"rows\": 10,\n  \"fields\": [\n    {\n      \"column\": \"TransactionNo\",\n      \"properties\": {\n        \"dtype\": \"string\",\n        \"num_unique_values\": 10,\n        \"samples\": [\n          \"536542\",\n          \"536395\",\n          \"536415\"\n        ],\n        \"semantic_type\": \"\",\n        \"description\": \"\"\n      }\n    },\n    {\n      \"column\": \"Product_category\",\n      \"properties\": {\n        \"dtype\": \"object\",\n        \"semantic_type\": \"\",\n        \"description\": \"\"\n      }\n    },\n    {\n      \"column\": \"Prod_len\",\n      \"properties\": {\n        \"dtype\": \"number\",\n        \"std\": 0,\n        \"min\": 2,\n        \"max\": 3,\n        \"num_unique_values\": 2,\n        \"samples\": [\n          3,\n          2\n        ],\n        \"semantic_type\": \"\",\n        \"description\": \"\"\n      }\n    },\n    {\n      \"column\": \"path\",\n      \"properties\": {\n        \"dtype\": \"category\",\n        \"num_unique_values\": 3,\n        \"samples\": [\n          \"start > 1ca > 0ca > conversion\",\n          \"start > 1ca > 0ca > 4ca > conversion\"\n        ],\n        \"semantic_type\": \"\",\n        \"description\": \"\"\n      }\n    }\n  ]\n}"
            }
          },
          "metadata": {},
          "execution_count": 25
        }
      ]
    },
    {
      "cell_type": "markdown",
      "source": [
        "**Answer 1.8.1**"
      ],
      "metadata": {
        "id": "4BkQa__upIGS"
      }
    },
    {
      "cell_type": "code",
      "source": [
        "patterns=[' > 0ca > conversion', ' > 1ca > conversion', ' > 2ca > conversion',\n",
        "    ' > 3ca > conversion', ' > 4ca > conversion']\n",
        "\n",
        "results={pattern: df_2['path'].str.endswith(pattern).sum() for pattern in patterns}\n",
        "\n",
        "results"
      ],
      "metadata": {
        "colab": {
          "base_uri": "https://localhost:8080/"
        },
        "id": "-dL5ywl3rHf-",
        "outputId": "643a31b9-7686-4b41-b097-f18daae973e1"
      },
      "execution_count": null,
      "outputs": [
        {
          "output_type": "execute_result",
          "data": {
            "text/plain": [
              "{' > 0ca > conversion': 1045,\n",
              " ' > 1ca > conversion': 0,\n",
              " ' > 2ca > conversion': 1224,\n",
              " ' > 3ca > conversion': 335,\n",
              " ' > 4ca > conversion': 1001}"
            ]
          },
          "metadata": {},
          "execution_count": 26
        }
      ]
    },
    {
      "cell_type": "markdown",
      "source": [
        "**Answer 1.8.2**"
      ],
      "metadata": {
        "id": "3hsqqjKADYij"
      }
    },
    {
      "cell_type": "code",
      "source": [
        "patterns_to_check = [\n",
        "    '0ca > 0ca', '0ca > 1ca', '0ca > 2ca', '0ca > 3ca', '0ca > 4ca',\n",
        "    '0ca > conversion'\n",
        "]\n",
        "\n",
        "results_1={pattern: df_2['path'].str.contains(pattern).sum() for pattern in patterns_to_check}\n",
        "\n",
        "results_1"
      ],
      "metadata": {
        "colab": {
          "base_uri": "https://localhost:8080/"
        },
        "id": "z6yRFxQJCtkg",
        "outputId": "6e671cc3-674c-4cb5-dd1b-0c938d1bed6b"
      },
      "execution_count": null,
      "outputs": [
        {
          "output_type": "execute_result",
          "data": {
            "text/plain": [
              "{'0ca > 0ca': 0,\n",
              " '0ca > 1ca': 0,\n",
              " '0ca > 2ca': 958,\n",
              " '0ca > 3ca': 338,\n",
              " '0ca > 4ca': 1264,\n",
              " '0ca > conversion': 1045}"
            ]
          },
          "metadata": {},
          "execution_count": 27
        }
      ]
    },
    {
      "cell_type": "markdown",
      "source": [
        "**Answer 1.8.3**"
      ],
      "metadata": {
        "id": "2UKvS8oTDo-N"
      }
    },
    {
      "cell_type": "code",
      "source": [
        "patterns_to_check = [\n",
        "    ' > 0ca >'\n",
        "]\n",
        "\n",
        "results_2={pattern: df_2['path'].str.contains(pattern).sum() for pattern in patterns_to_check}\n",
        "\n",
        "results_2"
      ],
      "metadata": {
        "colab": {
          "base_uri": "https://localhost:8080/"
        },
        "id": "kvbIUFdzDoCZ",
        "outputId": "a9a11c28-bbe2-41c3-b068-18f7a5afaaf9"
      },
      "execution_count": null,
      "outputs": [
        {
          "output_type": "execute_result",
          "data": {
            "text/plain": [
              "{' > 0ca >': 3605}"
            ]
          },
          "metadata": {},
          "execution_count": 28
        }
      ]
    },
    {
      "cell_type": "markdown",
      "source": [
        "**Answer 1.8.4**"
      ],
      "metadata": {
        "id": "sUFseVT1FtcR"
      }
    },
    {
      "cell_type": "code",
      "source": [
        "total_sum = 0\n",
        "for pattern in results_1:\n",
        "    if results_1[pattern] != 0 and results_2[' > 0ca >'] != 0:\n",
        "        total_sum += results_1[pattern] / results_2[' > 0ca >']\n",
        "\n",
        "print(total_sum)\n"
      ],
      "metadata": {
        "colab": {
          "base_uri": "https://localhost:8080/"
        },
        "id": "Bn4FR4dvFRB3",
        "outputId": "45c542d3-11e1-4119-f6b4-d09c5d79cde3"
      },
      "execution_count": null,
      "outputs": [
        {
          "output_type": "stream",
          "name": "stdout",
          "text": [
            "1.0\n"
          ]
        }
      ]
    },
    {
      "cell_type": "markdown",
      "source": [
        "**Question 1.9**"
      ],
      "metadata": {
        "id": "XveN0yQ7U8Qv"
      }
    },
    {
      "cell_type": "code",
      "source": [
        "# remove records with quantity > 0\n",
        "print(\"Shape of data before filter\",format(df.shape))\n",
        "df_pos_quantity= df[df['Quantity']>0]\n",
        "print(\"Number of records with negative quantity\",format(df.shape[0]-df_pos_quantity.shape[0]))\n",
        "df_pos_quantity\n",
        "#find top 100 products\n",
        "df_top_100_prod=df_pos_quantity.groupby(['productName_process'],as_index=False)['Quantity'].sum().sort_values(by='Quantity',ascending=False).head(100)\n",
        "df_top_100_prod_lst=df_top_100_prod['productName_process'].to_list()\n",
        "# Filter Transactiond data for top 100 products\n",
        "df_top_100_prod_trns=df_pos_quantity[df_pos_quantity['productName_process'].isin(df_top_100_prod_lst)]\n",
        "# Create transaction level data\n",
        "df_prod_trans=df_top_100_prod_trns.pivot_table(index='TransactionNo',columns='productName_process',values='Quantity',aggfunc='sum', fill_value=0).reset_index()\n"
      ],
      "metadata": {
        "colab": {
          "base_uri": "https://localhost:8080/"
        },
        "id": "0t1o8hpTU7d1",
        "outputId": "60c8b936-d491-4912-81ab-5e325cfa8e90"
      },
      "execution_count": null,
      "outputs": [
        {
          "output_type": "stream",
          "name": "stdout",
          "text": [
            "Shape of data before filter (536350, 13)\n",
            "Number of records with negative quantity 8585\n"
          ]
        }
      ]
    },
    {
      "cell_type": "code",
      "source": [
        "df_prod_cust=df_top_100_prod_trns.pivot_table(index='CustomerNo',\n",
        "                                              columns='productName_process',\n",
        "                                              values='Quantity',aggfunc='sum', fill_value=0).reset_index()\n",
        "\n"
      ],
      "metadata": {
        "id": "OY_G24S9b57X"
      },
      "execution_count": null,
      "outputs": []
    },
    {
      "cell_type": "code",
      "source": [
        "# Extract the customer IDs and product quantities\n",
        "customer_id = df_prod_cust['CustomerNo'].tolist()\n",
        "product_quantity= df_prod_cust.drop('CustomerNo', axis=1).values\n",
        "\n",
        "# Calculate the pairwise Euclidean distance matrix\n",
        "Eucl_distance_matrix = euclidean_distances(product_quantity)\n",
        "\n",
        "#Pandas Dataframe\n",
        "Eucl_distance_df=pd.DataFrame(Eucl_distance_matrix, index=customer_id,columns=customer_id)\n",
        "Eucl_distance_df.head()"
      ],
      "metadata": {
        "id": "4rGxs2LAebqf"
      },
      "execution_count": null,
      "outputs": []
    },
    {
      "cell_type": "code",
      "source": [
        "stop"
      ],
      "metadata": {
        "id": "s3JYdS7HULyi"
      },
      "execution_count": null,
      "outputs": []
    },
    {
      "cell_type": "markdown",
      "source": [
        " **Sales Prediction**"
      ],
      "metadata": {
        "id": "0N40uoxYliKj"
      }
    },
    {
      "cell_type": "code",
      "source": [
        "df.shape"
      ],
      "metadata": {
        "id": "48CjXauAZO0q"
      },
      "execution_count": null,
      "outputs": []
    },
    {
      "cell_type": "code",
      "source": [
        "print(df['transaction_date'].min(),df['transaction_date'].max())"
      ],
      "metadata": {
        "id": "-evMAdF1ZTh5"
      },
      "execution_count": null,
      "outputs": []
    },
    {
      "cell_type": "code",
      "source": [
        "#Plot the sum of revenue on transaction_date in a line plot\n",
        "df_group=df.groupby(['transaction_date'],as_index=False)['Revenue'].sum()\n",
        "# plot the line plot\n",
        "fig,ax=plt.subplots(figsize=(12,5))\n",
        "ax=sns.lineplot(data=df_group, x='transaction_date',y='Revenue')\n",
        "ax.set_title(\"Total Revenue by Transaction Date\")\n",
        "ax.set_ylabel(\"Revenue (Millions)\")  # Set y-axis label\n",
        "ax.yaxis.set_major_formatter(lambda x, pos: f'{x / 1000000:.1f}M')\n",
        "plt.show()"
      ],
      "metadata": {
        "id": "a5e_rCQYljZj"
      },
      "execution_count": null,
      "outputs": []
    },
    {
      "cell_type": "code",
      "source": [
        "# Test Case : To check how muc data is missing.\n",
        "print(df['transaction_date'].min(),df['transaction_date'].max())\n",
        "# Calculate the difference in days\n",
        "delta = df['transaction_date'].max() - df['transaction_date'].min()\n",
        "number_of_days = delta.days+1\n",
        "\n",
        "print(f\"The number of days between {df['transaction_date'].max()} and {df['transaction_date'].min()} is: {number_of_days}\")\n",
        "\n",
        "# Creating a data frame which will have all the dates between min and max date of original data.\n",
        "date_range = pd.date_range(start=df['transaction_date'].min(), end=df['transaction_date'].max(), freq='D')\n",
        "df_dates = pd.DataFrame({'transaction_date': date_range})\n",
        "\n",
        "# Merge data with all dates with transaction dataframe so a record for missing date will be created.\n",
        "df_dates = df_dates.merge(df_group, on='transaction_date', how='left')\n",
        "print(df_group.info())\n",
        "# Get a list of dates with missing revenue.\n",
        "df_dates[df_dates['Revenue'].isnull()]['transaction_date'].unique()\n",
        "\n",
        "#fill missing records with average revenue.\n",
        "mean_val=df_dates['Revenue'].mean()\n",
        "df_dates['Revenue'] = df_dates['Revenue'].fillna(mean_val)\n",
        "\n",
        "df_dates.info()\n",
        "#set datetime index\n",
        "df_dates.set_index('transaction_date', inplace=True)"
      ],
      "metadata": {
        "id": "dqCP4GNqmAJw"
      },
      "execution_count": null,
      "outputs": []
    },
    {
      "cell_type": "code",
      "source": [
        "\n",
        "#seasonal decomoposition of time series, add extrapolate trend to avoid null values in reult\n",
        "result = seasonal_decompose(df_dates['Revenue'] , model='additive',extrapolate_trend='freq')\n",
        "seasonal_decomp_df=pd.DataFrame()\n",
        "seasonal_decomp_df['trend']=result.trend\n",
        "seasonal_decomp_df['seasonal']=result.seasonal\n",
        "seasonal_decomp_df['residual']=result.resid\n",
        "seasonal_decomp_df['observed']=result.observed\n",
        "\n",
        "# Original Series\n",
        "fig, axes = plt.subplots(4, figsize=(20, 10))\n",
        "axes[0].plot(seasonal_decomp_df['observed']);\n",
        "axes[0].set_title('Original Series')\n",
        "axes[1].plot(seasonal_decomp_df['trend']);\n",
        "axes[1].set_title('Trend Component')\n",
        "\n",
        "axes[2].plot(seasonal_decomp_df['seasonal']);\n",
        "axes[2].set_title('seasonal Component')\n",
        "\n",
        "axes[3].plot(seasonal_decomp_df['residual']);\n",
        "axes[3].set_title('Residual Series')\n",
        "\n",
        "# result.plot()\n",
        "# plt.show()\n"
      ],
      "metadata": {
        "id": "zSyOpHLgnu6b"
      },
      "execution_count": null,
      "outputs": []
    },
    {
      "cell_type": "code",
      "source": [
        "# # prompt: STL decomposition additive model\n",
        "\n",
        "# import matplotlib.pyplot as plt\n",
        "# from statsmodels.tsa.seasonal import STL\n",
        "\n",
        "# stl = STL(df_dates['Revenue'],seasonal=365)\n",
        "# res = stl.fit()\n",
        "# fig = res.plot()\n",
        "# plt.show()\n"
      ],
      "metadata": {
        "id": "b8QER8IrpL1U"
      },
      "execution_count": null,
      "outputs": []
    },
    {
      "cell_type": "code",
      "source": [
        "# !pip install \"statsmodels==0.11.1\""
      ],
      "metadata": {
        "id": "iauxy-HK4k6z"
      },
      "execution_count": null,
      "outputs": []
    },
    {
      "cell_type": "code",
      "source": [
        "import numpy as np, pandas as pd\n",
        "from statsmodels.graphics.tsaplots import plot_acf, plot_pacf\n",
        "import matplotlib.pyplot as plt\n",
        "plt.rcParams.update({'figure.figsize':(20,12), 'figure.dpi':60})\n",
        "\n",
        "\n",
        "\n",
        "# Original Series\n",
        "fig, axes = plt.subplots(3, 3)\n",
        "axes[0, 0].plot(df_dates['Revenue']);\n",
        "axes[0, 0].set_title('Original Series')\n",
        "plot_acf(df_dates['Revenue'], ax=axes[0, 1])\n",
        "plot_pacf(df_dates['Revenue'], ax=axes[0, 2])\n",
        "\n",
        "# 1st Differencing\n",
        "axes[1, 0].plot(df_dates['Revenue'].diff());\n",
        "axes[1, 0].set_title('1st Order Differencing')\n",
        "plot_acf(df_dates['Revenue'].diff().dropna(), ax=axes[1, 1])\n",
        "plot_pacf(df_dates['Revenue'].diff().dropna(), ax=axes[1, 2])\n",
        "\n",
        "\n",
        "# 2nd Differencing\n",
        "axes[2, 0].plot(df_dates['Revenue'].diff().diff());\n",
        "axes[2, 0].set_title('2nd Order Differencing')\n",
        "plot_acf(df_dates['Revenue'].diff().diff().dropna(), ax=axes[2, 1])\n",
        "plot_pacf(df_dates['Revenue'].diff().diff().dropna(), ax=axes[2, 2])\n",
        "\n",
        "\n",
        "plt.show()"
      ],
      "metadata": {
        "id": "OBlrTtzm5OTV"
      },
      "execution_count": null,
      "outputs": []
    },
    {
      "cell_type": "code",
      "source": [
        "# Experimentig with stationarity\n",
        "# ADF test\n",
        "result = adfuller(df_dates['Revenue'])\n",
        "# Print the results\n",
        "print('ADF Statistic:', result[0])\n",
        "print('p-value:', result[1])\n",
        "print('Critical Values:', result[4])\n",
        "\n",
        "# Interpret the results\n",
        "if result[1] <= 0.05:\n",
        "  print(\" Reject the null hypothesis i.e. series is likely  to be stationary\")\n",
        "else:\n",
        "   print(\" Accept the null hypothesis i.e. series is not stationary\")"
      ],
      "metadata": {
        "id": "LVrQn8djGfCs"
      },
      "execution_count": null,
      "outputs": []
    },
    {
      "cell_type": "code",
      "source": [
        "df_dates['Revenue_diff'] = df_dates['Revenue'].diff()\n",
        "df_dates['Revenue_diff_2'] = df_dates['Revenue_diff'].diff()"
      ],
      "metadata": {
        "id": "aUiKxE_FSMly"
      },
      "execution_count": null,
      "outputs": []
    },
    {
      "cell_type": "code",
      "source": [
        "# prompt: check if series is stationary after diffeencing\n",
        "\n",
        "# ADF test after 1st differencing\n",
        "result = adfuller(df_dates['Revenue_diff'].dropna())\n",
        "\n",
        "# Print the results\n",
        "print('ADF Statistic (1st Differencing):', result[0])\n",
        "print('p-value (1st Differencing):', result[1])\n",
        "print('Critical Values (1st Differencing):', result[4])\n",
        "\n",
        "# Interpret the results\n",
        "if result[1] <= 0.05:\n",
        "  print(\"Reject the null hypothesis (1st Differencing) i.e. series is likely to be stationary\")\n",
        "else:\n",
        "  print(\"Accept the null hypothesis (1st Differencing) i.e. series is not stationary\")\n",
        "\n",
        "\n",
        "# ADF test after 2nd differencing\n",
        "df_dates['Revenue_diff_2'] = df_dates['Revenue_diff'].diff()\n",
        "result = adfuller(df_dates['Revenue_diff_2'].dropna())\n",
        "\n",
        "# Print the results\n",
        "print('ADF Statistic (2nd Differencing):', result[0])\n",
        "print('p-value (2nd Differencing):', result[1])\n",
        "print('Critical Values (2nd Differencing):', result[4])\n",
        "\n",
        "# Interpret the results\n",
        "if result[1] <= 0.05:\n",
        "  print(\"Reject the null hypothesis (2nd Differencing) i.e. series is likely to be stationary\")\n",
        "else:\n",
        "  print(\"Accept the null hypothesis (2nd Differencing) i.e. series is not stationary\")\n"
      ],
      "metadata": {
        "id": "drDmmA4bSFPJ"
      },
      "execution_count": null,
      "outputs": []
    },
    {
      "cell_type": "code",
      "source": [
        "# prompt: check if series is stationary after seasonal diffeencing\n",
        "\n",
        "from statsmodels.tsa.stattools import adfuller\n",
        "\n",
        "# Assuming 'df_dates' is your DataFrame with the 'Revenue' column and 'transaction_date' as the index.\n",
        "# Calculate seasonal difference (e.g., difference between the same day of the previous year)\n",
        "df_dates['Revenue_seasonal_diff'] = df_dates['Revenue'] - df_dates['Revenue'].shift(7)\n",
        "\n",
        "# ADF test after seasonal differencing\n",
        "result = adfuller(df_dates['Revenue_seasonal_diff'].dropna())\n",
        "\n",
        "# Print the results\n",
        "print('ADF Statistic (Seasonal Differencing):', result[0])\n",
        "print('p-value (Seasonal Differencing):', result[1])\n",
        "print('Critical Values (Seasonal Differencing):', result[4])\n",
        "\n",
        "# Interpret the results\n",
        "if result[1] <= 0.05:\n",
        "    print(\"Reject the null hypothesis (Seasonal Differencing) i.e. series is likely to be stationary\")\n",
        "else:\n",
        "    print(\"Accept the null hypothesis (Seasonal Differencing) i.e. series is not stationary\")\n"
      ],
      "metadata": {
        "id": "yDToZm1cSzNw"
      },
      "execution_count": null,
      "outputs": []
    },
    {
      "cell_type": "code",
      "source": [
        "# prompt: adf to check stationarity of series\n",
        "\n",
        "from statsmodels.tsa.stattools import adfuller\n",
        "\n",
        "# Perform the ADF test\n",
        "result = adfuller(df_dates['Revenue'])\n",
        "\n",
        "# Print the results\n",
        "print('ADF Statistic:', result[0])\n",
        "print('p-value:', result[1])\n",
        "print('Critical Values:', result[4])\n",
        "\n",
        "# Interpret the results\n",
        "if result[1] <= 0.05:\n",
        "  print('The series is likely stationary.')\n",
        "else:\n",
        "  print('The series is likely non-stationary.')\n"
      ],
      "metadata": {
        "id": "kC7mpBuRGNps"
      },
      "execution_count": null,
      "outputs": []
    },
    {
      "cell_type": "code",
      "source": [
        "train=df_dates[:'2019-10-31']\n",
        "test=df_dates['2019-11-01':]\n",
        "\n",
        "# fit an ARIMA model\n",
        "model = ARIMA(train, order=(0,1,2))\n",
        "model_fit = model.fit()\n",
        "# forecast\n",
        "result = model_fit.forecast(steps=len(test))\n",
        "\n",
        "result\n",
        "\n",
        "# # summarize forecast and confidence intervals\n",
        "print('Expected: %.3f' % result.mean())\n",
        "# # print('Forecast: %.3f' % test[0])\n",
        "# print('Standard Error: %.3f' % result.se_mean)\n",
        "# ci = result.conf_int(0.05)\n",
        "# print('95%% Interval: %.3f to %.3f' % (ci[0,0], ci[0,1]))\n"
      ],
      "metadata": {
        "id": "QebfplPk8JM7"
      },
      "execution_count": null,
      "outputs": []
    },
    {
      "cell_type": "code",
      "source": [
        "result.summary()"
      ],
      "metadata": {
        "id": "bSW9TbXVIhvd"
      },
      "execution_count": null,
      "outputs": []
    },
    {
      "cell_type": "code",
      "source": [
        "from statsmodels.tsa.arima.model import ARIMA\n",
        "\n",
        "# from statsmodels.tsa.arima.model import ARIMA\n",
        "\n",
        "# 1,0,1 ARIMA Model\n",
        "model = ARIMA(df_dates['Revenue'], order=(0,1,2))\n",
        "model_fit = model.fit()\n",
        "print(model_fit.summary())"
      ],
      "metadata": {
        "id": "36_Vf-DP6HyD"
      },
      "execution_count": null,
      "outputs": []
    },
    {
      "cell_type": "code",
      "source": [],
      "metadata": {
        "id": "7f5ox9018EcD"
      },
      "execution_count": null,
      "outputs": []
    }
  ]
}